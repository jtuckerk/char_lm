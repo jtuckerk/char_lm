{
 "cells": [
  {
   "cell_type": "markdown",
   "metadata": {
    "collapsed": false
   },
   "source": [
    "### Compose state dicts to be used in composite models"
   ]
  },
  {
   "cell_type": "code",
   "execution_count": 2,
   "metadata": {
    "collapsed": false
   },
   "outputs": [],
   "source": [
    "import torch"
   ]
  },
  {
   "cell_type": "code",
   "execution_count": 3,
   "metadata": {
    "collapsed": false
   },
   "outputs": [],
   "source": [
    "# module to predict embeddings from character sequences\n",
    "exphash_emb = '2638f742c'\n",
    "sd = torch.load('../single_emb_pred/models/%s'%exphash_emb)"
   ]
  },
  {
   "cell_type": "code",
   "execution_count": 4,
   "metadata": {
    "collapsed": false
   },
   "outputs": [],
   "source": [
    "# attention module to predict the start of a token\n",
    "exphash_attn = 'b8d7b7834'\n",
    "sd2 = torch.load('../token_start_pred/models/%s'%exphash_attn)"
   ]
  },
  {
   "cell_type": "code",
   "execution_count": 5,
   "metadata": {
    "collapsed": false
   },
   "outputs": [],
   "source": [
    "sd.update(sd2)"
   ]
  },
  {
   "cell_type": "code",
   "execution_count": 6,
   "metadata": {
    "collapsed": false
   },
   "outputs": [],
   "source": [
    "new = sd.__class__()"
   ]
  },
  {
   "cell_type": "code",
   "execution_count": 7,
   "metadata": {
    "collapsed": false
   },
   "outputs": [],
   "source": [
    "src = []\n",
    "dst = []"
   ]
  },
  {
   "cell_type": "code",
   "execution_count": 8,
   "metadata": {
    "collapsed": false
   },
   "outputs": [],
   "source": [
    "src_dst_map = {k:dst[i] for i, k in enumerate(src)}"
   ]
  },
  {
   "cell_type": "code",
   "execution_count": 9,
   "metadata": {
    "collapsed": false
   },
   "outputs": [],
   "source": [
    "src_dst_map = {}"
   ]
  },
  {
   "cell_type": "code",
   "execution_count": 10,
   "metadata": {
    "collapsed": false
   },
   "outputs": [],
   "source": [
    "for k, v in sd.items():\n",
    "  new_name = 'char_embedder.' + k\n",
    "  if new_name in src_dst_map:\n",
    "    new_name = src_dst_map[new_name]\n",
    "  new[new_name] = v\n"
   ]
  },
  {
   "cell_type": "code",
   "execution_count": 11,
   "metadata": {
    "collapsed": false
   },
   "outputs": [
    {
     "data": {
      "text/plain": [
       "odict_keys(['char_embedder.tokens_to_emb.emb.weight', 'char_embedder.tokens_to_emb.segment2.convs.1.weight', 'char_embedder.tokens_to_emb.segment2.convs.1.bias', 'char_embedder.tokens_to_emb.segment2.convs.4.weight', 'char_embedder.tokens_to_emb.segment2.convs.4.bias', 'char_embedder.tokens_to_emb.segment2.convs.7.weight', 'char_embedder.tokens_to_emb.segment2.convs.7.bias', 'char_embedder.tokens_to_emb.segment2.convs.10.weight', 'char_embedder.tokens_to_emb.segment2.convs.10.bias', 'char_embedder.tokens_to_emb.final_conv.weight', 'char_embedder.tokens_to_emb.final_conv.bias', 'char_embedder.tokens_start_attn.emb.weight', 'char_embedder.tokens_start_attn.conv.convs.1.weight', 'char_embedder.tokens_start_attn.conv.convs.1.bias', 'char_embedder.tokens_start_attn.conv.convs.4.weight', 'char_embedder.tokens_start_attn.conv.convs.4.bias', 'char_embedder.tokens_start_attn.conv.convs.7.weight', 'char_embedder.tokens_start_attn.conv.convs.7.bias', 'char_embedder.tokens_start_attn.conv.convs.10.weight', 'char_embedder.tokens_start_attn.conv.convs.10.bias', 'char_embedder.tokens_start_attn.final_conv.weight', 'char_embedder.tokens_start_attn.final_conv.bias'])"
      ]
     },
     "execution_count": 11,
     "metadata": {},
     "output_type": "execute_result"
    }
   ],
   "source": [
    "new.keys()"
   ]
  },
  {
   "cell_type": "code",
   "execution_count": 12,
   "metadata": {
    "collapsed": false
   },
   "outputs": [
    {
     "data": {
      "text/plain": [
       "'models/2638f742c+b8d7b7834'"
      ]
     },
     "execution_count": 12,
     "metadata": {},
     "output_type": "execute_result"
    }
   ],
   "source": [
    "filename = 'models/%s+%s'%(exphash_emb, exphash_attn)\n",
    "torch.save(new, filename)\n",
    "filename"
   ]
  },
  {
   "cell_type": "code",
   "execution_count": null,
   "metadata": {
    "collapsed": false
   },
   "outputs": [],
   "source": []
  }
 ],
 "metadata": {
  "kernelspec": {
   "argv": [
    "/usr/bin/python3",
    "-m",
    "ipykernel_launcher",
    "-f",
    "{connection_file}"
   ],
   "display_name": "Python 3",
   "env": null,
   "interrupt_mode": "signal",
   "language": "python",
   "metadata": null,
   "name": "python3"
  },
  "name": "StateDictWorkshop.ipynb"
 },
 "nbformat": 4,
 "nbformat_minor": 2
}
