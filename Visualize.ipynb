{
 "cells": [
  {
   "cell_type": "code",
   "execution_count": 1,
   "metadata": {
    "collapsed": false
   },
   "outputs": [],
   "source": [
    "from yaml import safe_load\n",
    "from plot_results import GetFlatInfoResults, IncludeLists, GetHyperParams, GetFinalVals\n",
    "import numpy as np\n",
    "import plotly\n",
    "import plotly.graph_objs as go\n"
   ]
  },
  {
   "cell_type": "code",
   "execution_count": 10,
   "metadata": {
    "collapsed": false
   },
   "outputs": [],
   "source": [
    "files = []\n",
    "with open('viz_experiments.txt') as f:\n",
    "  for l in f.readlines():\n",
    "    files.append(l.strip())"
   ]
  },
  {
   "cell_type": "code",
   "execution_count": 11,
   "metadata": {
    "collapsed": false
   },
   "outputs": [],
   "source": [
    "results = []\n",
    "for fname in files:\n",
    "  with open(fname, 'r') as f:\n",
    "    yaml = safe_load(f.read())\n",
    "    if not yaml:\n",
    "      print(\"empty:\", f)\n",
    "    results.append(yaml)\n",
    "\n",
    "results = [r for r in results if not 'exit_info' in r]\n"
   ]
  },
  {
   "cell_type": "code",
   "execution_count": 16,
   "metadata": {
    "collapsed": false
   },
   "outputs": [],
   "source": [
    "train_results = {r['exp_info']['experiment_hash']: r['train'] for r in results}"
   ]
  },
  {
   "cell_type": "code",
   "execution_count": 17,
   "metadata": {
    "collapsed": false
   },
   "outputs": [],
   "source": [
    "flats = [GetFlatInfoResults(x, files) for x in results]"
   ]
  },
  {
   "cell_type": "code",
   "execution_count": 45,
   "metadata": {
    "collapsed": false
   },
   "outputs": [
    {
     "data": {
      "text/plain": [
       "dict_keys(['train_time', 'accuracy', 'cos_acc', 'cos_loss', 'dot_acc', 'dot_xent_loss', 'global_step', 'mse_loss', 'vmf_simp_loss', 'char_to_idx_file', 'embedding_file', 'experiment_hash', 'experiment_name', 'finished_date', 'max_mem_alloc', 'size_bytes', 'size_params', 'vocab_file', 'word_length', 'add_random_count', 'batch_size', 'char_embedding_size', 'char_vocab_size', 'conv_activation', 'dot_loss_weight', 'end_of_word_loss_weight', 'epochs', 'eval_acc', 'learning_rate', 'learning_rate_cap', 'loss_fn', 'lr_decay', 'lr_step_size', 'misspelling_rate', 'misspelling_transforms', 'mse_loss_weight', 'optimizer', 'random_seed', 'run_validation', 'seg1.kernel_size', 'seg1_type', 'space_freq', 'token_embedding_size', 'hash', 'uid', 'model_size_range_bytes', 'kernel|filter_sizes'])"
      ]
     },
     "execution_count": 45,
     "metadata": {},
     "output_type": "execute_result"
    }
   ],
   "source": [
    "flats[0].keys()"
   ]
  },
  {
   "cell_type": "code",
   "execution_count": 49,
   "metadata": {
    "collapsed": false
   },
   "outputs": [],
   "source": [
    "labels = ['train_time', 'accuracy', 'cos_acc', 'cos_loss', 'dot_acc', 'dot_xent_loss', 'global_step', 'mse_loss', 'vmf_simp_loss', 'char_to_idx_file', 'embedding_file', 'experiment_hash', 'experiment_name', 'finished_date', 'max_mem_alloc', 'size_bytes', 'size_params', 'vocab_file', 'word_length', 'add_random_count', 'batch_size', 'char_embedding_size', 'char_vocab_size', 'conv_activation', 'dot_loss_weight', 'end_of_word_loss_weight', 'epochs', 'eval_acc', 'learning_rate', 'learning_rate_cap', 'loss_fn', 'lr_decay', 'lr_step_size', 'misspelling_rate', 'misspelling_transforms', 'mse_loss_weight', 'optimizer', 'random_seed', 'run_validation', 'seg1.kernel_size', 'seg1_type', 'space_freq', 'token_embedding_size', 'hash', 'uid', 'model_size_range_bytes', 'kernel|filter_sizes']\n",
    "def ExpStr(flat):\n",
    "  s = \"\"\n",
    "  for k in labels:\n",
    "    val = flat[k]\n",
    "    if type(val)==int:\n",
    "      s+= \"%s: %d<br>\" % (k, flat[k])\n",
    "    if type(val)==float:\n",
    "      s+= \"%s: %.7f<br>\" % (k, flat[k])\n",
    "    if type(val)==str:\n",
    "      s+= \"%s: %s<br>\" % (k, flat[k])\n",
    "\n",
    "  return s"
   ]
  },
  {
   "cell_type": "code",
   "execution_count": 50,
   "metadata": {
    "collapsed": false
   },
   "outputs": [],
   "source": [
    "def ScatterOverTraining(flat, x, y):\n",
    "  h = flat['experiment_hash']\n",
    "  tr = train_results[h]\n",
    "  xs = tr[x]\n",
    "  ys = tr[y]\n",
    "  text = ExpStr(flat)\n",
    "  return {'type': 'scatter',\n",
    "          'mode': 'lines',\n",
    "          'x':xs,\n",
    "          'y':ys,\n",
    "          'showlegend':False,\n",
    "          'text': text,  'textposition':\"top left\",\n",
    "          'hoverinfo': 'text',\n",
    "          'marker': {}}\n"
   ]
  },
  {
   "cell_type": "code",
   "execution_count": 51,
   "metadata": {
    "collapsed": false
   },
   "outputs": [],
   "source": [
    "dat = ScatterOverTraining(flats[0], 'gl_step', 'accuracy')"
   ]
  },
  {
   "cell_type": "code",
   "execution_count": 52,
   "metadata": {
    "collapsed": false
   },
   "outputs": [
    {
     "data": {
      "text/plain": [
       "'/home/tucker/Downloads/tmp.html'"
      ]
     },
     "execution_count": 52,
     "metadata": {},
     "output_type": "execute_result"
    }
   ],
   "source": [
    "scatter = go.Figure(data=[dat])\n",
    "plotly.offline.plot(scatter, filename='/home/tucker/Downloads/tmp.html')\n"
   ]
  },
  {
   "cell_type": "code",
   "execution_count": 53,
   "metadata": {
    "collapsed": false
   },
   "outputs": [],
   "source": [
    "dats = []\n",
    "for f in flats:\n",
    "  dats.append(ScatterOverTraining(f, 'gl_step', 'accuracy'))"
   ]
  },
  {
   "cell_type": "code",
   "execution_count": 54,
   "metadata": {
    "collapsed": false
   },
   "outputs": [
    {
     "data": {
      "text/plain": [
       "'/home/tucker/Downloads/tmp.html'"
      ]
     },
     "execution_count": 54,
     "metadata": {},
     "output_type": "execute_result"
    }
   ],
   "source": [
    "scatter = go.Figure(data=dats)\n",
    "plotly.offline.plot(scatter, filename='/home/tucker/Downloads/tmp.html')"
   ]
  },
  {
   "cell_type": "code",
   "execution_count": 23,
   "metadata": {
    "collapsed": false
   },
   "outputs": [],
   "source": [
    "import pandas as pd"
   ]
  },
  {
   "cell_type": "code",
   "execution_count": 77,
   "metadata": {
    "collapsed": false
   },
   "outputs": [],
   "source": [
    "df = pd.read_csv('isolate_emb_vs_tok_ish/initial_acc_and_emb_pred_results.csv')"
   ]
  },
  {
   "cell_type": "code",
   "execution_count": 78,
   "metadata": {
    "collapsed": false
   },
   "outputs": [],
   "source": [
    "df['cosmse'] = df['cos_loss']/(df['mse_loss']**.01)"
   ]
  },
  {
   "cell_type": "code",
   "execution_count": 79,
   "metadata": {
    "collapsed": false
   },
   "outputs": [],
   "source": [
    "corrmat = df.corrwith(df['overall_acc'])"
   ]
  },
  {
   "cell_type": "code",
   "execution_count": 80,
   "metadata": {
    "collapsed": false
   },
   "outputs": [
    {
     "data": {
      "text/html": [
       "<div>\n",
       "<style scoped>\n",
       "    .dataframe tbody tr th:only-of-type {\n",
       "        vertical-align: middle;\n",
       "    }\n",
       "\n",
       "    .dataframe tbody tr th {\n",
       "        vertical-align: top;\n",
       "    }\n",
       "\n",
       "    .dataframe thead th {\n",
       "        text-align: right;\n",
       "    }\n",
       "</style>\n",
       "<table border=\"1\" class=\"dataframe\">\n",
       "  <thead>\n",
       "    <tr style=\"text-align: right;\">\n",
       "      <th></th>\n",
       "      <th>mse_loss</th>\n",
       "      <th>overall_acc</th>\n",
       "      <th>uid</th>\n",
       "      <th>cos_loss</th>\n",
       "    </tr>\n",
       "  </thead>\n",
       "  <tbody>\n",
       "    <tr>\n",
       "      <th>12</th>\n",
       "      <td>0.000883</td>\n",
       "      <td>0.682638</td>\n",
       "      <td>c6ce592a5</td>\n",
       "      <td>-0.949945</td>\n",
       "    </tr>\n",
       "    <tr>\n",
       "      <th>5</th>\n",
       "      <td>0.002334</td>\n",
       "      <td>0.432953</td>\n",
       "      <td>10012ffe2</td>\n",
       "      <td>-0.839984</td>\n",
       "    </tr>\n",
       "    <tr>\n",
       "      <th>13</th>\n",
       "      <td>0.002352</td>\n",
       "      <td>0.686201</td>\n",
       "      <td>3ad077b9d</td>\n",
       "      <td>-0.952266</td>\n",
       "    </tr>\n",
       "    <tr>\n",
       "      <th>1</th>\n",
       "      <td>0.002455</td>\n",
       "      <td>0.545317</td>\n",
       "      <td>82e0468a4</td>\n",
       "      <td>-0.854238</td>\n",
       "    </tr>\n",
       "    <tr>\n",
       "      <th>9</th>\n",
       "      <td>0.002501</td>\n",
       "      <td>0.561506</td>\n",
       "      <td>ef800feb9</td>\n",
       "      <td>-0.849569</td>\n",
       "    </tr>\n",
       "    <tr>\n",
       "      <th>8</th>\n",
       "      <td>0.014240</td>\n",
       "      <td>0.172716</td>\n",
       "      <td>8822634bc</td>\n",
       "      <td>-0.675679</td>\n",
       "    </tr>\n",
       "    <tr>\n",
       "      <th>11</th>\n",
       "      <td>0.015827</td>\n",
       "      <td>0.203669</td>\n",
       "      <td>3683c34d6</td>\n",
       "      <td>-0.691383</td>\n",
       "    </tr>\n",
       "    <tr>\n",
       "      <th>2</th>\n",
       "      <td>0.016105</td>\n",
       "      <td>0.251367</td>\n",
       "      <td>0c478f576</td>\n",
       "      <td>-0.705317</td>\n",
       "    </tr>\n",
       "    <tr>\n",
       "      <th>3</th>\n",
       "      <td>0.017376</td>\n",
       "      <td>0.317334</td>\n",
       "      <td>95d7b74c4</td>\n",
       "      <td>-0.726190</td>\n",
       "    </tr>\n",
       "    <tr>\n",
       "      <th>6</th>\n",
       "      <td>0.017970</td>\n",
       "      <td>0.347873</td>\n",
       "      <td>5023ef12a</td>\n",
       "      <td>-0.738165</td>\n",
       "    </tr>\n",
       "    <tr>\n",
       "      <th>10</th>\n",
       "      <td>0.018384</td>\n",
       "      <td>0.366351</td>\n",
       "      <td>f73ae6dd5</td>\n",
       "      <td>-0.729669</td>\n",
       "    </tr>\n",
       "    <tr>\n",
       "      <th>4</th>\n",
       "      <td>0.205796</td>\n",
       "      <td>0.140569</td>\n",
       "      <td>4acb058a5</td>\n",
       "      <td>-0.488890</td>\n",
       "    </tr>\n",
       "    <tr>\n",
       "      <th>7</th>\n",
       "      <td>0.222433</td>\n",
       "      <td>0.075794</td>\n",
       "      <td>e2d80a508</td>\n",
       "      <td>-0.424840</td>\n",
       "    </tr>\n",
       "    <tr>\n",
       "      <th>0</th>\n",
       "      <td>0.223909</td>\n",
       "      <td>0.107387</td>\n",
       "      <td>e8d7a0155</td>\n",
       "      <td>-0.455238</td>\n",
       "    </tr>\n",
       "  </tbody>\n",
       "</table>\n",
       "</div>"
      ],
      "text/plain": [
       "    mse_loss  overall_acc        uid  cos_loss\n",
       "12  0.000883     0.682638  c6ce592a5 -0.949945\n",
       "5   0.002334     0.432953  10012ffe2 -0.839984\n",
       "13  0.002352     0.686201  3ad077b9d -0.952266\n",
       "1   0.002455     0.545317  82e0468a4 -0.854238\n",
       "9   0.002501     0.561506  ef800feb9 -0.849569\n",
       "8   0.014240     0.172716  8822634bc -0.675679\n",
       "11  0.015827     0.203669  3683c34d6 -0.691383\n",
       "2   0.016105     0.251367  0c478f576 -0.705317\n",
       "3   0.017376     0.317334  95d7b74c4 -0.726190\n",
       "6   0.017970     0.347873  5023ef12a -0.738165\n",
       "10  0.018384     0.366351  f73ae6dd5 -0.729669\n",
       "4   0.205796     0.140569  4acb058a5 -0.488890\n",
       "7   0.222433     0.075794  e2d80a508 -0.424840\n",
       "0   0.223909     0.107387  e8d7a0155 -0.455238"
      ]
     },
     "execution_count": 80,
     "metadata": {},
     "output_type": "execute_result"
    }
   ],
   "source": [
    "df.sort_values('mse_loss')[['mse_loss', 'overall_acc', 'uid', 'cos_loss']]"
   ]
  },
  {
   "cell_type": "code",
   "execution_count": 81,
   "metadata": {
    "collapsed": false
   },
   "outputs": [
    {
     "data": {
      "text/plain": [
       "accuracy         0.541293\n",
       "cos_acc          0.860676\n",
       "cos_loss        -0.937799\n",
       "dot_acc         -0.703254\n",
       "dot_xent_loss    0.843105\n",
       "mse_loss        -0.682015\n",
       "vmf_simp_loss    0.785805\n",
       "overall_acc      1.000000\n",
       "cosmse          -0.941235\n",
       "dtype: float64"
      ]
     },
     "execution_count": 81,
     "metadata": {},
     "output_type": "execute_result"
    }
   ],
   "source": [
    "corrmat"
   ]
  },
  {
   "cell_type": "code",
   "execution_count": 1,
   "metadata": {
    "collapsed": false
   },
   "outputs": [],
   "source": [
    "import numpy as np"
   ]
  },
  {
   "cell_type": "code",
   "execution_count": 49,
   "metadata": {
    "collapsed": false
   },
   "outputs": [],
   "source": [
    "r = (np.random.rand(200000,20)>.5).astype(np.int).astype(str)"
   ]
  },
  {
   "cell_type": "code",
   "execution_count": 50,
   "metadata": {
    "collapsed": false
   },
   "outputs": [],
   "source": [
    "idxs = []\n",
    "for s in r:\n",
    "  idx = \"\".join(s).find('11')\n",
    "  if idx == -1:\n",
    "    idx = len(s)+1\n",
    "  idx+=2\n",
    "  #print(\"\".join(s), idx)\n",
    "  idxs.append(idx)"
   ]
  },
  {
   "cell_type": "code",
   "execution_count": 51,
   "metadata": {
    "collapsed": false
   },
   "outputs": [
    {
     "data": {
      "text/plain": [
       "5.967395"
      ]
     },
     "execution_count": 51,
     "metadata": {},
     "output_type": "execute_result"
    }
   ],
   "source": [
    "np.array(idxs).mean()"
   ]
  },
  {
   "cell_type": "code",
   "execution_count": 19,
   "metadata": {
    "collapsed": false
   },
   "outputs": [
    {
     "data": {
      "text/plain": [
       "'01001111000101110111'"
      ]
     },
     "execution_count": 19,
     "metadata": {},
     "output_type": "execute_result"
    }
   ],
   "source": [
    "\"\".join(r[0])"
   ]
  },
  {
   "cell_type": "code",
   "execution_count": 64,
   "metadata": {
    "collapsed": false
   },
   "outputs": [],
   "source": [
    "n=100000000\n",
    "sumn = (np.random.normal(0,1, (n))>2).sum()"
   ]
  },
  {
   "cell_type": "code",
   "execution_count": 67,
   "metadata": {
    "collapsed": false
   },
   "outputs": [
    {
     "data": {
      "text/plain": [
       "43.993501279990916"
      ]
     },
     "execution_count": 67,
     "metadata": {},
     "output_type": "execute_result"
    }
   ],
   "source": [
    "1/(sumn/n)"
   ]
  },
  {
   "cell_type": "code",
   "execution_count": 68,
   "metadata": {
    "collapsed": false
   },
   "outputs": [],
   "source": [
    "def reward_to_go(rews):\n",
    "    n = len(rews)\n",
    "    rtgs = np.zeros_like(rews)\n",
    "    for i in reversed(range(n)):\n",
    "        rtgs[i] = rews[i] + (rtgs[i+1] if i+1 < n else 0)\n",
    "    return rtgs"
   ]
  },
  {
   "cell_type": "code",
   "execution_count": 69,
   "metadata": {
    "collapsed": false
   },
   "outputs": [
    {
     "data": {
      "text/plain": [
       "array([7, 6, 6, 5, 5, 5, 5, 4, 4, 4, 3, 2, 1, 1])"
      ]
     },
     "execution_count": 69,
     "metadata": {},
     "output_type": "execute_result"
    }
   ],
   "source": [
    "reward_to_go([1,0,1,0,0,0,1,0,0,1,1,1,0,1])\n"
   ]
  },
  {
   "cell_type": "code",
   "execution_count": null,
   "metadata": {
    "collapsed": false
   },
   "outputs": [],
   "source": []
  }
 ],
 "metadata": {
  "kernelspec": {
   "argv": [
    "/usr/bin/python3",
    "-m",
    "ipykernel_launcher",
    "-f",
    "{connection_file}"
   ],
   "display_name": "Python 3",
   "env": null,
   "interrupt_mode": "signal",
   "language": "python",
   "metadata": null,
   "name": "python3"
  },
  "name": "Visualize.ipynb"
 },
 "nbformat": 4,
 "nbformat_minor": 2
}
