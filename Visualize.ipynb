{
 "cells": [
  {
   "cell_type": "code",
   "execution_count": 32,
   "metadata": {
    "collapsed": false
   },
   "outputs": [],
   "source": [
    "from yaml import safe_load\n",
    "from plot_results import GetFlatInfoResults, IncludeLists, GetHyperParams, GetFinalVals\n",
    "import numpy as np\n",
    "import plotly\n",
    "import plotly.graph_objs as go\n"
   ]
  },
  {
   "cell_type": "code",
   "execution_count": 10,
   "metadata": {
    "collapsed": false
   },
   "outputs": [],
   "source": [
    "files = []\n",
    "with open('viz_experiments.txt') as f:\n",
    "  for l in f.readlines():\n",
    "    files.append(l.strip())"
   ]
  },
  {
   "cell_type": "code",
   "execution_count": 11,
   "metadata": {
    "collapsed": false
   },
   "outputs": [],
   "source": [
    "results = []\n",
    "for fname in files:\n",
    "  with open(fname, 'r') as f:\n",
    "    yaml = safe_load(f.read())\n",
    "    if not yaml:\n",
    "      print(\"empty:\", f)\n",
    "    results.append(yaml)\n",
    "\n",
    "results = [r for r in results if not 'exit_info' in r]\n"
   ]
  },
  {
   "cell_type": "code",
   "execution_count": 16,
   "metadata": {
    "collapsed": false
   },
   "outputs": [],
   "source": [
    "train_results = {r['exp_info']['experiment_hash']: r['train'] for r in results}"
   ]
  },
  {
   "cell_type": "code",
   "execution_count": 17,
   "metadata": {
    "collapsed": false
   },
   "outputs": [],
   "source": [
    "flats = [GetFlatInfoResults(x, files) for x in results]"
   ]
  },
  {
   "cell_type": "code",
   "execution_count": 45,
   "metadata": {
    "collapsed": false
   },
   "outputs": [
    {
     "data": {
      "text/plain": [
       "dict_keys(['train_time', 'accuracy', 'cos_acc', 'cos_loss', 'dot_acc', 'dot_xent_loss', 'global_step', 'mse_loss', 'vmf_simp_loss', 'char_to_idx_file', 'embedding_file', 'experiment_hash', 'experiment_name', 'finished_date', 'max_mem_alloc', 'size_bytes', 'size_params', 'vocab_file', 'word_length', 'add_random_count', 'batch_size', 'char_embedding_size', 'char_vocab_size', 'conv_activation', 'dot_loss_weight', 'end_of_word_loss_weight', 'epochs', 'eval_acc', 'learning_rate', 'learning_rate_cap', 'loss_fn', 'lr_decay', 'lr_step_size', 'misspelling_rate', 'misspelling_transforms', 'mse_loss_weight', 'optimizer', 'random_seed', 'run_validation', 'seg1.kernel_size', 'seg1_type', 'space_freq', 'token_embedding_size', 'hash', 'uid', 'model_size_range_bytes', 'kernel|filter_sizes'])"
      ]
     },
     "execution_count": 45,
     "metadata": {},
     "output_type": "execute_result"
    }
   ],
   "source": [
    "flats[0].keys()"
   ]
  },
  {
   "cell_type": "code",
   "execution_count": 49,
   "metadata": {
    "collapsed": false
   },
   "outputs": [],
   "source": [
    "labels = ['train_time', 'accuracy', 'cos_acc', 'cos_loss', 'dot_acc', 'dot_xent_loss', 'global_step', 'mse_loss', 'vmf_simp_loss', 'char_to_idx_file', 'embedding_file', 'experiment_hash', 'experiment_name', 'finished_date', 'max_mem_alloc', 'size_bytes', 'size_params', 'vocab_file', 'word_length', 'add_random_count', 'batch_size', 'char_embedding_size', 'char_vocab_size', 'conv_activation', 'dot_loss_weight', 'end_of_word_loss_weight', 'epochs', 'eval_acc', 'learning_rate', 'learning_rate_cap', 'loss_fn', 'lr_decay', 'lr_step_size', 'misspelling_rate', 'misspelling_transforms', 'mse_loss_weight', 'optimizer', 'random_seed', 'run_validation', 'seg1.kernel_size', 'seg1_type', 'space_freq', 'token_embedding_size', 'hash', 'uid', 'model_size_range_bytes', 'kernel|filter_sizes']\n",
    "def ExpStr(flat):\n",
    "  s = \"\"\n",
    "  for k in labels:\n",
    "    val = flat[k]\n",
    "    if type(val)==int:\n",
    "      s+= \"%s: %d<br>\" % (k, flat[k])\n",
    "    if type(val)==float:\n",
    "      s+= \"%s: %.7f<br>\" % (k, flat[k])\n",
    "    if type(val)==str:\n",
    "      s+= \"%s: %s<br>\" % (k, flat[k])\n",
    "\n",
    "  return s"
   ]
  },
  {
   "cell_type": "code",
   "execution_count": 50,
   "metadata": {
    "collapsed": false
   },
   "outputs": [],
   "source": [
    "def ScatterOverTraining(flat, x, y):\n",
    "  h = flat['experiment_hash']\n",
    "  tr = train_results[h]\n",
    "  xs = tr[x]\n",
    "  ys = tr[y]\n",
    "  text = ExpStr(flat)\n",
    "  return {'type': 'scatter',\n",
    "          'mode': 'lines',\n",
    "          'x':xs,\n",
    "          'y':ys,\n",
    "          'showlegend':False,\n",
    "          'text': text,  'textposition':\"top left\",\n",
    "          'hoverinfo': 'text',\n",
    "          'marker': {}}\n"
   ]
  },
  {
   "cell_type": "code",
   "execution_count": 51,
   "metadata": {
    "collapsed": false
   },
   "outputs": [],
   "source": [
    "dat = ScatterOverTraining(flats[0], 'gl_step', 'accuracy')"
   ]
  },
  {
   "cell_type": "code",
   "execution_count": 52,
   "metadata": {
    "collapsed": false
   },
   "outputs": [
    {
     "data": {
      "text/plain": [
       "'/home/tucker/Downloads/tmp.html'"
      ]
     },
     "execution_count": 52,
     "metadata": {},
     "output_type": "execute_result"
    }
   ],
   "source": [
    "scatter = go.Figure(data=[dat])\n",
    "plotly.offline.plot(scatter, filename='/home/tucker/Downloads/tmp.html')\n"
   ]
  },
  {
   "cell_type": "code",
   "execution_count": 53,
   "metadata": {
    "collapsed": false
   },
   "outputs": [],
   "source": [
    "dats = []\n",
    "for f in flats:\n",
    "  dats.append(ScatterOverTraining(f, 'gl_step', 'accuracy'))"
   ]
  },
  {
   "cell_type": "code",
   "execution_count": 54,
   "metadata": {
    "collapsed": false
   },
   "outputs": [
    {
     "data": {
      "text/plain": [
       "'/home/tucker/Downloads/tmp.html'"
      ]
     },
     "execution_count": 54,
     "metadata": {},
     "output_type": "execute_result"
    }
   ],
   "source": [
    "scatter = go.Figure(data=dats)\n",
    "plotly.offline.plot(scatter, filename='/home/tucker/Downloads/tmp.html')"
   ]
  },
  {
   "cell_type": "code",
   "execution_count": null,
   "metadata": {
    "collapsed": false
   },
   "outputs": [],
   "source": []
  }
 ],
 "metadata": {
  "kernelspec": {
   "argv": [
    "/usr/bin/python3",
    "-m",
    "ipykernel_launcher",
    "-f",
    "{connection_file}"
   ],
   "display_name": "Python 3",
   "env": null,
   "interrupt_mode": "signal",
   "language": "python",
   "metadata": null,
   "name": "python3"
  },
  "name": "Visualize.ipynb"
 },
 "nbformat": 4,
 "nbformat_minor": 2
}
