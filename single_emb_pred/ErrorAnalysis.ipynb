{
 "cells": [
  {
   "cell_type": "code",
   "execution_count": 1,
   "metadata": {
    "collapsed": false
   },
   "outputs": [
    {
     "name": "stdout",
     "output_type": "stream",
     "text": [
      "/home/tucker/sabbatical/predict_bert_embeddings/char_lm/single_emb_pred\r\n"
     ]
    }
   ],
   "source": [
    "!pwd"
   ]
  },
  {
   "cell_type": "code",
   "execution_count": 1,
   "metadata": {
    "collapsed": false
   },
   "outputs": [],
   "source": [
    "import numpy as np\n",
    "import plotly\n",
    "import plotly.graph_objs as go\n",
    "import torch\n",
    "from torch.utils.data import DataLoader\n",
    "from experiment import Net, InitDataset, CreateModel, LoadCheckpoint\n",
    "from yaml import safe_load\n",
    "import torch.nn as nn"
   ]
  },
  {
   "cell_type": "code",
   "execution_count": 2,
   "metadata": {
    "collapsed": false
   },
   "outputs": [],
   "source": [
    "exphash = '4e8f0206f'\n",
    "\n",
    "exp = 'results/%s' % exphash\n",
    "with open(exp) as f:\n",
    "  h = safe_load(f.read())\n",
    "h = h['exp_info']  \n",
    "\n",
    "ds = InitDataset(h)\n",
    "\n",
    "\n",
    "model = CreateModel(h['hyperparameters'])\n",
    "LoadCheckpoint(model, 'models/%s'%exphash)\n",
    "\n",
    "model = model.cuda()\n"
   ]
  },
  {
   "cell_type": "code",
   "execution_count": 3,
   "metadata": {
    "collapsed": false
   },
   "outputs": [
    {
     "data": {
      "text/plain": [
       "{'char_to_idx_file': 'char_to_idx_map2.pt',\n",
       " 'embedding_file': 'distilbert_embedding_matrix.pt',\n",
       " 'experiment_hash': '4e8f0206f',\n",
       " 'experiment_name': 'single_embedding_prediction',\n",
       " 'finished_date': '2020-05-19 06:28:29.389220',\n",
       " 'hyperparameters': {'add_random_count': 0,\n",
       "  'batch_size': 128,\n",
       "  'char_embedding_size': 8,\n",
       "  'char_vocab_size': 70,\n",
       "  'conv_activation': 'relu',\n",
       "  'end_of_word_loss_weight': 0.0,\n",
       "  'epochs': 100,\n",
       "  'eval_acc': True,\n",
       "  'learning_rate': 0.0001,\n",
       "  'learning_rate_cap': 20,\n",
       "  'loss_fn': 'exp_cos',\n",
       "  'lr_decay': 1,\n",
       "  'lr_step_size': 190700,\n",
       "  'misspelling_rate': 0,\n",
       "  'misspelling_transforms': 0,\n",
       "  'model_checkpoint': 'models/3e6e7c65e',\n",
       "  'model_size_range_bytes': [0, 110000000.0],\n",
       "  'mse_loss_weight': 1,\n",
       "  'optimizer': 'adam',\n",
       "  'random_seed': 9,\n",
       "  'run_validation': True,\n",
       "  'seg1.kernel_size': 18,\n",
       "  'seg1_type': 'unfold',\n",
       "  'seg2.kernel|filter_sizes': [[1, 2048], [1, 2048], [1, 2048], [1, 2048]],\n",
       "  'space_freq': 0.5,\n",
       "  'token_embedding_size': 768,\n",
       "  'word_length': 18},\n",
       " 'max_mem_alloc': 750984704,\n",
       " 'size_bytes': 57840832,\n",
       " 'size_params': 14460208,\n",
       " 'vocab_file': 'bert-base-uncased-vocab-modmask.txt',\n",
       " 'word_length': 18}"
      ]
     },
     "execution_count": 3,
     "metadata": {},
     "output_type": "execute_result"
    }
   ],
   "source": [
    "h"
   ]
  },
  {
   "cell_type": "code",
   "execution_count": 4,
   "metadata": {
    "collapsed": false
   },
   "outputs": [],
   "source": [
    "ds.add_random_count=0"
   ]
  },
  {
   "cell_type": "code",
   "execution_count": 5,
   "metadata": {
    "collapsed": false
   },
   "outputs": [],
   "source": [
    "ds.misspelling_rate=0\n",
    "#ds.misspelling_transforms=1"
   ]
  },
  {
   "cell_type": "code",
   "execution_count": 6,
   "metadata": {
    "collapsed": false
   },
   "outputs": [],
   "source": [
    "train_loader = DataLoader(ds, batch_size=512, shuffle=False)\n",
    "train_loader.embedding_matrix = ds.embedding_matrix.cuda()"
   ]
  },
  {
   "cell_type": "code",
   "execution_count": 7,
   "metadata": {
    "collapsed": false
   },
   "outputs": [
    {
     "data": {
      "text/plain": [
       "{'target_embeddings': tensor([[ 0.0046, -0.0451, -0.0911,  ..., -0.0638, -0.0154, -0.0583],\n",
       "         [-0.0539, -0.0285, -0.0464,  ..., -0.0568, -0.0403, -0.0565],\n",
       "         [-0.0794,  0.0222, -0.0019,  ...,  0.0111,  0.0055, -0.0250],\n",
       "         ...,\n",
       "         [-0.0495, -0.0240, -0.0787,  ..., -0.0239,  0.0253, -0.0510],\n",
       "         [-0.0362, -0.0712, -0.0236,  ..., -0.0872, -0.0341, -0.0058],\n",
       "         [-0.0346,  0.0280, -0.0283,  ..., -0.0194,  0.0053,  0.0125]]),\n",
       " 'labels': tensor([3000, 3001, 3002, 3003, 3004, 3005, 3006, 3007, 3008, 3009]),\n",
       " 'end_of_word_index': tensor([3, 4, 5, 6, 2, 4, 5, 5, 4, 8]),\n",
       " 'features': tensor([[37, 34, 34,  0,  0,  0,  0,  0,  0,  0,  0,  0,  0,  0,  0,  0,  0,  0],\n",
       "         [35, 43, 39, 36,  0,  0,  0,  0,  0,  0,  0,  0,  0,  0,  0,  0,  0,  0],\n",
       "         [63, 48, 44, 61, 62,  0,  0,  0,  0,  0,  0,  0,  0,  0,  0,  0,  0,  0],\n",
       "         [62, 48, 57, 44, 63, 48,  0,  0,  0,  0,  0,  0,  0,  0,  0,  0,  0,  0],\n",
       "         [34, 34,  0,  0,  0,  0,  0,  0,  0,  0,  0,  0,  0,  0,  0,  0,  0,  0],\n",
       "         [46, 44, 61, 47,  0,  0,  0,  0,  0,  0,  0,  0,  0,  0,  0,  0,  0,  0],\n",
       "         [44, 62, 52, 44, 57,  0,  0,  0,  0,  0,  0,  0,  0,  0,  0,  0,  0,  0],\n",
       "         [44, 50, 48, 57, 63,  0,  0,  0,  0,  0,  0,  0,  0,  0,  0,  0,  0,  0],\n",
       "         [35, 43, 38, 41,  0,  0,  0,  0,  0,  0,  0,  0,  0,  0,  0,  0,  0,  0],\n",
       "         [62, 58, 49, 63, 66, 44, 61, 48,  0,  0,  0,  0,  0,  0,  0,  0,  0,  0]])}"
      ]
     },
     "execution_count": 7,
     "metadata": {},
     "output_type": "execute_result"
    }
   ],
   "source": [
    "ds[3000:3010]"
   ]
  },
  {
   "cell_type": "code",
   "execution_count": 8,
   "metadata": {
    "collapsed": false
   },
   "outputs": [],
   "source": [
    "MSE = nn.MSELoss(reduction='none')\n",
    "\n",
    "def mse_loss_fn(outputs, labels, embedding_matrix):\n",
    "  return MSE(outputs, embedding_matrix[labels]).mean(-1)\n",
    "def nearest_neighbor_acc_fn(outputs, labels, embedding_matrix):\n",
    "  # overflows memory\n",
    "  # emb_mat =embedding_matrix.unsqueeze(1).expand(-1,len(outputs),-1)\n",
    "  # diffs = ((emb_mat - outputs)**2)\n",
    "  # mse = diffs.mean(-1).permute(1,0)\n",
    "\n",
    "  # too slow\n",
    "  # MSE = torch.nn.MSELoss()\n",
    "  # mins = []\n",
    "  # for pred in outputs:\n",
    "  #   vals = []\n",
    "  #   for emb in embedding_matrix:\n",
    "  #     vals.append(MSE(emb, pred))\n",
    "  #   mse = torch.stack(vals)\n",
    "\n",
    "  # just right\n",
    "  mins = []\n",
    "  mse = torch.nn.MSELoss(reduction='none')\n",
    "  for pred in outputs:\n",
    "    # repeat the pred and compare it to each entry in the embedding matrix\n",
    "    tiled_pred = pred.unsqueeze(0).expand(len(embedding_matrix), -1)\n",
    "    mins.append(mse(tiled_pred, embedding_matrix).mean(-1).argmin())\n",
    "  min_vec = torch.stack(mins)\n",
    "  right = (min_vec == labels)\n",
    "  acc = right.float()\n",
    "\n",
    "  return acc, min_vec\n",
    "def cos_loss(out, labels, embedding_matrix):\n",
    "  targets = embedding_matrix[labels]\n",
    "  pred_normalize = out.norm(dim=-1)\n",
    "  target_normalize = targets.norm(dim=-1)\n",
    "  # batchwise matrix multiply\n",
    "  inner_prod = out.unsqueeze(1)@targets.view(-1,targets.shape[-1], 1)\n",
    "  normed = inner_prod.squeeze()/(pred_normalize*target_normalize)\n",
    "  return -1*normed\n",
    "def cosine_similarity_acc_fn(outputs, labels, embedding_matrix):\n",
    "  out_norm = outputs.norm(dim=-1)\n",
    "  emb_norm = embedding_matrix.norm(dim=-1)\n",
    "  inner_prods = outputs@embedding_matrix.T\n",
    "  n1 = inner_prods/out_norm.unsqueeze(1)\n",
    "  n2 = n1/emb_norm\n",
    "\n",
    "  preds = n2.argmax(-1)\n",
    "  right = labels==preds\n",
    "  return right.float(), preds\n"
   ]
  },
  {
   "cell_type": "code",
   "execution_count": 9,
   "metadata": {
    "collapsed": false
   },
   "outputs": [],
   "source": [
    "Torch2Py = lambda x: x.cpu().numpy().tolist()"
   ]
  },
  {
   "cell_type": "code",
   "execution_count": 14,
   "metadata": {
    "collapsed": false
   },
   "outputs": [],
   "source": [
    "def Validate(val_loader, model):\n",
    "  device = next(model.parameters()).device\n",
    "\n",
    "  cum_nearest_neighbor_acc = 0\n",
    "  cum_mse_loss = 0\n",
    "  cum_cos_loss = 0\n",
    "  cum_vmf_loss = 0  \n",
    "  cum_cos_acc = 0  \n",
    "\n",
    "  embedding_matrix = val_loader.embedding_matrix\n",
    "  \n",
    "  inputs_ = []\n",
    "  right_ = []\n",
    "  losses_ = []\n",
    "  maxes = []\n",
    "  outs = []\n",
    "  targets_ = []\n",
    "  \n",
    "  for i, data in enumerate(val_loader):\n",
    "    data = {k: d.to(device) for k,d in data.items()}\n",
    "    inputs = data['features'].to(device)\n",
    "    labels = data['labels'].long()\n",
    "    target_embeddings = data['target_embeddings']\n",
    "    targets_ += Torch2Py(target_embeddings)\n",
    "    inputs_ += Torch2Py(inputs)\n",
    "    with torch.no_grad():\n",
    "      outputs = model(inputs)\n",
    "      outs+=Torch2Py(outputs)\n",
    "      mse_loss = mse_loss_fn(outputs, labels, embedding_matrix)\n",
    "      cum_mse_loss += mse_loss.mean()\n",
    "      cos_loss_v = cos_loss(outputs, labels, embedding_matrix)\n",
    "      cum_cos_loss += cos_loss_v.mean()\n",
    "      losses_ += Torch2Py(cos_loss_v)\n",
    "\n",
    "      nearest_neighbor_acc, mins = nearest_neighbor_acc_fn(outputs, labels, embedding_matrix)\n",
    "      cos_acc, mins= cosine_similarity_acc_fn(outputs, labels, embedding_matrix)\n",
    "      maxes += mins\n",
    "      right_ += Torch2Py(cos_acc)\n",
    "      cum_cos_acc += cos_acc.mean()\n",
    "      cum_nearest_neighbor_acc += nearest_neighbor_acc.mean()\n",
    "\n",
    "  steps = i+1\n",
    "  print(cum_cos_acc/steps, cum_cos_loss/steps, cum_nearest_neighbor_acc/steps, cum_mse_loss.detach()/steps)\n",
    "  return inputs_, right_, losses_, maxes, outs, targets_\n"
   ]
  },
  {
   "cell_type": "code",
   "execution_count": 15,
   "metadata": {
    "collapsed": false
   },
   "outputs": [
    {
     "name": "stdout",
     "output_type": "stream",
     "text": [
      "tensor(0.9607, device='cuda:0') tensor(-0.9166, device='cuda:0') tensor(0.8949, device='cuda:0') tensor(0.0008, device='cuda:0')\n"
     ]
    }
   ],
   "source": [
    "ip, right, losses, maxes, outs, targets = Validate(train_loader, model)"
   ]
  },
  {
   "cell_type": "code",
   "execution_count": 37,
   "metadata": {
    "collapsed": false
   },
   "outputs": [],
   "source": [
    "out = model(next(iter(train_loader))['features'].cuda())"
   ]
  },
  {
   "cell_type": "code",
   "execution_count": 38,
   "metadata": {
    "collapsed": false
   },
   "outputs": [],
   "source": [
    "out.mean().backward()"
   ]
  },
  {
   "cell_type": "code",
   "execution_count": 38,
   "metadata": {
    "collapsed": false
   },
   "outputs": [],
   "source": []
  },
  {
   "cell_type": "code",
   "execution_count": 39,
   "metadata": {
    "collapsed": false
   },
   "outputs": [
    {
     "name": "stdout",
     "output_type": "stream",
     "text": [
      "emb.grad 0.015460983850061893\n",
      "convs.1.grad 0.03514653444290161\n",
      "convs.4.grad 0.038068849593400955\n",
      "convs.7.grad 0.07951470464468002\n",
      "convs.10.grad 0.053441330790519714\n",
      "final_conv.grad 0.015176364220678806\n"
     ]
    }
   ],
   "source": [
    "for name, w in model.named_parameters():\n",
    "  #print(name, w.grad.norm().item())\n",
    "  if 'weight' in name:\n",
    "    name = name.split('.')[1:][-3:-1]\n",
    "    name.append(\"grad\")\n",
    "    print(\".\".join(name), w.grad.norm().item())"
   ]
  },
  {
   "cell_type": "code",
   "execution_count": 40,
   "metadata": {
    "collapsed": false
   },
   "outputs": [
    {
     "data": {
      "text/plain": [
       "(26864, 26864, 26864, 26864)"
      ]
     },
     "execution_count": 40,
     "metadata": {},
     "output_type": "execute_result"
    }
   ],
   "source": [
    "len(ip), len(right), len(losses), len(maxes)"
   ]
  },
  {
   "cell_type": "code",
   "execution_count": 41,
   "metadata": {
    "collapsed": false
   },
   "outputs": [],
   "source": [
    "idx_to_char_map= {v:k for k,v in ds.char_to_idx_map.items()}"
   ]
  },
  {
   "cell_type": "code",
   "execution_count": 42,
   "metadata": {
    "collapsed": false
   },
   "outputs": [
    {
     "data": {
      "text/plain": [
       "{0: '\\x00',\n",
       " 1: ' ',\n",
       " 2: '!',\n",
       " 3: '\"',\n",
       " 4: '#',\n",
       " 5: '$',\n",
       " 6: '%',\n",
       " 7: '&',\n",
       " 8: \"'\",\n",
       " 9: '(',\n",
       " 10: ')',\n",
       " 11: '*',\n",
       " 12: '+',\n",
       " 13: ',',\n",
       " 14: '-',\n",
       " 15: '.',\n",
       " 16: '/',\n",
       " 17: ':',\n",
       " 18: ';',\n",
       " 19: '<',\n",
       " 20: '=',\n",
       " 21: '>',\n",
       " 22: '?',\n",
       " 23: '@',\n",
       " 24: '\\\\',\n",
       " 25: '^',\n",
       " 26: '_',\n",
       " 27: '`',\n",
       " 28: '{',\n",
       " 29: '|',\n",
       " 30: '}',\n",
       " 31: '~',\n",
       " 32: '[',\n",
       " 33: ']',\n",
       " 34: '0',\n",
       " 35: '1',\n",
       " 36: '2',\n",
       " 37: '3',\n",
       " 38: '4',\n",
       " 39: '5',\n",
       " 40: '6',\n",
       " 41: '7',\n",
       " 42: '8',\n",
       " 43: '9',\n",
       " 44: 'a',\n",
       " 45: 'b',\n",
       " 46: 'c',\n",
       " 47: 'd',\n",
       " 48: 'e',\n",
       " 49: 'f',\n",
       " 50: 'g',\n",
       " 51: 'h',\n",
       " 52: 'i',\n",
       " 53: 'j',\n",
       " 54: 'k',\n",
       " 55: 'l',\n",
       " 56: 'm',\n",
       " 57: 'n',\n",
       " 58: 'o',\n",
       " 59: 'p',\n",
       " 60: 'q',\n",
       " 61: 'r',\n",
       " 62: 's',\n",
       " 63: 't',\n",
       " 64: 'u',\n",
       " 65: 'v',\n",
       " 66: 'w',\n",
       " 67: 'x',\n",
       " 68: 'y',\n",
       " 69: 'z'}"
      ]
     },
     "execution_count": 42,
     "metadata": {},
     "output_type": "execute_result"
    }
   ],
   "source": [
    "idx_to_char_map"
   ]
  },
  {
   "cell_type": "code",
   "execution_count": 43,
   "metadata": {
    "collapsed": false
   },
   "outputs": [],
   "source": [
    "w = 'guitar and some ot'\n",
    "thing = []\n",
    "for c in w :\n",
    "  thing.append(ds.char_to_idx_map[c])\n",
    "len(thing)\n",
    "inp = torch.tensor(thing).unsqueeze(0)"
   ]
  },
  {
   "cell_type": "code",
   "execution_count": 44,
   "metadata": {
    "collapsed": false
   },
   "outputs": [],
   "source": [
    "inp = ds[1889]['features'].unsqueeze(0)"
   ]
  },
  {
   "cell_type": "code",
   "execution_count": 45,
   "metadata": {
    "collapsed": false
   },
   "outputs": [],
   "source": [
    "inp = torch.tensor([[50, 64, 52, 63, 44, 61,  1, 35, 41, 40, 35,  1, 58, 45, 62, 46, 48, 57]])"
   ]
  },
  {
   "cell_type": "code",
   "execution_count": 46,
   "metadata": {
    "collapsed": false
   },
   "outputs": [],
   "source": [
    "out = model(inp.cuda())"
   ]
  },
  {
   "cell_type": "code",
   "execution_count": 47,
   "metadata": {
    "collapsed": false
   },
   "outputs": [
    {
     "data": {
      "text/plain": [
       "tensor([-0.2446, -0.3177, -0.3262, -0.3796], device='cuda:0',\n",
       "       grad_fn=<SliceBackward>)"
      ]
     },
     "execution_count": 47,
     "metadata": {},
     "output_type": "execute_result"
    }
   ],
   "source": [
    "out[0][:4]"
   ]
  },
  {
   "cell_type": "code",
   "execution_count": 48,
   "metadata": {
    "collapsed": false
   },
   "outputs": [
    {
     "data": {
      "text/plain": [
       "('tokens_to_emb.emb.weight',\n",
       " Parameter containing:\n",
       " tensor([[ 9.8390e-02,  9.1889e-02, -2.5893e-05,  3.6145e-01,  3.5266e-01,\n",
       "          -2.2986e-02, -4.9383e-03,  6.1500e-02],\n",
       "         [-4.5638e-01,  1.4124e-01, -1.2117e+00,  1.3826e+00,  1.0303e+00,\n",
       "          -8.0966e-01, -8.3152e-01, -1.1542e+00],\n",
       "         [-1.4057e+00,  6.0945e-01, -1.8296e-01,  2.9706e-01,  1.0298e+00,\n",
       "           3.8821e-01, -4.3460e-01,  5.7179e-01],\n",
       "         [-1.1854e+00,  6.2961e-01, -1.5482e-02, -8.4366e-01,  1.0841e+00,\n",
       "           5.6557e-01, -1.0968e-01,  4.8560e-01],\n",
       "         [ 2.7338e-02,  2.1521e+00, -1.0621e+00,  1.4951e+00, -4.2134e-01,\n",
       "           1.9058e-01,  2.0337e-01, -2.1005e-01],\n",
       "         [ 9.1016e-01,  1.6102e-01,  4.6637e-01,  5.4526e-01,  1.2445e-01,\n",
       "           1.2887e+00,  1.4739e+00,  2.0354e-02],\n",
       "         [-6.7506e-01, -3.1335e+00,  3.7602e-01, -1.2149e-01,  1.8433e+00,\n",
       "          -9.4363e-01, -2.9536e-01,  5.5077e-01],\n",
       "         [ 4.2010e-01,  2.1282e-02,  9.4181e-01, -4.5735e-01, -6.3637e-01,\n",
       "           9.7215e-01,  1.1712e+00, -4.7419e-01],\n",
       "         [-1.6484e-01,  9.2235e-01, -8.8172e-01,  2.3235e-01, -2.9418e-01,\n",
       "          -6.0538e-01,  4.7157e-01, -4.9558e-01],\n",
       "         [ 3.6709e-01, -2.7717e-01, -6.8105e-01, -1.5174e+00,  6.3435e-01,\n",
       "          -2.0351e-01,  1.1533e+00,  3.7087e-01],\n",
       "         [-4.5635e-01,  6.1447e-01,  2.0939e-02, -1.1824e+00,  8.0918e-01,\n",
       "          -2.3046e-01, -5.4821e-02, -4.9651e-01],\n",
       "         [ 6.7677e-01, -1.7744e+00,  2.3287e-01, -8.8548e-01,  6.3961e-01,\n",
       "          -1.1990e+00, -1.8390e+00, -6.8580e-01],\n",
       "         [-4.1660e-01,  6.0366e-01,  7.4995e-01, -4.4406e-02, -6.7780e-01,\n",
       "           7.7273e-01,  4.7156e-01,  4.2665e-01],\n",
       "         [-1.5353e-01,  7.9608e-01, -1.0562e+00, -1.0453e-01, -1.5357e-01,\n",
       "           1.4489e-01, -1.7815e-02, -5.7001e-01],\n",
       "         [-1.0323e+00,  1.1561e+00, -3.1306e-01,  9.4089e-01, -3.0970e-01,\n",
       "          -6.1628e-01,  1.0079e+00, -3.6459e-01],\n",
       "         [-4.2475e-01, -9.9503e-01,  2.2566e-02,  8.7908e-01, -7.2117e-01,\n",
       "          -1.3919e+00,  5.0333e-01,  9.2331e-01],\n",
       "         [-1.0759e+00, -9.6335e-01, -1.1226e+00, -5.2160e-01, -2.7264e-01,\n",
       "           6.5554e-01,  4.4883e-01,  9.6973e-01],\n",
       "         [-3.8856e-01,  8.1665e-01, -8.4133e-01, -6.9675e-01,  6.6012e-01,\n",
       "           2.4273e+00, -4.1612e-02,  6.7672e-01],\n",
       "         [ 8.1975e-01,  1.3020e+00, -1.0885e+00, -7.9935e-01, -4.9091e-01,\n",
       "           1.0219e+00, -3.9823e-01,  5.6035e-01],\n",
       "         [-2.6411e+00,  1.5206e-01, -1.0213e+00, -1.1071e+00,  1.9991e+00,\n",
       "          -1.0800e+00, -9.7339e-01, -2.8341e-01],\n",
       "         [ 3.5173e-01,  9.1338e-01,  4.8529e-01, -2.2209e-02,  5.3267e-01,\n",
       "          -1.9524e+00, -6.0580e-01, -5.3725e-01],\n",
       "         [ 7.5058e-01, -2.3761e+00, -5.1464e-01, -5.5908e-02,  7.5247e-01,\n",
       "          -2.3746e-03, -4.4186e-01, -4.4427e-01],\n",
       "         [ 6.0469e-02, -4.6013e-01, -8.2155e-01, -1.8381e+00,  6.5390e-01,\n",
       "          -9.0103e-01,  6.5566e-02,  1.5464e+00],\n",
       "         [ 4.6591e-01, -3.1976e-01, -1.9147e+00, -4.8041e-01,  6.4012e-01,\n",
       "          -2.5451e+00,  1.2578e+00, -1.6660e-01],\n",
       "         [-1.5139e+00,  1.8128e-01,  3.8695e-01, -4.5918e-02, -3.2226e-01,\n",
       "          -1.3577e-01,  1.1332e+00, -5.8078e-01],\n",
       "         [-1.5970e+00, -2.2635e-01,  7.9222e-01,  2.5022e-01, -1.2560e+00,\n",
       "          -2.0004e-01,  1.6713e+00,  5.9609e-01],\n",
       "         [ 1.8354e+00,  7.3707e-01, -3.9776e-01, -1.4666e-01, -3.7572e-01,\n",
       "          -1.1431e+00,  1.6820e+00,  5.6727e-01],\n",
       "         [ 3.6165e-01,  6.5027e-01, -1.2281e+00, -6.0649e-01, -2.1081e+00,\n",
       "          -9.1666e-01,  4.2311e-01,  9.2532e-01],\n",
       "         [-7.8734e-01, -1.6539e+00, -7.4940e-01,  1.5293e-02,  1.2234e-01,\n",
       "           1.0838e+00,  1.4796e+00, -4.2183e-01],\n",
       "         [ 1.1608e-01, -5.9128e-01, -9.3616e-01,  4.0967e-02,  7.8571e-01,\n",
       "           1.0663e-01, -1.0367e-01,  1.4232e-01],\n",
       "         [-8.1174e-01, -3.7805e-01,  8.0712e-01,  1.1711e+00, -1.0186e-01,\n",
       "           9.8041e-02, -5.8062e-02, -1.7056e-01],\n",
       "         [-4.0085e-01,  1.3202e+00, -9.2003e-01, -9.4853e-02,  1.2048e+00,\n",
       "          -1.1731e+00, -6.4707e-01, -7.0705e-01],\n",
       "         [ 7.7400e-01,  2.8233e-01, -4.3985e-01,  1.1083e+00, -1.3998e-01,\n",
       "          -5.4378e-01,  8.4172e-01,  1.7657e-01],\n",
       "         [-3.4839e-01,  3.6246e-01, -7.1706e-01,  1.0662e+00, -3.9956e-01,\n",
       "          -8.6428e-01,  2.3186e+00,  4.6781e-01],\n",
       "         [ 4.1815e-01, -5.5285e-01, -8.5835e-01, -4.8755e-01,  2.0865e-01,\n",
       "           7.0949e-02,  1.1932e+00, -1.7891e-01],\n",
       "         [ 5.7819e-01, -4.2461e-01, -5.0196e-01,  1.1294e-01, -9.7948e-01,\n",
       "          -2.2954e-01,  4.8023e-01, -6.8887e-01],\n",
       "         [-1.3255e+00, -4.6432e-01, -1.2118e-01, -9.7519e-01,  2.2346e-01,\n",
       "          -4.3525e-01,  1.7616e-01, -7.8857e-01],\n",
       "         [-9.9650e-01,  3.2038e-01, -1.0949e-01, -8.9244e-01, -5.4627e-02,\n",
       "          -3.2120e-01, -3.6880e-01, -1.0131e+00],\n",
       "         [-6.7412e-01, -4.5069e-01,  5.0013e-01, -5.6506e-01, -2.3481e-01,\n",
       "          -3.5716e-02,  1.2617e-02, -6.3149e-01],\n",
       "         [-6.0799e-02, -1.0008e+00, -7.6337e-01, -5.0143e-01, -7.1623e-01,\n",
       "          -1.3753e-01,  2.2578e-01,  8.9185e-02],\n",
       "         [ 5.0786e-01, -9.1846e-01,  3.4969e-01, -2.9639e-01,  2.1873e-01,\n",
       "           4.5367e-01, -2.0157e-01, -1.6510e-01],\n",
       "         [ 5.0464e-01,  2.0305e-01,  4.8052e-01, -2.8646e-01,  1.4924e-01,\n",
       "           8.6177e-01, -9.2272e-01, -2.9688e-01],\n",
       "         [-1.3504e-01, -3.0263e-01,  3.1315e-02, -2.3292e-01, -7.3430e-01,\n",
       "           8.5609e-01, -4.5150e-01, -3.1319e-01],\n",
       "         [ 1.8109e-01, -7.8209e-01,  4.7249e-01,  5.3827e-01, -8.8725e-01,\n",
       "           4.9376e-01, -4.7040e-01, -3.3430e-01],\n",
       "         [ 1.3187e+00, -8.7881e-02,  2.5732e-01, -6.6965e-01, -9.5214e-02,\n",
       "          -2.7055e-01,  3.3234e-01, -7.6110e-01],\n",
       "         [ 8.1828e-01,  9.6980e-01, -1.4102e+00, -1.4432e+00, -6.5501e-02,\n",
       "          -1.8111e-01, -1.1711e+00,  5.1059e-01],\n",
       "         [ 4.0817e-02, -7.4682e-01,  1.4780e+00,  8.2860e-01, -7.0577e-01,\n",
       "          -9.9021e-01, -4.4383e-01, -6.2303e-01],\n",
       "         [-3.0971e-01,  9.2891e-01,  1.3612e-02, -3.3281e-01,  1.3328e-02,\n",
       "          -1.4996e+00,  6.7702e-01, -2.8003e-01],\n",
       "         [-2.9733e-01, -2.6511e-01, -5.7873e-01, -4.5437e-01, -1.0958e+00,\n",
       "          -4.9998e-01, -6.5966e-01,  9.1717e-02],\n",
       "         [-2.6269e-01,  3.1280e-02,  1.2523e+00,  8.6571e-01, -8.5364e-01,\n",
       "           2.0512e-01, -5.4361e-01, -5.3136e-01],\n",
       "         [-8.1066e-01,  9.7425e-01,  6.3109e-01, -4.3867e-01, -7.1394e-01,\n",
       "          -1.0078e+00,  7.4837e-02,  6.1334e-01],\n",
       "         [ 2.5505e-01,  4.2408e-01,  1.3550e+00,  9.8279e-01, -7.2900e-01,\n",
       "           2.0639e-01, -5.2093e-02,  2.8833e-01],\n",
       "         [-2.5322e-01, -7.0735e-02,  1.0392e+00, -3.8011e-01, -2.3835e-01,\n",
       "           1.0611e-01, -8.8242e-01,  9.1109e-01],\n",
       "         [-5.8243e-01, -1.2032e-01, -7.3984e-02,  7.9719e-01,  9.4315e-01,\n",
       "           1.0252e-01,  6.8374e-02, -8.2793e-01],\n",
       "         [-8.4903e-01,  7.5463e-01,  1.3225e-01,  5.7251e-01,  7.6757e-02,\n",
       "           4.2383e-01, -4.3718e-01, -1.0852e+00],\n",
       "         [-3.6485e-01,  8.8599e-01,  8.4860e-02, -6.8326e-01, -6.7329e-01,\n",
       "           1.0286e-01,  1.4712e+00, -4.2998e-01],\n",
       "         [ 8.3830e-01, -3.5520e-01, -9.2849e-01, -4.4837e-01, -5.0889e-01,\n",
       "          -7.3695e-01,  1.0313e+00,  4.1172e-01],\n",
       "         [ 4.1809e-03,  1.6114e-01, -5.6662e-02, -7.7214e-01,  7.1156e-01,\n",
       "           1.1462e-01,  2.0602e-01, -1.2200e+00],\n",
       "         [ 3.6640e-01, -9.5815e-01,  2.9828e-01, -3.2165e-01,  3.4652e-01,\n",
       "           4.5274e-02,  4.3106e-01,  9.4403e-01],\n",
       "         [ 1.2763e+00, -7.1713e-01, -3.2210e-01,  7.5211e-01, -6.8019e-01,\n",
       "          -2.2519e-01, -9.3730e-01, -6.6671e-01],\n",
       "         [ 1.5678e+00, -6.3623e-01, -1.1429e-01, -4.7618e-01, -1.1069e+00,\n",
       "          -2.4678e-01,  4.5320e-02,  3.3092e-01],\n",
       "         [-7.4432e-01, -8.0242e-01,  6.7913e-01,  2.1559e-01,  5.5733e-02,\n",
       "           2.3982e-01,  4.4020e-01,  2.6779e-01],\n",
       "         [-2.8181e-01, -1.6845e-01, -8.7561e-01,  3.7284e-01, -4.0573e-01,\n",
       "           8.6283e-01, -3.0740e-01, -4.8351e-01],\n",
       "         [-5.7084e-01, -1.2548e+00, -5.3903e-01,  1.6000e-01,  6.1822e-01,\n",
       "          -7.8002e-01,  2.0459e-01, -2.1624e-01],\n",
       "         [-6.4200e-02,  1.2175e+00, -3.4897e-02, -7.3539e-01,  3.4270e-01,\n",
       "           4.7326e-01, -1.1956e+00,  7.2396e-01],\n",
       "         [ 1.5041e+00,  1.0247e-01, -1.0441e+00,  8.8692e-01, -2.9446e-01,\n",
       "           4.1049e-01,  8.2132e-01, -2.9870e-01],\n",
       "         [-5.1193e-01,  5.2886e-01, -1.1456e+00,  5.1667e-01, -6.7671e-02,\n",
       "          -4.2630e-01,  3.2507e-01,  8.1198e-01],\n",
       "         [-4.1581e-01, -3.1210e-01, -6.8104e-01,  3.7949e-01,  8.2347e-01,\n",
       "          -1.1230e+00, -7.1858e-01, -1.3074e+00],\n",
       "         [ 5.6683e-03, -1.3300e+00, -3.9751e-02,  1.7229e-01,  1.4877e+00,\n",
       "           2.8779e-01, -1.0213e+00, -7.4800e-01],\n",
       "         [ 5.5559e-02, -4.0338e-01, -3.0093e-01,  1.7763e+00, -3.3433e-01,\n",
       "           7.7580e-01,  7.4724e-01, -1.1348e+00]], device='cuda:0',\n",
       "        requires_grad=True))"
      ]
     },
     "execution_count": 48,
     "metadata": {},
     "output_type": "execute_result"
    }
   ],
   "source": [
    "next(model.named_parameters())"
   ]
  },
  {
   "cell_type": "code",
   "execution_count": 49,
   "metadata": {
    "collapsed": false
   },
   "outputs": [],
   "source": [
    "word = (out@ds.embedding_matrix.cuda().T).argmax(-1)"
   ]
  },
  {
   "cell_type": "code",
   "execution_count": 50,
   "metadata": {
    "collapsed": false
   },
   "outputs": [
    {
     "data": {
      "text/plain": [
       "tensor([ 0.0112, -0.0349, -0.0310, -0.0237, -0.0050, -0.0360, -0.0715, -0.0289,\n",
       "        -0.0297,  0.0110])"
      ]
     },
     "execution_count": 50,
     "metadata": {},
     "output_type": "execute_result"
    }
   ],
   "source": [
    "ds.embedding_matrix[1889][:10]"
   ]
  },
  {
   "cell_type": "code",
   "execution_count": 51,
   "metadata": {
    "collapsed": false
   },
   "outputs": [
    {
     "data": {
      "text/plain": [
       "(torch.Size([1, 768]), torch.Size([768, 26864]))"
      ]
     },
     "execution_count": 51,
     "metadata": {},
     "output_type": "execute_result"
    }
   ],
   "source": [
    "out.shape, ds.embedding_matrix.cuda().T.shape"
   ]
  },
  {
   "cell_type": "code",
   "execution_count": 52,
   "metadata": {
    "collapsed": false
   },
   "outputs": [],
   "source": [
    "idx_to_tok_map = {}\n",
    "with open('../data/bert-base-uncased-vocab.txt') as f:\n",
    "  for i, l in enumerate(f.readlines()):\n",
    "    idx_to_tok_map[i] = l.strip()"
   ]
  },
  {
   "cell_type": "code",
   "execution_count": 53,
   "metadata": {
    "collapsed": false
   },
   "outputs": [],
   "source": [
    "def GetToks(encoded):\n",
    "  s = \"\"\n",
    "  for c in encoded:\n",
    "    s+= \" \" + idx_to_tok_map[c]\n",
    "  return s"
   ]
  },
  {
   "cell_type": "code",
   "execution_count": 54,
   "metadata": {
    "collapsed": false
   },
   "outputs": [
    {
     "data": {
      "text/plain": [
       "tensor([[50, 64, 52, 63, 44, 61,  1, 35, 41, 40, 35,  1, 58, 45, 62, 46, 48, 57]])"
      ]
     },
     "execution_count": 54,
     "metadata": {},
     "output_type": "execute_result"
    }
   ],
   "source": [
    "inp"
   ]
  },
  {
   "cell_type": "code",
   "execution_count": 55,
   "metadata": {
    "collapsed": false
   },
   "outputs": [
    {
     "data": {
      "text/plain": [
       "' kicker'"
      ]
     },
     "execution_count": 55,
     "metadata": {},
     "output_type": "execute_result"
    }
   ],
   "source": [
    "GetToks([Torch2Py(word)[0]])"
   ]
  },
  {
   "cell_type": "code",
   "execution_count": 56,
   "metadata": {
    "collapsed": false
   },
   "outputs": [],
   "source": [
    "def GetChars(encoded):\n",
    "  s = \"\"\n",
    "  for c in encoded:\n",
    "    s+= idx_to_char_map[c]\n",
    "  return s.replace('\\x00','_')"
   ]
  },
  {
   "cell_type": "code",
   "execution_count": 57,
   "metadata": {
    "collapsed": false
   },
   "outputs": [],
   "source": [
    "ds.add_random_count=0"
   ]
  },
  {
   "cell_type": "code",
   "execution_count": 58,
   "metadata": {
    "collapsed": false
   },
   "outputs": [],
   "source": [
    "ds.misspelling_rate=0"
   ]
  },
  {
   "cell_type": "code",
   "execution_count": 58,
   "metadata": {
    "collapsed": false
   },
   "outputs": [],
   "source": []
  },
  {
   "cell_type": "code",
   "execution_count": 59,
   "metadata": {
    "collapsed": false
   },
   "outputs": [
    {
     "name": "stdout",
     "output_type": "stream",
     "text": [
      "opera_____________\n",
      "1959______________\n",
      "graduated_________\n",
      "function__________\n"
     ]
    }
   ],
   "source": [
    "\n",
    "for i in range(2858)[-4:]:\n",
    "  print(GetChars(Torch2Py(ds[i]['features'])))"
   ]
  },
  {
   "cell_type": "code",
   "execution_count": 60,
   "metadata": {
    "collapsed": false
   },
   "outputs": [
    {
     "name": "stdout",
     "output_type": "stream",
     "text": [
      "1 |[unused0]_________ [unused0]_________ [unused929]_______ -0.992967963218689\n",
      "2 |[unused1]_________ [unused1]_________ [unused929]_______ -0.9930611848831177\n",
      "3 |[unused2]_________ [unused2]_________ [unused929]_______ -0.9940649271011353\n",
      "4 |[unused3]_________ [unused3]_________ [unused929]_______ -0.9934840202331543\n",
      "5 |[unused4]_________ [unused4]_________ [unused929]_______ -0.9923301935195923\n",
      "6 |[unused5]_________ [unused5]_________ [unused929]_______ -0.9921140670776367\n",
      "7 |[unused6]_________ [unused6]_________ [unused929]_______ -0.9926375150680542\n",
      "8 |[unused7]_________ [unused7]_________ [unused175]_______ -0.9943491816520691\n",
      "9 |[unused8]_________ [unused8]_________ [unused948]_______ -0.9933730363845825\n",
      "10 |[unused9]_________ [unused9]_________ [unused929]_______ -0.9932294487953186\n",
      "11 |[unused10]________ [unused10]________ [unused175]_______ -0.9931398630142212\n",
      "12 |[unused11]________ [unused11]________ [unused929]_______ -0.9926266670227051\n",
      "13 |[unused12]________ [unused12]________ [unused929]_______ -0.9926798343658447\n",
      "14 |[unused13]________ [unused13]________ [unused929]_______ -0.9924739599227905\n",
      "15 |[unused14]________ [unused14]________ [unused929]_______ -0.9930768609046936\n",
      "16 |[unused15]________ [unused15]________ [unused929]_______ -0.9928589463233948\n",
      "17 |[unused16]________ [unused16]________ [unused929]_______ -0.9936060905456543\n",
      "18 |[unused17]________ [unused17]________ [unused175]_______ -0.9931232333183289\n",
      "19 |[unused18]________ [unused18]________ [unused175]_______ -0.9939196705818176\n",
      "20 |[unused19]________ [unused19]________ [unused175]_______ -0.9931516647338867\n",
      "21 |[unused20]________ [unused20]________ [unused929]_______ -0.9925849437713623\n",
      "22 |[unused21]________ [unused21]________ [unused929]_______ -0.9931454658508301\n",
      "23 |[unused22]________ [unused22]________ [unused929]_______ -0.9930173754692078\n",
      "24 |[unused23]________ [unused23]________ [unused929]_______ -0.9934607744216919\n",
      "25 |[unused24]________ [unused24]________ [unused929]_______ -0.9918105602264404\n",
      "26 |[unused25]________ [unused25]________ [unused929]_______ -0.9921551942825317\n",
      "27 |[unused26]________ [unused26]________ [unused929]_______ -0.9940170049667358\n",
      "28 |[unused27]________ [unused27]________ [unused929]_______ -0.9940124154090881\n",
      "29 |[unused28]________ [unused28]________ [unused929]_______ -0.9934312105178833\n",
      "30 |[unused29]________ [unused29]________ [unused929]_______ -0.9935212731361389\n",
      "31 |[unused30]________ [unused30]________ [unused929]_______ -0.993754506111145\n",
      "32 |[unused31]________ [unused31]________ [unused929]_______ -0.9934661984443665\n",
      "33 |[unused32]________ [unused32]________ [unused929]_______ -0.9920278787612915\n",
      "34 |[unused33]________ [unused33]________ [unused929]_______ -0.9937456846237183\n",
      "35 |[unused34]________ [unused34]________ [unused929]_______ -0.9933000802993774\n",
      "36 |[unused35]________ [unused35]________ [unused929]_______ -0.9932332038879395\n",
      "37 |[unused36]________ [unused36]________ [unused929]_______ -0.9924138784408569\n",
      "38 |[unused37]________ [unused37]________ [unused929]_______ -0.99272620677948\n",
      "39 |[unused38]________ [unused38]________ [unused929]_______ -0.9934539794921875\n",
      "40 |[unused39]________ [unused39]________ [unused929]_______ -0.9937111735343933\n",
      "41 |[unused40]________ [unused40]________ [unused929]_______ -0.9931192398071289\n",
      "42 |[unused41]________ [unused41]________ [unused929]_______ -0.9922832250595093\n",
      "43 |[unused42]________ [unused42]________ [unused929]_______ -0.9937034845352173\n",
      "44 |[unused43]________ [unused43]________ [unused929]_______ -0.9926284551620483\n",
      "45 |[unused44]________ [unused44]________ [unused929]_______ -0.9935913681983948\n",
      "46 |[unused45]________ [unused45]________ [unused929]_______ -0.9930314421653748\n",
      "47 |[unused46]________ [unused46]________ [unused929]_______ -0.9929450750350952\n",
      "48 |[unused47]________ [unused47]________ [unused929]_______ -0.9924456477165222\n",
      "49 |[unused48]________ [unused48]________ [unused929]_______ -0.9932506084442139\n",
      "50 |[unused49]________ [unused49]________ [unused929]_______ -0.9928202033042908\n",
      "51 |[unused50]________ [unused50]________ [unused929]_______ -0.9923683404922485\n",
      "52 |[unused51]________ [unused51]________ [unused929]_______ -0.9922024607658386\n",
      "53 |[unused52]________ [unused52]________ [unused929]_______ -0.9923304319381714\n",
      "54 |[unused53]________ [unused53]________ [unused929]_______ -0.9930680990219116\n",
      "55 |[unused54]________ [unused54]________ [unused929]_______ -0.9925466179847717\n",
      "56 |[unused55]________ [unused55]________ [unused929]_______ -0.9933826327323914\n",
      "57 |[unused56]________ [unused56]________ [unused948]_______ -0.9943851232528687\n",
      "58 |[unused57]________ [unused57]________ [unused929]_______ -0.9932852983474731\n",
      "59 |[unused58]________ [unused58]________ [unused929]_______ -0.9925751686096191\n",
      "60 |[unused59]________ [unused59]________ [unused175]_______ -0.9936729669570923\n",
      "61 |[unused60]________ [unused60]________ [unused929]_______ -0.9928185939788818\n",
      "62 |[unused61]________ [unused61]________ [unused929]_______ -0.9931029677391052\n",
      "63 |[unused62]________ [unused62]________ [unused929]_______ -0.9930341839790344\n",
      "64 |[unused63]________ [unused63]________ [unused929]_______ -0.9924918413162231\n",
      "65 |[unused64]________ [unused64]________ [unused929]_______ -0.9926944375038147\n",
      "66 |[unused65]________ [unused65]________ [unused929]_______ -0.992073118686676\n",
      "67 |[unused66]________ [unused66]________ [unused929]_______ -0.9933037161827087\n",
      "68 |[unused67]________ [unused67]________ [unused929]_______ -0.9924410581588745\n",
      "69 |[unused68]________ [unused68]________ [unused929]_______ -0.9931043982505798\n",
      "70 |[unused69]________ [unused69]________ [unused929]_______ -0.9925629496574402\n",
      "71 |[unused70]________ [unused70]________ [unused929]_______ -0.9930534362792969\n",
      "72 |[unused71]________ [unused71]________ [unused929]_______ -0.9932354092597961\n",
      "73 |[unused72]________ [unused72]________ [unused929]_______ -0.9929121136665344\n",
      "74 |[unused73]________ [unused73]________ [unused929]_______ -0.9932233691215515\n",
      "75 |[unused74]________ [unused74]________ [unused929]_______ -0.9933748245239258\n",
      "76 |[unused75]________ [unused75]________ [unused929]_______ -0.99325031042099\n",
      "77 |[unused76]________ [unused76]________ [unused929]_______ -0.9918714761734009\n",
      "78 |[unused77]________ [unused77]________ [unused929]_______ -0.9932374358177185\n",
      "79 |[unused78]________ [unused78]________ [unused929]_______ -0.9929046034812927\n",
      "80 |[unused79]________ [unused79]________ [unused929]_______ -0.9930599927902222\n",
      "81 |[unused80]________ [unused80]________ [unused929]_______ -0.9924589395523071\n",
      "82 |[unused81]________ [unused81]________ [unused929]_______ -0.9941115975379944\n",
      "83 |[unused82]________ [unused82]________ [unused929]_______ -0.9932531118392944\n",
      "84 |[unused83]________ [unused83]________ [unused929]_______ -0.9925307631492615\n",
      "85 |[unused84]________ [unused84]________ [unused929]_______ -0.9930292367935181\n",
      "86 |[unused85]________ [unused85]________ [unused929]_______ -0.9930655360221863\n",
      "87 |[unused86]________ [unused86]________ [unused929]_______ -0.9927923679351807\n",
      "88 |[unused87]________ [unused87]________ [unused929]_______ -0.9935132265090942\n",
      "89 |[unused88]________ [unused88]________ [unused929]_______ -0.9925903677940369\n",
      "90 |[unused89]________ [unused89]________ [unused929]_______ -0.9931976199150085\n",
      "91 |[unused90]________ [unused90]________ [unused660]_______ -0.992264986038208\n",
      "92 |[unused91]________ [unused91]________ [unused929]_______ -0.9927588105201721\n",
      "93 |[unused92]________ [unused92]________ [unused929]_______ -0.9929738640785217\n",
      "94 |[unused93]________ [unused93]________ [unused929]_______ -0.9935103058815002\n",
      "95 |[unused94]________ [unused94]________ [unused929]_______ -0.992356538772583\n",
      "96 |[unused95]________ [unused95]________ [unused929]_______ -0.993609607219696\n",
      "97 |[unused96]________ [unused96]________ [unused929]_______ -0.9932541847229004\n",
      "98 |[unused97]________ [unused97]________ [unused929]_______ -0.9929380416870117\n",
      "99 |[unused98]________ [unused98]________ [unused929]_______ -0.9930478930473328\n",
      "104 |[unused99]________ [unused99]________ [unused929]_______ -0.993583083152771\n",
      "105 |[unused100]_______ [unused100]_______ [unused929]_______ -0.9913420677185059\n",
      "106 |[unused101]_______ [unused101]_______ [unused929]_______ -0.9938303828239441\n",
      "107 |[unused102]_______ [unused102]_______ [unused929]_______ -0.9937455654144287\n",
      "108 |[unused103]_______ [unused103]_______ [unused929]_______ -0.9932090044021606\n",
      "109 |[unused104]_______ [unused104]_______ [unused929]_______ -0.9931598901748657\n",
      "110 |[unused105]_______ [unused105]_______ [unused929]_______ -0.9933558106422424\n",
      "111 |[unused106]_______ [unused106]_______ [unused929]_______ -0.9928556084632874\n",
      "112 |[unused107]_______ [unused107]_______ [unused929]_______ -0.9935204982757568\n",
      "113 |[unused108]_______ [unused108]_______ [unused929]_______ -0.9924589395523071\n",
      "114 |[unused109]_______ [unused109]_______ [unused929]_______ -0.9924620985984802\n",
      "115 |[unused110]_______ [unused110]_______ [unused929]_______ -0.9920008182525635\n",
      "116 |[unused111]_______ [unused111]_______ [unused929]_______ -0.9929946660995483\n",
      "117 |[unused112]_______ [unused112]_______ [unused929]_______ -0.9933218359947205\n",
      "118 |[unused113]_______ [unused113]_______ [unused929]_______ -0.9932373762130737\n",
      "119 |[unused114]_______ [unused114]_______ [unused929]_______ -0.9940185546875\n",
      "120 |[unused115]_______ [unused115]_______ [unused929]_______ -0.9941765069961548\n",
      "121 |[unused116]_______ [unused116]_______ [unused929]_______ -0.9930964708328247\n",
      "122 |[unused117]_______ [unused117]_______ [unused929]_______ -0.9931696653366089\n",
      "123 |[unused118]_______ [unused118]_______ [unused929]_______ -0.9927725791931152\n",
      "124 |[unused119]_______ [unused119]_______ [unused929]_______ -0.992372453212738\n",
      "125 |[unused120]_______ [unused120]_______ [unused929]_______ -0.9938849210739136\n",
      "126 |[unused121]_______ [unused121]_______ [unused929]_______ -0.9922218322753906\n",
      "127 |[unused122]_______ [unused122]_______ [unused929]_______ -0.9916819334030151\n",
      "128 |[unused123]_______ [unused123]_______ [unused929]_______ -0.9920674562454224\n",
      "129 |[unused124]_______ [unused124]_______ [unused929]_______ -0.9935349225997925\n",
      "130 |[unused125]_______ [unused125]_______ [unused929]_______ -0.993496835231781\n",
      "131 |[unused126]_______ [unused126]_______ [unused929]_______ -0.9932030439376831\n",
      "132 |[unused127]_______ [unused127]_______ [unused929]_______ -0.9934399724006653\n",
      "133 |[unused128]_______ [unused128]_______ [unused929]_______ -0.9939053654670715\n",
      "134 |[unused129]_______ [unused129]_______ [unused929]_______ -0.9926732778549194\n",
      "135 |[unused130]_______ [unused130]_______ [unused929]_______ -0.9925714135169983\n",
      "136 |[unused131]_______ [unused131]_______ [unused929]_______ -0.9922229647636414\n",
      "137 |[unused132]_______ [unused132]_______ [unused929]_______ -0.9932360053062439\n",
      "138 |[unused133]_______ [unused133]_______ [unused929]_______ -0.9937384724617004\n",
      "139 |[unused134]_______ [unused134]_______ [unused929]_______ -0.9924323558807373\n",
      "140 |[unused135]_______ [unused135]_______ [unused929]_______ -0.9932501912117004\n",
      "141 |[unused136]_______ [unused136]_______ [unused929]_______ -0.9937439560890198\n",
      "142 |[unused137]_______ [unused137]_______ [unused929]_______ -0.9930591583251953\n",
      "143 |[unused138]_______ [unused138]_______ [unused929]_______ -0.993982195854187\n",
      "144 |[unused139]_______ [unused139]_______ [unused929]_______ -0.9927471876144409\n",
      "145 |[unused140]_______ [unused140]_______ [unused929]_______ -0.991675853729248\n",
      "146 |[unused141]_______ [unused141]_______ [unused929]_______ -0.9927358627319336\n",
      "147 |[unused142]_______ [unused142]_______ [unused929]_______ -0.9930487871170044\n",
      "148 |[unused143]_______ [unused143]_______ [unused929]_______ -0.9930814504623413\n",
      "149 |[unused144]_______ [unused144]_______ [unused929]_______ -0.9933628439903259\n",
      "150 |[unused145]_______ [unused145]_______ [unused929]_______ -0.9927971959114075\n",
      "151 |[unused146]_______ [unused146]_______ [unused929]_______ -0.9940620064735413\n",
      "152 |[unused147]_______ [unused147]_______ [unused929]_______ -0.9934406876564026\n",
      "153 |[unused148]_______ [unused148]_______ [unused929]_______ -0.992777407169342\n",
      "154 |[unused149]_______ [unused149]_______ [unused929]_______ -0.9915045499801636\n",
      "155 |[unused150]_______ [unused150]_______ [unused929]_______ -0.9936463832855225\n",
      "156 |[unused151]_______ [unused151]_______ [unused929]_______ -0.9931812286376953\n",
      "157 |[unused152]_______ [unused152]_______ [unused929]_______ -0.993479311466217\n",
      "158 |[unused153]_______ [unused153]_______ [unused929]_______ -0.9926455020904541\n",
      "159 |[unused154]_______ [unused154]_______ [unused929]_______ -0.992878258228302\n",
      "160 |[unused155]_______ [unused155]_______ [unused929]_______ -0.9935187697410583\n",
      "161 |[unused156]_______ [unused156]_______ [unused929]_______ -0.993247389793396\n",
      "162 |[unused157]_______ [unused157]_______ [unused929]_______ -0.9925663471221924\n",
      "163 |[unused158]_______ [unused158]_______ [unused929]_______ -0.9922187328338623\n",
      "164 |[unused159]_______ [unused159]_______ [unused929]_______ -0.993518054485321\n",
      "165 |[unused160]_______ [unused160]_______ [unused929]_______ -0.9934852123260498\n",
      "166 |[unused161]_______ [unused161]_______ [unused929]_______ -0.9931958913803101\n",
      "167 |[unused162]_______ [unused162]_______ [unused929]_______ -0.9925999641418457\n",
      "168 |[unused163]_______ [unused163]_______ [unused929]_______ -0.9940849542617798\n",
      "169 |[unused164]_______ [unused164]_______ [unused929]_______ -0.9931613802909851\n",
      "170 |[unused165]_______ [unused165]_______ [unused929]_______ -0.9922434091567993\n",
      "171 |[unused166]_______ [unused166]_______ [unused929]_______ -0.9931880831718445\n",
      "172 |[unused167]_______ [unused167]_______ [unused929]_______ -0.992417573928833\n",
      "173 |[unused168]_______ [unused168]_______ [unused929]_______ -0.9940289855003357\n",
      "174 |[unused169]_______ [unused169]_______ [unused929]_______ -0.9941271543502808\n",
      "175 |[unused170]_______ [unused170]_______ [unused175]_______ -0.9938570857048035\n",
      "176 |[unused171]_______ [unused171]_______ [unused175]_______ -0.993317723274231\n",
      "177 |[unused172]_______ [unused172]_______ [unused929]_______ -0.9925218820571899\n",
      "178 |[unused173]_______ [unused173]_______ [unused929]_______ -0.9927928447723389\n",
      "179 |[unused174]_______ [unused174]_______ [unused175]_______ -0.992896556854248\n",
      "181 |[unused176]_______ [unused176]_______ [unused175]_______ -0.9922086000442505\n",
      "182 |[unused177]_______ [unused177]_______ [unused929]_______ -0.9933812618255615\n",
      "183 |[unused178]_______ [unused178]_______ [unused929]_______ -0.9930749535560608\n",
      "184 |[unused179]_______ [unused179]_______ [unused175]_______ -0.9938614964485168\n",
      "185 |[unused180]_______ [unused180]_______ [unused929]_______ -0.9939360022544861\n",
      "186 |[unused181]_______ [unused181]_______ [unused929]_______ -0.9928463101387024\n",
      "187 |[unused182]_______ [unused182]_______ [unused929]_______ -0.9929445385932922\n",
      "188 |[unused183]_______ [unused183]_______ [unused929]_______ -0.9933595061302185\n",
      "189 |[unused184]_______ [unused184]_______ [unused929]_______ -0.9931474328041077\n",
      "190 |[unused185]_______ [unused185]_______ [unused929]_______ -0.9937394261360168\n",
      "191 |[unused186]_______ [unused186]_______ [unused929]_______ -0.9927195310592651\n",
      "192 |[unused187]_______ [unused187]_______ [unused929]_______ -0.9939281344413757\n",
      "193 |[unused188]_______ [unused188]_______ [unused929]_______ -0.993097186088562\n",
      "194 |[unused189]_______ [unused189]_______ [unused929]_______ -0.9928915500640869\n",
      "195 |[unused190]_______ [unused190]_______ [unused929]_______ -0.9930192828178406\n",
      "196 |[unused191]_______ [unused191]_______ [unused929]_______ -0.9923591613769531\n",
      "197 |[unused192]_______ [unused192]_______ [unused929]_______ -0.993639349937439\n",
      "198 |[unused193]_______ [unused193]_______ [unused929]_______ -0.9935840368270874\n",
      "199 |[unused194]_______ [unused194]_______ [unused929]_______ -0.9940029978752136\n",
      "200 |[unused195]_______ [unused195]_______ [unused929]_______ -0.9931319952011108\n",
      "201 |[unused196]_______ [unused196]_______ [unused929]_______ -0.9934297204017639\n",
      "202 |[unused197]_______ [unused197]_______ [unused929]_______ -0.9931233525276184\n",
      "203 |[unused198]_______ [unused198]_______ [unused929]_______ -0.9929559826850891\n",
      "204 |[unused199]_______ [unused199]_______ [unused929]_______ -0.993008017539978\n",
      "205 |[unused200]_______ [unused200]_______ [unused929]_______ -0.9927002787590027\n",
      "206 |[unused201]_______ [unused201]_______ [unused929]_______ -0.9933016300201416\n",
      "207 |[unused202]_______ [unused202]_______ [unused929]_______ -0.993307888507843\n",
      "208 |[unused203]_______ [unused203]_______ [unused929]_______ -0.9938135147094727\n",
      "209 |[unused204]_______ [unused204]_______ [unused929]_______ -0.9930016994476318\n",
      "210 |[unused205]_______ [unused205]_______ [unused929]_______ -0.9930219054222107\n",
      "211 |[unused206]_______ [unused206]_______ [unused929]_______ -0.9928372502326965\n",
      "212 |[unused207]_______ [unused207]_______ [unused929]_______ -0.9920488595962524\n",
      "213 |[unused208]_______ [unused208]_______ [unused929]_______ -0.9930264949798584\n",
      "214 |[unused209]_______ [unused209]_______ [unused929]_______ -0.9935110211372375\n",
      "215 |[unused210]_______ [unused210]_______ [unused929]_______ -0.9929581880569458\n",
      "216 |[unused211]_______ [unused211]_______ [unused929]_______ -0.9922220706939697\n",
      "217 |[unused212]_______ [unused212]_______ [unused929]_______ -0.9927976727485657\n",
      "218 |[unused213]_______ [unused213]_______ [unused929]_______ -0.9930980801582336\n",
      "219 |[unused214]_______ [unused214]_______ [unused929]_______ -0.9942233562469482\n",
      "220 |[unused215]_______ [unused215]_______ [unused929]_______ -0.9936233162879944\n",
      "221 |[unused216]_______ [unused216]_______ [unused929]_______ -0.9920737147331238\n",
      "222 |[unused217]_______ [unused217]_______ [unused929]_______ -0.9926129579544067\n",
      "223 |[unused218]_______ [unused218]_______ [unused929]_______ -0.9932169318199158\n",
      "224 |[unused219]_______ [unused219]_______ [unused929]_______ -0.9926286935806274\n",
      "225 |[unused220]_______ [unused220]_______ [unused929]_______ -0.9929208755493164\n",
      "226 |[unused221]_______ [unused221]_______ [unused929]_______ -0.9934828281402588\n",
      "227 |[unused222]_______ [unused222]_______ [unused929]_______ -0.9938220977783203\n",
      "228 |[unused223]_______ [unused223]_______ [unused929]_______ -0.9932027459144592\n",
      "229 |[unused224]_______ [unused224]_______ [unused929]_______ -0.9918994307518005\n",
      "230 |[unused225]_______ [unused225]_______ [unused929]_______ -0.9921579957008362\n",
      "231 |[unused226]_______ [unused226]_______ [unused929]_______ -0.9938997626304626\n",
      "232 |[unused227]_______ [unused227]_______ [unused929]_______ -0.9932852983474731\n",
      "233 |[unused228]_______ [unused228]_______ [unused929]_______ -0.9929932355880737\n",
      "234 |[unused229]_______ [unused229]_______ [unused929]_______ -0.9933633804321289\n",
      "235 |[unused230]_______ [unused230]_______ [unused929]_______ -0.9932101964950562\n",
      "236 |[unused231]_______ [unused231]_______ [unused929]_______ -0.9925095438957214\n",
      "237 |[unused232]_______ [unused232]_______ [unused929]_______ -0.9935785531997681\n",
      "238 |[unused233]_______ [unused233]_______ [unused929]_______ -0.993919849395752\n",
      "239 |[unused234]_______ [unused234]_______ [unused929]_______ -0.9930181503295898\n",
      "240 |[unused235]_______ [unused235]_______ [unused929]_______ -0.9937689900398254\n",
      "241 |[unused236]_______ [unused236]_______ [unused929]_______ -0.9933083057403564\n",
      "242 |[unused237]_______ [unused237]_______ [unused929]_______ -0.9924074411392212\n",
      "243 |[unused238]_______ [unused238]_______ [unused929]_______ -0.9928570985794067\n",
      "244 |[unused239]_______ [unused239]_______ [unused929]_______ -0.9937103390693665\n",
      "245 |[unused240]_______ [unused240]_______ [unused929]_______ -0.9923307299613953\n",
      "246 |[unused241]_______ [unused241]_______ [unused929]_______ -0.993159830570221\n",
      "247 |[unused242]_______ [unused242]_______ [unused929]_______ -0.9914514422416687\n",
      "248 |[unused243]_______ [unused243]_______ [unused929]_______ -0.9928904175758362\n",
      "249 |[unused244]_______ [unused244]_______ [unused929]_______ -0.9940052032470703\n",
      "250 |[unused245]_______ [unused245]_______ [unused929]_______ -0.9937129020690918\n",
      "251 |[unused246]_______ [unused246]_______ [unused929]_______ -0.9935394525527954\n",
      "252 |[unused247]_______ [unused247]_______ [unused929]_______ -0.9931285977363586\n",
      "253 |[unused248]_______ [unused248]_______ [unused929]_______ -0.9933940768241882\n",
      "254 |[unused249]_______ [unused249]_______ [unused929]_______ -0.9929180145263672\n",
      "255 |[unused250]_______ [unused250]_______ [unused929]_______ -0.9932881593704224\n",
      "256 |[unused251]_______ [unused251]_______ [unused929]_______ -0.992459237575531\n",
      "257 |[unused252]_______ [unused252]_______ [unused929]_______ -0.9931795597076416\n",
      "258 |[unused253]_______ [unused253]_______ [unused929]_______ -0.9936701059341431\n",
      "259 |[unused254]_______ [unused254]_______ [unused929]_______ -0.9938470125198364\n",
      "260 |[unused255]_______ [unused255]_______ [unused929]_______ -0.9935424327850342\n",
      "261 |[unused256]_______ [unused256]_______ [unused929]_______ -0.9928339719772339\n",
      "262 |[unused257]_______ [unused257]_______ [unused929]_______ -0.9933792948722839\n",
      "263 |[unused258]_______ [unused258]_______ [unused929]_______ -0.9924107193946838\n",
      "264 |[unused259]_______ [unused259]_______ [unused929]_______ -0.9916465282440186\n",
      "265 |[unused260]_______ [unused260]_______ [unused929]_______ -0.9936681985855103\n",
      "266 |[unused261]_______ [unused261]_______ [unused929]_______ -0.993374228477478\n",
      "267 |[unused262]_______ [unused262]_______ [unused929]_______ -0.9933882355690002\n",
      "268 |[unused263]_______ [unused263]_______ [unused929]_______ -0.9921447038650513\n",
      "269 |[unused264]_______ [unused264]_______ [unused929]_______ -0.9935820698738098\n",
      "270 |[unused265]_______ [unused265]_______ [unused929]_______ -0.9928880929946899\n",
      "271 |[unused266]_______ [unused266]_______ [unused929]_______ -0.9927980899810791\n",
      "272 |[unused267]_______ [unused267]_______ [unused929]_______ -0.9929354786872864\n",
      "273 |[unused268]_______ [unused268]_______ [unused929]_______ -0.9921602010726929\n",
      "274 |[unused269]_______ [unused269]_______ [unused929]_______ -0.9925487637519836\n",
      "275 |[unused270]_______ [unused270]_______ [unused929]_______ -0.9935126304626465\n",
      "276 |[unused271]_______ [unused271]_______ [unused929]_______ -0.9920051097869873\n",
      "277 |[unused272]_______ [unused272]_______ [unused929]_______ -0.9937350153923035\n",
      "278 |[unused273]_______ [unused273]_______ [unused929]_______ -0.9929380416870117\n",
      "279 |[unused274]_______ [unused274]_______ [unused175]_______ -0.9928839206695557\n",
      "280 |[unused275]_______ [unused275]_______ [unused929]_______ -0.9933580160140991\n",
      "281 |[unused276]_______ [unused276]_______ [unused929]_______ -0.9933623671531677\n",
      "282 |[unused277]_______ [unused277]_______ [unused929]_______ -0.993133008480072\n",
      "283 |[unused278]_______ [unused278]_______ [unused929]_______ -0.9934639930725098\n",
      "284 |[unused279]_______ [unused279]_______ [unused929]_______ -0.9932752251625061\n",
      "285 |[unused280]_______ [unused280]_______ [unused929]_______ -0.9939220547676086\n",
      "286 |[unused281]_______ [unused281]_______ [unused929]_______ -0.9931954741477966\n",
      "287 |[unused282]_______ [unused282]_______ [unused929]_______ -0.9936226010322571\n",
      "288 |[unused283]_______ [unused283]_______ [unused660]_______ -0.992906928062439\n",
      "289 |[unused284]_______ [unused284]_______ [unused929]_______ -0.9927896857261658\n",
      "290 |[unused285]_______ [unused285]_______ [unused929]_______ -0.9938280582427979\n",
      "291 |[unused286]_______ [unused286]_______ [unused929]_______ -0.9932011961936951\n",
      "292 |[unused287]_______ [unused287]_______ [unused929]_______ -0.9915485382080078\n",
      "293 |[unused288]_______ [unused288]_______ [unused929]_______ -0.993334174156189\n",
      "294 |[unused289]_______ [unused289]_______ [unused929]_______ -0.9939621090888977\n",
      "295 |[unused290]_______ [unused290]_______ [unused929]_______ -0.9931215047836304\n",
      "296 |[unused291]_______ [unused291]_______ [unused929]_______ -0.9933837652206421\n",
      "297 |[unused292]_______ [unused292]_______ [unused929]_______ -0.9930678009986877\n",
      "298 |[unused293]_______ [unused293]_______ [unused929]_______ -0.9942523837089539\n",
      "299 |[unused294]_______ [unused294]_______ [unused929]_______ -0.9932559728622437\n",
      "300 |[unused295]_______ [unused295]_______ [unused929]_______ -0.9941808581352234\n",
      "301 |[unused296]_______ [unused296]_______ [unused929]_______ -0.9930545091629028\n",
      "302 |[unused297]_______ [unused297]_______ [unused929]_______ -0.9933516979217529\n",
      "303 |[unused298]_______ [unused298]_______ [unused929]_______ -0.9930532574653625\n",
      "304 |[unused299]_______ [unused299]_______ [unused929]_______ -0.9927486181259155\n",
      "305 |[unused300]_______ [unused300]_______ [unused929]_______ -0.9942498803138733\n",
      "306 |[unused301]_______ [unused301]_______ [unused929]_______ -0.9930702447891235\n",
      "307 |[unused302]_______ [unused302]_______ [unused929]_______ -0.992888867855072\n",
      "308 |[unused303]_______ [unused303]_______ [unused929]_______ -0.9923525452613831\n",
      "309 |[unused304]_______ [unused304]_______ [unused929]_______ -0.9927673935890198\n",
      "310 |[unused305]_______ [unused305]_______ [unused929]_______ -0.9924859404563904\n",
      "311 |[unused306]_______ [unused306]_______ [unused929]_______ -0.9933531880378723\n",
      "312 |[unused307]_______ [unused307]_______ [unused929]_______ -0.9939035177230835\n",
      "313 |[unused308]_______ [unused308]_______ [unused929]_______ -0.991296648979187\n",
      "314 |[unused309]_______ [unused309]_______ [unused929]_______ -0.99285888671875\n",
      "315 |[unused310]_______ [unused310]_______ [unused929]_______ -0.9926400780677795\n",
      "316 |[unused311]_______ [unused311]_______ [unused929]_______ -0.9937838315963745\n",
      "317 |[unused312]_______ [unused312]_______ [unused929]_______ -0.9924699664115906\n",
      "318 |[unused313]_______ [unused313]_______ [unused929]_______ -0.993640661239624\n",
      "319 |[unused314]_______ [unused314]_______ [unused929]_______ -0.993630588054657\n",
      "320 |[unused315]_______ [unused315]_______ [unused929]_______ -0.9928588271141052\n",
      "321 |[unused316]_______ [unused316]_______ [unused929]_______ -0.9920727610588074\n",
      "322 |[unused317]_______ [unused317]_______ [unused929]_______ -0.9934477210044861\n",
      "323 |[unused318]_______ [unused318]_______ [unused929]_______ -0.9932037591934204\n",
      "324 |[unused319]_______ [unused319]_______ [unused929]_______ -0.9936463236808777\n",
      "325 |[unused320]_______ [unused320]_______ [unused929]_______ -0.9929768443107605\n",
      "326 |[unused321]_______ [unused321]_______ [unused929]_______ -0.993617057800293\n",
      "327 |[unused322]_______ [unused322]_______ [unused929]_______ -0.9932258725166321\n",
      "328 |[unused323]_______ [unused323]_______ [unused929]_______ -0.9936302900314331\n",
      "329 |[unused324]_______ [unused324]_______ [unused929]_______ -0.9923385381698608\n",
      "330 |[unused325]_______ [unused325]_______ [unused929]_______ -0.9926289916038513\n",
      "331 |[unused326]_______ [unused326]_______ [unused929]_______ -0.9932727217674255\n",
      "332 |[unused327]_______ [unused327]_______ [unused929]_______ -0.9929012656211853\n",
      "333 |[unused328]_______ [unused328]_______ [unused929]_______ -0.9921432733535767\n",
      "334 |[unused329]_______ [unused329]_______ [unused929]_______ -0.9938678741455078\n",
      "335 |[unused330]_______ [unused330]_______ [unused929]_______ -0.9933059215545654\n",
      "336 |[unused331]_______ [unused331]_______ [unused929]_______ -0.9943366050720215\n",
      "337 |[unused332]_______ [unused332]_______ [unused929]_______ -0.9938359260559082\n",
      "338 |[unused333]_______ [unused333]_______ [unused929]_______ -0.9939205050468445\n",
      "339 |[unused334]_______ [unused334]_______ [unused929]_______ -0.9934191107749939\n",
      "340 |[unused335]_______ [unused335]_______ [unused929]_______ -0.9933879971504211\n",
      "341 |[unused336]_______ [unused336]_______ [unused929]_______ -0.9931166768074036\n",
      "342 |[unused337]_______ [unused337]_______ [unused929]_______ -0.9936708211898804\n",
      "343 |[unused338]_______ [unused338]_______ [unused929]_______ -0.9925721287727356\n",
      "344 |[unused339]_______ [unused339]_______ [unused929]_______ -0.9930644631385803\n",
      "345 |[unused340]_______ [unused340]_______ [unused929]_______ -0.9929137825965881\n",
      "346 |[unused341]_______ [unused341]_______ [unused929]_______ -0.9930160045623779\n",
      "347 |[unused342]_______ [unused342]_______ [unused929]_______ -0.9922402501106262\n",
      "348 |[unused343]_______ [unused343]_______ [unused929]_______ -0.9926281571388245\n",
      "349 |[unused344]_______ [unused344]_______ [unused929]_______ -0.9923701286315918\n",
      "350 |[unused345]_______ [unused345]_______ [unused929]_______ -0.9937882423400879\n",
      "351 |[unused346]_______ [unused346]_______ [unused929]_______ -0.9932877421379089\n",
      "352 |[unused347]_______ [unused347]_______ [unused929]_______ -0.9923181533813477\n",
      "353 |[unused348]_______ [unused348]_______ [unused929]_______ -0.9932757616043091\n",
      "354 |[unused349]_______ [unused349]_______ [unused929]_______ -0.9932606220245361\n",
      "355 |[unused350]_______ [unused350]_______ [unused929]_______ -0.9928690791130066\n",
      "356 |[unused351]_______ [unused351]_______ [unused929]_______ -0.9929242730140686\n",
      "357 |[unused352]_______ [unused352]_______ [unused929]_______ -0.9925248622894287\n",
      "358 |[unused353]_______ [unused353]_______ [unused929]_______ -0.9935808181762695\n",
      "359 |[unused354]_______ [unused354]_______ [unused929]_______ -0.9904888868331909\n",
      "360 |[unused355]_______ [unused355]_______ [unused929]_______ -0.9933010339736938\n",
      "361 |[unused356]_______ [unused356]_______ [unused929]_______ -0.994402289390564\n",
      "362 |[unused357]_______ [unused357]_______ [unused929]_______ -0.9923942685127258\n",
      "363 |[unused358]_______ [unused358]_______ [unused929]_______ -0.9939567446708679\n",
      "364 |[unused359]_______ [unused359]_______ [unused929]_______ -0.9928756952285767\n",
      "365 |[unused360]_______ [unused360]_______ [unused929]_______ -0.9930906295776367\n",
      "366 |[unused361]_______ [unused361]_______ [unused929]_______ -0.9932607412338257\n",
      "367 |[unused362]_______ [unused362]_______ [unused929]_______ -0.9929444789886475\n",
      "368 |[unused363]_______ [unused363]_______ [unused929]_______ -0.9929443597793579\n",
      "369 |[unused364]_______ [unused364]_______ [unused929]_______ -0.9931039214134216\n",
      "370 |[unused365]_______ [unused365]_______ [unused929]_______ -0.9937747120857239\n",
      "371 |[unused366]_______ [unused366]_______ [unused929]_______ -0.9935596585273743\n",
      "372 |[unused367]_______ [unused367]_______ [unused929]_______ -0.9933483004570007\n",
      "373 |[unused368]_______ [unused368]_______ [unused929]_______ -0.9928328990936279\n",
      "374 |[unused369]_______ [unused369]_______ [unused929]_______ -0.9929479956626892\n",
      "375 |[unused370]_______ [unused370]_______ [unused929]_______ -0.9936373233795166\n",
      "376 |[unused371]_______ [unused371]_______ [unused929]_______ -0.9923893213272095\n",
      "377 |[unused372]_______ [unused372]_______ [unused929]_______ -0.9938021302223206\n",
      "378 |[unused373]_______ [unused373]_______ [unused929]_______ -0.9935120344161987\n",
      "379 |[unused374]_______ [unused374]_______ [unused929]_______ -0.993172287940979\n",
      "380 |[unused375]_______ [unused375]_______ [unused929]_______ -0.9932377934455872\n",
      "381 |[unused376]_______ [unused376]_______ [unused929]_______ -0.993307888507843\n",
      "382 |[unused377]_______ [unused377]_______ [unused929]_______ -0.9938371777534485\n",
      "383 |[unused378]_______ [unused378]_______ [unused929]_______ -0.9925895929336548\n",
      "384 |[unused379]_______ [unused379]_______ [unused929]_______ -0.9928816556930542\n",
      "385 |[unused380]_______ [unused380]_______ [unused929]_______ -0.9932417869567871\n",
      "386 |[unused381]_______ [unused381]_______ [unused929]_______ -0.9920080304145813\n",
      "387 |[unused382]_______ [unused382]_______ [unused929]_______ -0.9931961297988892\n",
      "388 |[unused383]_______ [unused383]_______ [unused929]_______ -0.9934623837471008\n",
      "389 |[unused384]_______ [unused384]_______ [unused929]_______ -0.9931231141090393\n",
      "390 |[unused385]_______ [unused385]_______ [unused929]_______ -0.9933377504348755\n",
      "391 |[unused386]_______ [unused386]_______ [unused929]_______ -0.9936942458152771\n",
      "392 |[unused387]_______ [unused387]_______ [unused929]_______ -0.9923836588859558\n",
      "393 |[unused388]_______ [unused388]_______ [unused929]_______ -0.9924580454826355\n",
      "394 |[unused389]_______ [unused389]_______ [unused929]_______ -0.9914980530738831\n",
      "395 |[unused390]_______ [unused390]_______ [unused929]_______ -0.9923620820045471\n",
      "396 |[unused391]_______ [unused391]_______ [unused929]_______ -0.9923348426818848\n",
      "397 |[unused392]_______ [unused392]_______ [unused929]_______ -0.9936566352844238\n",
      "398 |[unused393]_______ [unused393]_______ [unused929]_______ -0.9929310083389282\n",
      "399 |[unused394]_______ [unused394]_______ [unused929]_______ -0.9928097128868103\n",
      "400 |[unused395]_______ [unused395]_______ [unused929]_______ -0.9931930303573608\n",
      "401 |[unused396]_______ [unused396]_______ [unused929]_______ -0.9930995106697083\n",
      "402 |[unused397]_______ [unused397]_______ [unused929]_______ -0.9935164451599121\n",
      "403 |[unused398]_______ [unused398]_______ [unused929]_______ -0.9924523830413818\n",
      "404 |[unused399]_______ [unused399]_______ [unused929]_______ -0.9927980899810791\n",
      "405 |[unused400]_______ [unused400]_______ [unused175]_______ -0.9931026101112366\n",
      "406 |[unused401]_______ [unused401]_______ [unused929]_______ -0.9925816059112549\n",
      "407 |[unused402]_______ [unused402]_______ [unused929]_______ -0.9926843643188477\n",
      "408 |[unused403]_______ [unused403]_______ [unused929]_______ -0.9932509660720825\n",
      "409 |[unused404]_______ [unused404]_______ [unused929]_______ -0.9924904108047485\n",
      "410 |[unused405]_______ [unused405]_______ [unused929]_______ -0.990962028503418\n",
      "411 |[unused406]_______ [unused406]_______ [unused929]_______ -0.9936821460723877\n",
      "412 |[unused407]_______ [unused407]_______ [unused929]_______ -0.9928301572799683\n",
      "413 |[unused408]_______ [unused408]_______ [unused929]_______ -0.9925937652587891\n",
      "414 |[unused409]_______ [unused409]_______ [unused929]_______ -0.9937664866447449\n",
      "415 |[unused410]_______ [unused410]_______ [unused929]_______ -0.9921978116035461\n",
      "416 |[unused411]_______ [unused411]_______ [unused929]_______ -0.9934379458427429\n",
      "417 |[unused412]_______ [unused412]_______ [unused929]_______ -0.9939460158348083\n",
      "418 |[unused413]_______ [unused413]_______ [unused929]_______ -0.9934446811676025\n",
      "419 |[unused414]_______ [unused414]_______ [unused929]_______ -0.9928213953971863\n",
      "420 |[unused415]_______ [unused415]_______ [unused929]_______ -0.993485689163208\n",
      "421 |[unused416]_______ [unused416]_______ [unused929]_______ -0.9926920533180237\n",
      "422 |[unused417]_______ [unused417]_______ [unused929]_______ -0.992769718170166\n",
      "423 |[unused418]_______ [unused418]_______ [unused929]_______ -0.9931978583335876\n",
      "424 |[unused419]_______ [unused419]_______ [unused929]_______ -0.9933162331581116\n",
      "425 |[unused420]_______ [unused420]_______ [unused929]_______ -0.9936372637748718\n",
      "426 |[unused421]_______ [unused421]_______ [unused929]_______ -0.9933595657348633\n",
      "427 |[unused422]_______ [unused422]_______ [unused929]_______ -0.9931091666221619\n",
      "428 |[unused423]_______ [unused423]_______ [unused929]_______ -0.9931308627128601\n",
      "429 |[unused424]_______ [unused424]_______ [unused929]_______ -0.9923965334892273\n",
      "430 |[unused425]_______ [unused425]_______ [unused929]_______ -0.9926905632019043\n",
      "431 |[unused426]_______ [unused426]_______ [unused929]_______ -0.9931297898292542\n",
      "432 |[unused427]_______ [unused427]_______ [unused929]_______ -0.9933536648750305\n",
      "433 |[unused428]_______ [unused428]_______ [unused929]_______ -0.992760419845581\n",
      "434 |[unused429]_______ [unused429]_______ [unused929]_______ -0.991955578327179\n",
      "435 |[unused430]_______ [unused430]_______ [unused929]_______ -0.9930611848831177\n",
      "436 |[unused431]_______ [unused431]_______ [unused929]_______ -0.9927096366882324\n",
      "437 |[unused432]_______ [unused432]_______ [unused929]_______ -0.9915984869003296\n",
      "438 |[unused433]_______ [unused433]_______ [unused929]_______ -0.9924127459526062\n",
      "439 |[unused434]_______ [unused434]_______ [unused929]_______ -0.9937427639961243\n",
      "440 |[unused435]_______ [unused435]_______ [unused929]_______ -0.9934461116790771\n",
      "441 |[unused436]_______ [unused436]_______ [unused929]_______ -0.9924236536026001\n",
      "442 |[unused437]_______ [unused437]_______ [unused929]_______ -0.992309033870697\n",
      "443 |[unused438]_______ [unused438]_______ [unused929]_______ -0.9934069514274597\n",
      "444 |[unused439]_______ [unused439]_______ [unused929]_______ -0.9941514134407043\n",
      "445 |[unused440]_______ [unused440]_______ [unused929]_______ -0.9939693212509155\n",
      "446 |[unused441]_______ [unused441]_______ [unused929]_______ -0.993330180644989\n",
      "447 |[unused442]_______ [unused442]_______ [unused929]_______ -0.9916791915893555\n",
      "448 |[unused443]_______ [unused443]_______ [unused929]_______ -0.9928562641143799\n",
      "449 |[unused444]_______ [unused444]_______ [unused929]_______ -0.9930821061134338\n",
      "450 |[unused445]_______ [unused445]_______ [unused929]_______ -0.9933106303215027\n",
      "451 |[unused446]_______ [unused446]_______ [unused929]_______ -0.9932934641838074\n",
      "452 |[unused447]_______ [unused447]_______ [unused929]_______ -0.992702066898346\n",
      "453 |[unused448]_______ [unused448]_______ [unused929]_______ -0.9930969476699829\n",
      "454 |[unused449]_______ [unused449]_______ [unused929]_______ -0.9926401972770691\n",
      "455 |[unused450]_______ [unused450]_______ [unused929]_______ -0.9932571649551392\n",
      "456 |[unused451]_______ [unused451]_______ [unused929]_______ -0.993486762046814\n",
      "457 |[unused452]_______ [unused452]_______ [unused929]_______ -0.9927470088005066\n",
      "458 |[unused453]_______ [unused453]_______ [unused929]_______ -0.9925397038459778\n",
      "459 |[unused454]_______ [unused454]_______ [unused929]_______ -0.9919519424438477\n",
      "460 |[unused455]_______ [unused455]_______ [unused929]_______ -0.9915104508399963\n",
      "461 |[unused456]_______ [unused456]_______ [unused929]_______ -0.9936673641204834\n",
      "462 |[unused457]_______ [unused457]_______ [unused929]_______ -0.9926652908325195\n",
      "463 |[unused458]_______ [unused458]_______ [unused929]_______ -0.992953360080719\n",
      "464 |[unused459]_______ [unused459]_______ [unused929]_______ -0.9938572645187378\n",
      "465 |[unused460]_______ [unused460]_______ [unused929]_______ -0.9940472841262817\n",
      "466 |[unused461]_______ [unused461]_______ [unused929]_______ -0.9926510453224182\n",
      "467 |[unused462]_______ [unused462]_______ [unused929]_______ -0.9927458167076111\n"
     ]
    },
    {
     "name": "stdout",
     "output_type": "stream",
     "text": [
      "468 |[unused463]_______ [unused463]_______ [unused929]_______ -0.9930253028869629\n",
      "469 |[unused464]_______ [unused464]_______ [unused929]_______ -0.9926127791404724\n",
      "470 |[unused465]_______ [unused465]_______ [unused929]_______ -0.9940525889396667\n",
      "471 |[unused466]_______ [unused466]_______ [unused929]_______ -0.9926327466964722\n",
      "472 |[unused467]_______ [unused467]_______ [unused929]_______ -0.9937397837638855\n",
      "473 |[unused468]_______ [unused468]_______ [unused929]_______ -0.9919406175613403\n",
      "474 |[unused469]_______ [unused469]_______ [unused929]_______ -0.9928389191627502\n",
      "475 |[unused470]_______ [unused470]_______ [unused929]_______ -0.9932569265365601\n",
      "476 |[unused471]_______ [unused471]_______ [unused929]_______ -0.9931144714355469\n",
      "477 |[unused472]_______ [unused472]_______ [unused929]_______ -0.9925999641418457\n",
      "478 |[unused473]_______ [unused473]_______ [unused929]_______ -0.9936911463737488\n",
      "479 |[unused474]_______ [unused474]_______ [unused175]_______ -0.994046688079834\n",
      "480 |[unused475]_______ [unused475]_______ [unused929]_______ -0.9938328862190247\n",
      "481 |[unused476]_______ [unused476]_______ [unused929]_______ -0.9939944744110107\n",
      "482 |[unused477]_______ [unused477]_______ [unused929]_______ -0.9916128516197205\n",
      "483 |[unused478]_______ [unused478]_______ [unused929]_______ -0.9940029978752136\n",
      "484 |[unused479]_______ [unused479]_______ [unused929]_______ -0.9944664835929871\n",
      "485 |[unused480]_______ [unused480]_______ [unused929]_______ -0.9925987720489502\n",
      "486 |[unused481]_______ [unused481]_______ [unused929]_______ -0.9935481548309326\n",
      "487 |[unused482]_______ [unused482]_______ [unused929]_______ -0.9930300116539001\n",
      "488 |[unused483]_______ [unused483]_______ [unused929]_______ -0.9927510619163513\n",
      "489 |[unused484]_______ [unused484]_______ [unused929]_______ -0.9934648871421814\n",
      "490 |[unused485]_______ [unused485]_______ [unused929]_______ -0.9928351640701294\n",
      "491 |[unused486]_______ [unused486]_______ [unused929]_______ -0.9927337169647217\n",
      "492 |[unused487]_______ [unused487]_______ [unused929]_______ -0.993012547492981\n",
      "493 |[unused488]_______ [unused488]_______ [unused929]_______ -0.9936352968215942\n",
      "494 |[unused489]_______ [unused489]_______ [unused929]_______ -0.9930383563041687\n",
      "495 |[unused490]_______ [unused490]_______ [unused929]_______ -0.9936177730560303\n",
      "496 |[unused491]_______ [unused491]_______ [unused175]_______ -0.9931147694587708\n",
      "497 |[unused492]_______ [unused492]_______ [unused929]_______ -0.9929888844490051\n",
      "498 |[unused493]_______ [unused493]_______ [unused929]_______ -0.9928837418556213\n",
      "499 |[unused494]_______ [unused494]_______ [unused175]_______ -0.9936631917953491\n",
      "500 |[unused495]_______ [unused495]_______ [unused929]_______ -0.993468701839447\n",
      "501 |[unused496]_______ [unused496]_______ [unused929]_______ -0.9938296675682068\n",
      "502 |[unused497]_______ [unused497]_______ [unused929]_______ -0.9933406114578247\n",
      "503 |[unused498]_______ [unused498]_______ [unused929]_______ -0.9923781156539917\n",
      "504 |[unused499]_______ [unused499]_______ [unused929]_______ -0.9931445121765137\n",
      "505 |[unused500]_______ [unused500]_______ [unused929]_______ -0.9932230114936829\n",
      "506 |[unused501]_______ [unused501]_______ [unused929]_______ -0.9924349188804626\n",
      "507 |[unused502]_______ [unused502]_______ [unused929]_______ -0.9930887818336487\n",
      "508 |[unused503]_______ [unused503]_______ [unused929]_______ -0.9924840331077576\n",
      "509 |[unused504]_______ [unused504]_______ [unused929]_______ -0.9937654137611389\n",
      "510 |[unused505]_______ [unused505]_______ [unused929]_______ -0.9941229224205017\n",
      "511 |[unused506]_______ [unused506]_______ [unused929]_______ -0.9931870698928833\n",
      "512 |[unused507]_______ [unused507]_______ [unused929]_______ -0.9931983351707458\n",
      "513 |[unused508]_______ [unused508]_______ [unused929]_______ -0.9932650327682495\n",
      "514 |[unused509]_______ [unused509]_______ [unused929]_______ -0.9921737909317017\n",
      "515 |[unused510]_______ [unused510]_______ [unused929]_______ -0.9940235614776611\n",
      "516 |[unused511]_______ [unused511]_______ [unused929]_______ -0.9933982491493225\n",
      "517 |[unused512]_______ [unused512]_______ [unused929]_______ -0.9937065839767456\n",
      "518 |[unused513]_______ [unused513]_______ [unused929]_______ -0.9929643273353577\n",
      "519 |[unused514]_______ [unused514]_______ [unused929]_______ -0.9925090670585632\n",
      "520 |[unused515]_______ [unused515]_______ [unused929]_______ -0.9940997362136841\n",
      "521 |[unused516]_______ [unused516]_______ [unused929]_______ -0.9918698072433472\n",
      "522 |[unused517]_______ [unused517]_______ [unused929]_______ -0.9934894442558289\n",
      "523 |[unused518]_______ [unused518]_______ [unused929]_______ -0.9929137825965881\n",
      "524 |[unused519]_______ [unused519]_______ [unused929]_______ -0.9935154318809509\n",
      "525 |[unused520]_______ [unused520]_______ [unused929]_______ -0.9940900206565857\n",
      "526 |[unused521]_______ [unused521]_______ [unused929]_______ -0.9929340481758118\n",
      "527 |[unused522]_______ [unused522]_______ [unused929]_______ -0.9928541779518127\n",
      "528 |[unused523]_______ [unused523]_______ [unused929]_______ -0.9929159283638\n",
      "529 |[unused524]_______ [unused524]_______ [unused929]_______ -0.9929150342941284\n",
      "530 |[unused525]_______ [unused525]_______ [unused929]_______ -0.992504358291626\n",
      "531 |[unused526]_______ [unused526]_______ [unused929]_______ -0.9927269816398621\n",
      "532 |[unused527]_______ [unused527]_______ [unused929]_______ -0.9935051798820496\n",
      "533 |[unused528]_______ [unused528]_______ [unused929]_______ -0.9918056130409241\n",
      "534 |[unused529]_______ [unused529]_______ [unused929]_______ -0.9924241900444031\n",
      "535 |[unused530]_______ [unused530]_______ [unused929]_______ -0.9920607805252075\n",
      "536 |[unused531]_______ [unused531]_______ [unused929]_______ -0.9923685193061829\n",
      "537 |[unused532]_______ [unused532]_______ [unused929]_______ -0.9922637343406677\n",
      "538 |[unused533]_______ [unused533]_______ [unused929]_______ -0.9927799701690674\n",
      "539 |[unused534]_______ [unused534]_______ [unused929]_______ -0.9934791326522827\n",
      "540 |[unused535]_______ [unused535]_______ [unused929]_______ -0.9917489886283875\n",
      "541 |[unused536]_______ [unused536]_______ [unused929]_______ -0.9930076599121094\n",
      "542 |[unused537]_______ [unused537]_______ [unused929]_______ -0.9936008453369141\n",
      "543 |[unused538]_______ [unused538]_______ [unused929]_______ -0.9935871362686157\n",
      "544 |[unused539]_______ [unused539]_______ [unused929]_______ -0.9924551248550415\n",
      "545 |[unused540]_______ [unused540]_______ [unused929]_______ -0.9934903383255005\n",
      "546 |[unused541]_______ [unused541]_______ [unused929]_______ -0.9928282499313354\n",
      "547 |[unused542]_______ [unused542]_______ [unused929]_______ -0.993122398853302\n",
      "548 |[unused543]_______ [unused543]_______ [unused929]_______ -0.9921908378601074\n",
      "549 |[unused544]_______ [unused544]_______ [unused929]_______ -0.9936275482177734\n",
      "550 |[unused545]_______ [unused545]_______ [unused929]_______ -0.9919812679290771\n",
      "551 |[unused546]_______ [unused546]_______ [unused929]_______ -0.9939422011375427\n",
      "552 |[unused547]_______ [unused547]_______ [unused929]_______ -0.9941707253456116\n",
      "553 |[unused548]_______ [unused548]_______ [unused929]_______ -0.9925731420516968\n",
      "554 |[unused549]_______ [unused549]_______ [unused929]_______ -0.9929562211036682\n",
      "555 |[unused550]_______ [unused550]_______ [unused929]_______ -0.9927515983581543\n",
      "556 |[unused551]_______ [unused551]_______ [unused929]_______ -0.9908042550086975\n",
      "557 |[unused552]_______ [unused552]_______ [unused929]_______ -0.9932303428649902\n",
      "558 |[unused553]_______ [unused553]_______ [unused929]_______ -0.9922935366630554\n",
      "559 |[unused554]_______ [unused554]_______ [unused929]_______ -0.9936174154281616\n",
      "560 |[unused555]_______ [unused555]_______ [unused929]_______ -0.9931763410568237\n",
      "561 |[unused556]_______ [unused556]_______ [unused929]_______ -0.9934713244438171\n",
      "562 |[unused557]_______ [unused557]_______ [unused929]_______ -0.9918641448020935\n",
      "563 |[unused558]_______ [unused558]_______ [unused929]_______ -0.9931040406227112\n",
      "564 |[unused559]_______ [unused559]_______ [unused929]_______ -0.9925174117088318\n",
      "565 |[unused560]_______ [unused560]_______ [unused929]_______ -0.9912657141685486\n",
      "566 |[unused561]_______ [unused561]_______ [unused929]_______ -0.9925343990325928\n",
      "567 |[unused562]_______ [unused562]_______ [unused929]_______ -0.9928609728813171\n",
      "568 |[unused563]_______ [unused563]_______ [unused929]_______ -0.9939048290252686\n",
      "569 |[unused564]_______ [unused564]_______ [unused929]_______ -0.9927544593811035\n",
      "570 |[unused565]_______ [unused565]_______ [unused929]_______ -0.9926014542579651\n",
      "571 |[unused566]_______ [unused566]_______ [unused929]_______ -0.9927989840507507\n",
      "572 |[unused567]_______ [unused567]_______ [unused929]_______ -0.9928548336029053\n",
      "573 |[unused568]_______ [unused568]_______ [unused929]_______ -0.9933147430419922\n",
      "574 |[unused569]_______ [unused569]_______ [unused929]_______ -0.9928795099258423\n",
      "575 |[unused570]_______ [unused570]_______ [unused929]_______ -0.993594765663147\n",
      "576 |[unused571]_______ [unused571]_______ [unused929]_______ -0.9932016730308533\n",
      "577 |[unused572]_______ [unused572]_______ [unused929]_______ -0.9933014512062073\n",
      "578 |[unused573]_______ [unused573]_______ [unused929]_______ -0.992391049861908\n",
      "579 |[unused574]_______ [unused574]_______ [unused929]_______ -0.9928751587867737\n",
      "580 |[unused575]_______ [unused575]_______ [unused929]_______ -0.991141140460968\n",
      "581 |[unused576]_______ [unused576]_______ [unused929]_______ -0.992863118648529\n",
      "582 |[unused577]_______ [unused577]_______ [unused929]_______ -0.993041455745697\n",
      "583 |[unused578]_______ [unused578]_______ [unused929]_______ -0.9935336112976074\n",
      "584 |[unused579]_______ [unused579]_______ [unused929]_______ -0.9923520684242249\n",
      "585 |[unused580]_______ [unused580]_______ [unused929]_______ -0.9934594035148621\n",
      "586 |[unused581]_______ [unused581]_______ [unused929]_______ -0.9933303594589233\n",
      "587 |[unused582]_______ [unused582]_______ [unused929]_______ -0.9932202696800232\n",
      "588 |[unused583]_______ [unused583]_______ [unused929]_______ -0.9933669567108154\n",
      "589 |[unused584]_______ [unused584]_______ [unused929]_______ -0.9935086965560913\n",
      "590 |[unused585]_______ [unused585]_______ [unused929]_______ -0.9922827482223511\n",
      "591 |[unused586]_______ [unused586]_______ [unused929]_______ -0.9938052892684937\n",
      "592 |[unused587]_______ [unused587]_______ [unused929]_______ -0.9936839938163757\n",
      "593 |[unused588]_______ [unused588]_______ [unused929]_______ -0.9934666156768799\n",
      "594 |[unused589]_______ [unused589]_______ [unused929]_______ -0.9925723671913147\n",
      "595 |[unused590]_______ [unused590]_______ [unused929]_______ -0.9939145445823669\n",
      "596 |[unused591]_______ [unused591]_______ [unused929]_______ -0.9936739802360535\n",
      "597 |[unused592]_______ [unused592]_______ [unused929]_______ -0.9935750365257263\n",
      "598 |[unused593]_______ [unused593]_______ [unused929]_______ -0.9934992790222168\n",
      "599 |[unused594]_______ [unused594]_______ [unused929]_______ -0.9927900433540344\n",
      "600 |[unused595]_______ [unused595]_______ [unused929]_______ -0.994048535823822\n",
      "601 |[unused596]_______ [unused596]_______ [unused929]_______ -0.9920462369918823\n",
      "602 |[unused597]_______ [unused597]_______ [unused929]_______ -0.9938320517539978\n",
      "603 |[unused598]_______ [unused598]_______ [unused929]_______ -0.9931970834732056\n",
      "604 |[unused599]_______ [unused599]_______ [unused929]_______ -0.9929107427597046\n",
      "605 |[unused600]_______ [unused600]_______ [unused929]_______ -0.9939581155776978\n",
      "606 |[unused601]_______ [unused601]_______ [unused929]_______ -0.9933144450187683\n",
      "607 |[unused602]_______ [unused602]_______ [unused929]_______ -0.9929466843605042\n",
      "608 |[unused603]_______ [unused603]_______ [unused929]_______ -0.9925724864006042\n",
      "609 |[unused604]_______ [unused604]_______ [unused929]_______ -0.9929226636886597\n",
      "610 |[unused605]_______ [unused605]_______ [unused929]_______ -0.992924153804779\n",
      "611 |[unused606]_______ [unused606]_______ [unused929]_______ -0.9937394261360168\n",
      "612 |[unused607]_______ [unused607]_______ [unused929]_______ -0.9935241937637329\n",
      "613 |[unused608]_______ [unused608]_______ [unused929]_______ -0.9930559396743774\n",
      "614 |[unused609]_______ [unused609]_______ [unused929]_______ -0.9934636354446411\n",
      "615 |[unused610]_______ [unused610]_______ [unused929]_______ -0.9935683608055115\n",
      "616 |[unused611]_______ [unused611]_______ [unused929]_______ -0.9930846095085144\n",
      "617 |[unused612]_______ [unused612]_______ [unused929]_______ -0.9927439093589783\n",
      "618 |[unused613]_______ [unused613]_______ [unused929]_______ -0.9924689531326294\n",
      "619 |[unused614]_______ [unused614]_______ [unused929]_______ -0.9937183260917664\n",
      "620 |[unused615]_______ [unused615]_______ [unused929]_______ -0.9929080009460449\n",
      "621 |[unused616]_______ [unused616]_______ [unused929]_______ -0.9924254417419434\n",
      "622 |[unused617]_______ [unused617]_______ [unused929]_______ -0.993411660194397\n",
      "623 |[unused618]_______ [unused618]_______ [unused929]_______ -0.9937836527824402\n",
      "624 |[unused619]_______ [unused619]_______ [unused929]_______ -0.9935264587402344\n",
      "625 |[unused620]_______ [unused620]_______ [unused929]_______ -0.994076132774353\n",
      "626 |[unused621]_______ [unused621]_______ [unused929]_______ -0.9930963516235352\n",
      "627 |[unused622]_______ [unused622]_______ [unused929]_______ -0.9931361079216003\n",
      "628 |[unused623]_______ [unused623]_______ [unused929]_______ -0.993036687374115\n",
      "629 |[unused624]_______ [unused624]_______ [unused929]_______ -0.9924667477607727\n",
      "630 |[unused625]_______ [unused625]_______ [unused929]_______ -0.9937124252319336\n",
      "631 |[unused626]_______ [unused626]_______ [unused929]_______ -0.9928040504455566\n",
      "632 |[unused627]_______ [unused627]_______ [unused929]_______ -0.9930365681648254\n",
      "633 |[unused628]_______ [unused628]_______ [unused929]_______ -0.9933391213417053\n",
      "634 |[unused629]_______ [unused629]_______ [unused929]_______ -0.9939249753952026\n",
      "635 |[unused630]_______ [unused630]_______ [unused929]_______ -0.9933822751045227\n",
      "636 |[unused631]_______ [unused631]_______ [unused929]_______ -0.9937238693237305\n",
      "637 |[unused632]_______ [unused632]_______ [unused929]_______ -0.9924750328063965\n",
      "638 |[unused633]_______ [unused633]_______ [unused929]_______ -0.9932255744934082\n",
      "639 |[unused634]_______ [unused634]_______ [unused929]_______ -0.9920810461044312\n",
      "640 |[unused635]_______ [unused635]_______ [unused929]_______ -0.9929272532463074\n",
      "641 |[unused636]_______ [unused636]_______ [unused929]_______ -0.9938459396362305\n",
      "642 |[unused637]_______ [unused637]_______ [unused929]_______ -0.994026243686676\n",
      "643 |[unused638]_______ [unused638]_______ [unused929]_______ -0.9939363598823547\n",
      "644 |[unused639]_______ [unused639]_______ [unused929]_______ -0.9942020773887634\n",
      "645 |[unused640]_______ [unused640]_______ [unused929]_______ -0.9935396313667297\n",
      "646 |[unused641]_______ [unused641]_______ [unused929]_______ -0.9919207692146301\n",
      "647 |[unused642]_______ [unused642]_______ [unused929]_______ -0.9930562376976013\n",
      "648 |[unused643]_______ [unused643]_______ [unused929]_______ -0.9931520223617554\n",
      "649 |[unused644]_______ [unused644]_______ [unused929]_______ -0.9941067695617676\n",
      "650 |[unused645]_______ [unused645]_______ [unused929]_______ -0.9930620789527893\n",
      "651 |[unused646]_______ [unused646]_______ [unused929]_______ -0.9932740330696106\n",
      "652 |[unused647]_______ [unused647]_______ [unused929]_______ -0.9929260611534119\n",
      "653 |[unused648]_______ [unused648]_______ [unused929]_______ -0.9928855299949646\n",
      "654 |[unused649]_______ [unused649]_______ [unused929]_______ -0.9924181699752808\n",
      "655 |[unused650]_______ [unused650]_______ [unused929]_______ -0.9933081865310669\n",
      "656 |[unused651]_______ [unused651]_______ [unused929]_______ -0.9931827187538147\n",
      "657 |[unused652]_______ [unused652]_______ [unused929]_______ -0.9927091002464294\n",
      "658 |[unused653]_______ [unused653]_______ [unused929]_______ -0.9929144978523254\n",
      "659 |[unused654]_______ [unused654]_______ [unused929]_______ -0.9925777316093445\n",
      "660 |[unused655]_______ [unused655]_______ [unused929]_______ -0.9925932884216309\n",
      "661 |[unused656]_______ [unused656]_______ [unused929]_______ -0.9932826161384583\n",
      "662 |[unused657]_______ [unused657]_______ [unused929]_______ -0.9932716488838196\n",
      "663 |[unused658]_______ [unused658]_______ [unused929]_______ -0.9931715726852417\n",
      "664 |[unused659]_______ [unused659]_______ [unused929]_______ -0.99249267578125\n",
      "665 |[unused660]_______ [unused660]_______ [unused929]_______ -0.9945011734962463\n",
      "666 |[unused661]_______ [unused661]_______ [unused929]_______ -0.9934977889060974\n",
      "667 |[unused662]_______ [unused662]_______ [unused929]_______ -0.9923563599586487\n",
      "668 |[unused663]_______ [unused663]_______ [unused929]_______ -0.9927619099617004\n",
      "669 |[unused664]_______ [unused664]_______ [unused929]_______ -0.993683934211731\n",
      "670 |[unused665]_______ [unused665]_______ [unused929]_______ -0.9932278990745544\n",
      "671 |[unused666]_______ [unused666]_______ [unused929]_______ -0.9933747053146362\n",
      "672 |[unused667]_______ [unused667]_______ [unused929]_______ -0.9926720261573792\n",
      "673 |[unused668]_______ [unused668]_______ [unused929]_______ -0.9928163290023804\n",
      "674 |[unused669]_______ [unused669]_______ [unused929]_______ -0.9939350485801697\n",
      "675 |[unused670]_______ [unused670]_______ [unused929]_______ -0.993068277835846\n",
      "676 |[unused671]_______ [unused671]_______ [unused929]_______ -0.9943665266036987\n",
      "677 |[unused672]_______ [unused672]_______ [unused929]_______ -0.9934725165367126\n",
      "678 |[unused673]_______ [unused673]_______ [unused929]_______ -0.9935813546180725\n",
      "679 |[unused674]_______ [unused674]_______ [unused929]_______ -0.9922410249710083\n",
      "680 |[unused675]_______ [unused675]_______ [unused929]_______ -0.9924489259719849\n",
      "681 |[unused676]_______ [unused676]_______ [unused929]_______ -0.9928944110870361\n",
      "682 |[unused677]_______ [unused677]_______ [unused929]_______ -0.9922342300415039\n",
      "683 |[unused678]_______ [unused678]_______ [unused929]_______ -0.9933833479881287\n",
      "684 |[unused679]_______ [unused679]_______ [unused929]_______ -0.9933367371559143\n",
      "685 |[unused680]_______ [unused680]_______ [unused929]_______ -0.9941209554672241\n",
      "686 |[unused681]_______ [unused681]_______ [unused929]_______ -0.9934295415878296\n",
      "687 |[unused682]_______ [unused682]_______ [unused929]_______ -0.9935128688812256\n",
      "688 |[unused683]_______ [unused683]_______ [unused929]_______ -0.992850124835968\n",
      "689 |[unused684]_______ [unused684]_______ [unused929]_______ -0.9935929775238037\n",
      "690 |[unused685]_______ [unused685]_______ [unused929]_______ -0.9933457970619202\n",
      "691 |[unused686]_______ [unused686]_______ [unused929]_______ -0.99378901720047\n",
      "692 |[unused687]_______ [unused687]_______ [unused929]_______ -0.9938992857933044\n",
      "693 |[unused688]_______ [unused688]_______ [unused929]_______ -0.993197500705719\n",
      "694 |[unused689]_______ [unused689]_______ [unused929]_______ -0.9939882755279541\n",
      "695 |[unused690]_______ [unused690]_______ [unused929]_______ -0.9929065108299255\n",
      "696 |[unused691]_______ [unused691]_______ [unused929]_______ -0.9937041401863098\n",
      "697 |[unused692]_______ [unused692]_______ [unused929]_______ -0.9931800365447998\n",
      "698 |[unused693]_______ [unused693]_______ [unused929]_______ -0.9918617606163025\n",
      "699 |[unused694]_______ [unused694]_______ [unused929]_______ -0.9928236603736877\n",
      "700 |[unused695]_______ [unused695]_______ [unused929]_______ -0.9929744601249695\n",
      "701 |[unused696]_______ [unused696]_______ [unused929]_______ -0.9927560091018677\n",
      "702 |[unused697]_______ [unused697]_______ [unused929]_______ -0.9932578802108765\n",
      "703 |[unused698]_______ [unused698]_______ [unused929]_______ -0.9931976199150085\n",
      "704 |[unused699]_______ [unused699]_______ [unused929]_______ -0.9926044344902039\n",
      "705 |[unused700]_______ [unused700]_______ [unused929]_______ -0.9937369227409363\n",
      "706 |[unused701]_______ [unused701]_______ [unused929]_______ -0.9933320879936218\n",
      "707 |[unused702]_______ [unused702]_______ [unused929]_______ -0.9937959313392639\n",
      "708 |[unused703]_______ [unused703]_______ [unused929]_______ -0.9929987788200378\n",
      "709 |[unused704]_______ [unused704]_______ [unused929]_______ -0.992201566696167\n",
      "710 |[unused705]_______ [unused705]_______ [unused929]_______ -0.9929812550544739\n",
      "711 |[unused706]_______ [unused706]_______ [unused929]_______ -0.9924611449241638\n",
      "712 |[unused707]_______ [unused707]_______ [unused929]_______ -0.9930503964424133\n",
      "713 |[unused708]_______ [unused708]_______ [unused929]_______ -0.9921890497207642\n",
      "714 |[unused709]_______ [unused709]_______ [unused929]_______ -0.993671178817749\n",
      "715 |[unused710]_______ [unused710]_______ [unused929]_______ -0.9934175610542297\n",
      "716 |[unused711]_______ [unused711]_______ [unused929]_______ -0.99233078956604\n",
      "717 |[unused712]_______ [unused712]_______ [unused929]_______ -0.9930092692375183\n",
      "718 |[unused713]_______ [unused713]_______ [unused929]_______ -0.9933742880821228\n",
      "719 |[unused714]_______ [unused714]_______ [unused929]_______ -0.9927508234977722\n",
      "720 |[unused715]_______ [unused715]_______ [unused929]_______ -0.9931602478027344\n",
      "721 |[unused716]_______ [unused716]_______ [unused929]_______ -0.993520975112915\n",
      "722 |[unused717]_______ [unused717]_______ [unused929]_______ -0.9933521747589111\n",
      "723 |[unused718]_______ [unused718]_______ [unused929]_______ -0.9938628077507019\n",
      "724 |[unused719]_______ [unused719]_______ [unused929]_______ -0.9926920533180237\n",
      "725 |[unused720]_______ [unused720]_______ [unused929]_______ -0.9926800727844238\n",
      "726 |[unused721]_______ [unused721]_______ [unused929]_______ -0.9935469031333923\n",
      "727 |[unused722]_______ [unused722]_______ [unused929]_______ -0.9919614195823669\n",
      "728 |[unused723]_______ [unused723]_______ [unused929]_______ -0.9937360286712646\n",
      "729 |[unused724]_______ [unused724]_______ [unused929]_______ -0.9927057027816772\n",
      "730 |[unused725]_______ [unused725]_______ [unused929]_______ -0.9924514889717102\n",
      "731 |[unused726]_______ [unused726]_______ [unused929]_______ -0.9927813410758972\n",
      "732 |[unused727]_______ [unused727]_______ [unused929]_______ -0.9935193657875061\n",
      "733 |[unused728]_______ [unused728]_______ [unused929]_______ -0.9926666021347046\n",
      "734 |[unused729]_______ [unused729]_______ [unused929]_______ -0.9932543635368347\n",
      "735 |[unused730]_______ [unused730]_______ [unused929]_______ -0.9928458333015442\n",
      "736 |[unused731]_______ [unused731]_______ [unused929]_______ -0.9930728077888489\n",
      "737 |[unused732]_______ [unused732]_______ [unused929]_______ -0.9926848411560059\n",
      "738 |[unused733]_______ [unused733]_______ [unused929]_______ -0.9930582046508789\n",
      "739 |[unused734]_______ [unused734]_______ [unused929]_______ -0.992979884147644\n",
      "740 |[unused735]_______ [unused735]_______ [unused929]_______ -0.9929965734481812\n",
      "741 |[unused736]_______ [unused736]_______ [unused929]_______ -0.9938750863075256\n",
      "742 |[unused737]_______ [unused737]_______ [unused929]_______ -0.9919503927230835\n",
      "743 |[unused738]_______ [unused738]_______ [unused929]_______ -0.993036150932312\n",
      "744 |[unused739]_______ [unused739]_______ [unused929]_______ -0.9935871958732605\n",
      "745 |[unused740]_______ [unused740]_______ [unused929]_______ -0.9938904643058777\n",
      "746 |[unused741]_______ [unused741]_______ [unused929]_______ -0.9939899444580078\n",
      "747 |[unused742]_______ [unused742]_______ [unused929]_______ -0.9934760928153992\n",
      "748 |[unused743]_______ [unused743]_______ [unused929]_______ -0.9929289221763611\n",
      "749 |[unused744]_______ [unused744]_______ [unused929]_______ -0.9928669929504395\n",
      "750 |[unused745]_______ [unused745]_______ [unused929]_______ -0.9928158521652222\n",
      "751 |[unused746]_______ [unused746]_______ [unused929]_______ -0.9910715222358704\n",
      "752 |[unused747]_______ [unused747]_______ [unused929]_______ -0.9937382936477661\n",
      "753 |[unused748]_______ [unused748]_______ [unused929]_______ -0.9921368956565857\n",
      "754 |[unused749]_______ [unused749]_______ [unused929]_______ -0.9930810332298279\n",
      "755 |[unused750]_______ [unused750]_______ [unused929]_______ -0.9929126501083374\n",
      "756 |[unused751]_______ [unused751]_______ [unused929]_______ -0.9913948178291321\n",
      "757 |[unused752]_______ [unused752]_______ [unused929]_______ -0.9936167597770691\n",
      "758 |[unused753]_______ [unused753]_______ [unused929]_______ -0.9926769137382507\n",
      "759 |[unused754]_______ [unused754]_______ [unused929]_______ -0.9937766194343567\n",
      "760 |[unused755]_______ [unused755]_______ [unused929]_______ -0.9943351745605469\n",
      "761 |[unused756]_______ [unused756]_______ [unused929]_______ -0.9931533336639404\n",
      "762 |[unused757]_______ [unused757]_______ [unused929]_______ -0.9939584136009216\n",
      "763 |[unused758]_______ [unused758]_______ [unused929]_______ -0.9930922985076904\n",
      "764 |[unused759]_______ [unused759]_______ [unused929]_______ -0.9915715456008911\n",
      "765 |[unused760]_______ [unused760]_______ [unused929]_______ -0.9936644434928894\n",
      "766 |[unused761]_______ [unused761]_______ [unused929]_______ -0.992786169052124\n",
      "767 |[unused762]_______ [unused762]_______ [unused929]_______ -0.9938929677009583\n",
      "768 |[unused763]_______ [unused763]_______ [unused929]_______ -0.9929140210151672\n",
      "769 |[unused764]_______ [unused764]_______ [unused929]_______ -0.993621289730072\n",
      "770 |[unused765]_______ [unused765]_______ [unused929]_______ -0.9931332468986511\n",
      "771 |[unused766]_______ [unused766]_______ [unused929]_______ -0.9937686324119568\n",
      "772 |[unused767]_______ [unused767]_______ [unused929]_______ -0.9935150146484375\n",
      "773 |[unused768]_______ [unused768]_______ [unused929]_______ -0.9934842586517334\n",
      "774 |[unused769]_______ [unused769]_______ [unused929]_______ -0.9934216141700745\n",
      "775 |[unused770]_______ [unused770]_______ [unused929]_______ -0.9939658641815186\n",
      "776 |[unused771]_______ [unused771]_______ [unused929]_______ -0.9930592775344849\n",
      "777 |[unused772]_______ [unused772]_______ [unused929]_______ -0.9926642775535583\n",
      "778 |[unused773]_______ [unused773]_______ [unused175]_______ -0.9938300848007202\n",
      "779 |[unused774]_______ [unused774]_______ [unused929]_______ -0.9929714798927307\n",
      "780 |[unused775]_______ [unused775]_______ [unused929]_______ -0.9925639033317566\n",
      "781 |[unused776]_______ [unused776]_______ [unused929]_______ -0.9935052990913391\n",
      "782 |[unused777]_______ [unused777]_______ [unused929]_______ -0.9924890398979187\n",
      "783 |[unused778]_______ [unused778]_______ [unused929]_______ -0.9935245513916016\n",
      "784 |[unused779]_______ [unused779]_______ [unused929]_______ -0.9933862090110779\n",
      "785 |[unused780]_______ [unused780]_______ [unused929]_______ -0.9928095936775208\n",
      "786 |[unused781]_______ [unused781]_______ [unused929]_______ -0.9924317598342896\n",
      "787 |[unused782]_______ [unused782]_______ [unused929]_______ -0.9939551949501038\n",
      "788 |[unused783]_______ [unused783]_______ [unused929]_______ -0.9923741817474365\n",
      "789 |[unused784]_______ [unused784]_______ [unused929]_______ -0.993069052696228\n",
      "790 |[unused785]_______ [unused785]_______ [unused929]_______ -0.9930140972137451\n",
      "791 |[unused786]_______ [unused786]_______ [unused929]_______ -0.9929470419883728\n",
      "792 |[unused787]_______ [unused787]_______ [unused929]_______ -0.9934826493263245\n",
      "793 |[unused788]_______ [unused788]_______ [unused929]_______ -0.9921476244926453\n",
      "794 |[unused789]_______ [unused789]_______ [unused929]_______ -0.9936952590942383\n",
      "795 |[unused790]_______ [unused790]_______ [unused929]_______ -0.9930535554885864\n",
      "796 |[unused791]_______ [unused791]_______ [unused929]_______ -0.9938050508499146\n",
      "797 |[unused792]_______ [unused792]_______ [unused929]_______ -0.9929676055908203\n",
      "798 |[unused793]_______ [unused793]_______ [unused929]_______ -0.9929554462432861\n",
      "799 |[unused794]_______ [unused794]_______ [unused929]_______ -0.9937374591827393\n",
      "800 |[unused795]_______ [unused795]_______ [unused929]_______ -0.9934591054916382\n",
      "801 |[unused796]_______ [unused796]_______ [unused929]_______ -0.9920315742492676\n",
      "802 |[unused797]_______ [unused797]_______ [unused929]_______ -0.9930294752120972\n",
      "803 |[unused798]_______ [unused798]_______ [unused929]_______ -0.9936313629150391\n",
      "804 |[unused799]_______ [unused799]_______ [unused929]_______ -0.9929343461990356\n",
      "805 |[unused800]_______ [unused800]_______ [unused929]_______ -0.9919017553329468\n",
      "806 |[unused801]_______ [unused801]_______ [unused929]_______ -0.9920694828033447\n",
      "807 |[unused802]_______ [unused802]_______ [unused929]_______ -0.992715060710907\n",
      "808 |[unused803]_______ [unused803]_______ [unused929]_______ -0.9920390248298645\n",
      "809 |[unused804]_______ [unused804]_______ [unused929]_______ -0.993672251701355\n",
      "810 |[unused805]_______ [unused805]_______ [unused929]_______ -0.9921411275863647\n",
      "811 |[unused806]_______ [unused806]_______ [unused929]_______ -0.9924309253692627\n",
      "812 |[unused807]_______ [unused807]_______ [unused929]_______ -0.9934033155441284\n",
      "813 |[unused808]_______ [unused808]_______ [unused929]_______ -0.9932177662849426\n",
      "814 |[unused809]_______ [unused809]_______ [unused929]_______ -0.9931788444519043\n",
      "815 |[unused810]_______ [unused810]_______ [unused929]_______ -0.9928094744682312\n",
      "816 |[unused811]_______ [unused811]_______ [unused929]_______ -0.9935737252235413\n",
      "817 |[unused812]_______ [unused812]_______ [unused929]_______ -0.9922329187393188\n",
      "818 |[unused813]_______ [unused813]_______ [unused929]_______ -0.9924171566963196\n",
      "819 |[unused814]_______ [unused814]_______ [unused929]_______ -0.9927653074264526\n",
      "820 |[unused815]_______ [unused815]_______ [unused929]_______ -0.993599534034729\n",
      "821 |[unused816]_______ [unused816]_______ [unused929]_______ -0.9921401143074036\n",
      "822 |[unused817]_______ [unused817]_______ [unused929]_______ -0.9935113787651062\n",
      "823 |[unused818]_______ [unused818]_______ [unused929]_______ -0.992591142654419\n",
      "824 |[unused819]_______ [unused819]_______ [unused929]_______ -0.9930574893951416\n",
      "825 |[unused820]_______ [unused820]_______ [unused929]_______ -0.992313027381897\n",
      "826 |[unused821]_______ [unused821]_______ [unused929]_______ -0.9930377006530762\n",
      "827 |[unused822]_______ [unused822]_______ [unused929]_______ -0.992954671382904\n",
      "828 |[unused823]_______ [unused823]_______ [unused929]_______ -0.9934526085853577\n",
      "829 |[unused824]_______ [unused824]_______ [unused929]_______ -0.9939953088760376\n",
      "830 |[unused825]_______ [unused825]_______ [unused929]_______ -0.9923359751701355\n",
      "831 |[unused826]_______ [unused826]_______ [unused929]_______ -0.991999089717865\n",
      "832 |[unused827]_______ [unused827]_______ [unused929]_______ -0.9933445453643799\n",
      "833 |[unused828]_______ [unused828]_______ [unused929]_______ -0.9921367168426514\n",
      "834 |[unused829]_______ [unused829]_______ [unused929]_______ -0.993121862411499\n",
      "835 |[unused830]_______ [unused830]_______ [unused929]_______ -0.9931970834732056\n",
      "836 |[unused831]_______ [unused831]_______ [unused929]_______ -0.9928663372993469\n",
      "837 |[unused832]_______ [unused832]_______ [unused929]_______ -0.9929514527320862\n",
      "838 |[unused833]_______ [unused833]_______ [unused929]_______ -0.9937772750854492\n",
      "839 |[unused834]_______ [unused834]_______ [unused929]_______ -0.9938413500785828\n",
      "840 |[unused835]_______ [unused835]_______ [unused929]_______ -0.993828296661377\n",
      "841 |[unused836]_______ [unused836]_______ [unused929]_______ -0.9940741062164307\n",
      "842 |[unused837]_______ [unused837]_______ [unused929]_______ -0.9931626319885254\n",
      "843 |[unused838]_______ [unused838]_______ [unused929]_______ -0.9938294887542725\n",
      "844 |[unused839]_______ [unused839]_______ [unused929]_______ -0.9923879504203796\n",
      "845 |[unused840]_______ [unused840]_______ [unused929]_______ -0.9933450818061829\n",
      "846 |[unused841]_______ [unused841]_______ [unused929]_______ -0.9928516149520874\n",
      "847 |[unused842]_______ [unused842]_______ [unused929]_______ -0.9940060377120972\n",
      "848 |[unused843]_______ [unused843]_______ [unused929]_______ -0.9919001460075378\n",
      "849 |[unused844]_______ [unused844]_______ [unused929]_______ -0.9939782619476318\n",
      "850 |[unused845]_______ [unused845]_______ [unused929]_______ -0.9924998879432678\n",
      "851 |[unused846]_______ [unused846]_______ [unused929]_______ -0.9924478530883789\n",
      "852 |[unused847]_______ [unused847]_______ [unused929]_______ -0.9933658838272095\n",
      "853 |[unused848]_______ [unused848]_______ [unused929]_______ -0.9922927618026733\n",
      "854 |[unused849]_______ [unused849]_______ [unused929]_______ -0.9923743009567261\n",
      "855 |[unused850]_______ [unused850]_______ [unused929]_______ -0.9919352531433105\n",
      "856 |[unused851]_______ [unused851]_______ [unused929]_______ -0.9926168918609619\n",
      "857 |[unused852]_______ [unused852]_______ [unused929]_______ -0.9923815131187439\n",
      "858 |[unused853]_______ [unused853]_______ [unused929]_______ -0.9926042556762695\n",
      "859 |[unused854]_______ [unused854]_______ [unused929]_______ -0.9927094578742981\n",
      "860 |[unused855]_______ [unused855]_______ [unused929]_______ -0.9933769106864929\n",
      "861 |[unused856]_______ [unused856]_______ [unused929]_______ -0.9930687546730042\n",
      "862 |[unused857]_______ [unused857]_______ [unused929]_______ -0.9925558567047119\n",
      "863 |[unused858]_______ [unused858]_______ [unused929]_______ -0.9927988648414612\n",
      "864 |[unused859]_______ [unused859]_______ [unused929]_______ -0.9941292405128479\n",
      "865 |[unused860]_______ [unused860]_______ [unused929]_______ -0.9928615093231201\n",
      "866 |[unused861]_______ [unused861]_______ [unused929]_______ -0.993434727191925\n",
      "867 |[unused862]_______ [unused862]_______ [unused929]_______ -0.9934483766555786\n",
      "868 |[unused863]_______ [unused863]_______ [unused929]_______ -0.9924295544624329\n",
      "869 |[unused864]_______ [unused864]_______ [unused929]_______ -0.9934669137001038\n",
      "870 |[unused865]_______ [unused865]_______ [unused929]_______ -0.9926420450210571\n",
      "871 |[unused866]_______ [unused866]_______ [unused929]_______ -0.9929631948471069\n",
      "872 |[unused867]_______ [unused867]_______ [unused929]_______ -0.992486834526062\n",
      "873 |[unused868]_______ [unused868]_______ [unused929]_______ -0.9928010106086731\n",
      "874 |[unused869]_______ [unused869]_______ [unused929]_______ -0.9934887886047363\n",
      "875 |[unused870]_______ [unused870]_______ [unused929]_______ -0.9933123588562012\n",
      "876 |[unused871]_______ [unused871]_______ [unused929]_______ -0.9920699000358582\n",
      "877 |[unused872]_______ [unused872]_______ [unused175]_______ -0.9928828477859497\n",
      "878 |[unused873]_______ [unused873]_______ [unused175]_______ -0.9928050637245178\n",
      "879 |[unused874]_______ [unused874]_______ [unused929]_______ -0.9930235743522644\n",
      "880 |[unused875]_______ [unused875]_______ [unused929]_______ -0.9928066730499268\n",
      "881 |[unused876]_______ [unused876]_______ [unused929]_______ -0.9918813705444336\n",
      "882 |[unused877]_______ [unused877]_______ [unused929]_______ -0.993289053440094\n",
      "883 |[unused878]_______ [unused878]_______ [unused929]_______ -0.9936841130256653\n",
      "884 |[unused879]_______ [unused879]_______ [unused929]_______ -0.9932988882064819\n",
      "885 |[unused880]_______ [unused880]_______ [unused929]_______ -0.9933425784111023\n",
      "886 |[unused881]_______ [unused881]_______ [unused929]_______ -0.9934951066970825\n",
      "887 |[unused882]_______ [unused882]_______ [unused929]_______ -0.9928711652755737\n",
      "888 |[unused883]_______ [unused883]_______ [unused929]_______ -0.9928368926048279\n",
      "889 |[unused884]_______ [unused884]_______ [unused929]_______ -0.9929513931274414\n",
      "890 |[unused885]_______ [unused885]_______ [unused929]_______ -0.9929776191711426\n",
      "891 |[unused886]_______ [unused886]_______ [unused929]_______ -0.9924196004867554\n",
      "892 |[unused887]_______ [unused887]_______ [unused929]_______ -0.9929101467132568\n",
      "893 |[unused888]_______ [unused888]_______ [unused929]_______ -0.9932029843330383\n",
      "894 |[unused889]_______ [unused889]_______ [unused929]_______ -0.9921259880065918\n",
      "895 |[unused890]_______ [unused890]_______ [unused929]_______ -0.9921557307243347\n",
      "896 |[unused891]_______ [unused891]_______ [unused929]_______ -0.9938888549804688\n",
      "897 |[unused892]_______ [unused892]_______ [unused929]_______ -0.9929714798927307\n",
      "898 |[unused893]_______ [unused893]_______ [unused929]_______ -0.9927698373794556\n",
      "899 |[unused894]_______ [unused894]_______ [unused929]_______ -0.9930106997489929\n",
      "900 |[unused895]_______ [unused895]_______ [unused929]_______ -0.9921866655349731\n",
      "901 |[unused896]_______ [unused896]_______ [unused929]_______ -0.9938586950302124\n",
      "902 |[unused897]_______ [unused897]_______ [unused929]_______ -0.9927980899810791\n",
      "903 |[unused898]_______ [unused898]_______ [unused929]_______ -0.9925417304039001\n",
      "904 |[unused899]_______ [unused899]_______ [unused929]_______ -0.994085431098938\n",
      "905 |[unused900]_______ [unused900]_______ [unused929]_______ -0.9940783977508545\n",
      "906 |[unused901]_______ [unused901]_______ [unused929]_______ -0.9933714270591736\n",
      "907 |[unused902]_______ [unused902]_______ [unused929]_______ -0.9926179051399231\n",
      "908 |[unused903]_______ [unused903]_______ [unused929]_______ -0.9929443597793579\n",
      "909 |[unused904]_______ [unused904]_______ [unused929]_______ -0.9925644993782043\n",
      "910 |[unused905]_______ [unused905]_______ [unused929]_______ -0.9928413033485413\n",
      "911 |[unused906]_______ [unused906]_______ [unused929]_______ -0.9937604069709778\n",
      "912 |[unused907]_______ [unused907]_______ [unused929]_______ -0.9932339787483215\n",
      "913 |[unused908]_______ [unused908]_______ [unused929]_______ -0.9929667115211487\n",
      "914 |[unused909]_______ [unused909]_______ [unused929]_______ -0.992446780204773\n",
      "915 |[unused910]_______ [unused910]_______ [unused929]_______ -0.9935259222984314\n",
      "916 |[unused911]_______ [unused911]_______ [unused929]_______ -0.9931654334068298\n",
      "917 |[unused912]_______ [unused912]_______ [unused929]_______ -0.9924677610397339\n",
      "918 |[unused913]_______ [unused913]_______ [unused929]_______ -0.9933900237083435\n",
      "919 |[unused914]_______ [unused914]_______ [unused929]_______ -0.992293119430542\n",
      "920 |[unused915]_______ [unused915]_______ [unused929]_______ -0.9934130311012268\n",
      "921 |[unused916]_______ [unused916]_______ [unused929]_______ -0.9928128123283386\n",
      "922 |[unused917]_______ [unused917]_______ [unused929]_______ -0.9937119483947754\n",
      "923 |[unused918]_______ [unused918]_______ [unused929]_______ -0.9928036332130432\n",
      "924 |[unused919]_______ [unused919]_______ [unused929]_______ -0.993064284324646\n",
      "925 |[unused920]_______ [unused920]_______ [unused929]_______ -0.9930338263511658\n",
      "926 |[unused921]_______ [unused921]_______ [unused929]_______ -0.9928150773048401\n",
      "927 |[unused922]_______ [unused922]_______ [unused929]_______ -0.9928363561630249\n",
      "928 |[unused923]_______ [unused923]_______ [unused929]_______ -0.9930009841918945\n",
      "929 |[unused924]_______ [unused924]_______ [unused929]_______ -0.9932128190994263\n",
      "930 |[unused925]_______ [unused925]_______ [unused929]_______ -0.992495059967041\n",
      "931 |[unused926]_______ [unused926]_______ [unused929]_______ -0.9941955804824829\n",
      "932 |[unused927]_______ [unused927]_______ [unused929]_______ -0.9936508536338806\n",
      "933 |[unused928]_______ [unused928]_______ [unused929]_______ -0.9930760860443115\n",
      "935 |[unused930]_______ [unused930]_______ [unused929]_______ -0.9938576817512512\n",
      "936 |[unused931]_______ [unused931]_______ [unused929]_______ -0.9928508996963501\n",
      "937 |[unused932]_______ [unused932]_______ [unused929]_______ -0.9931927919387817\n",
      "938 |[unused933]_______ [unused933]_______ [unused929]_______ -0.9937900304794312\n",
      "939 |[unused934]_______ [unused934]_______ [unused929]_______ -0.993024468421936\n",
      "940 |[unused935]_______ [unused935]_______ [unused929]_______ -0.9920979738235474\n",
      "941 |[unused936]_______ [unused936]_______ [unused929]_______ -0.9926629662513733\n",
      "942 |[unused937]_______ [unused937]_______ [unused929]_______ -0.9920140504837036\n",
      "943 |[unused938]_______ [unused938]_______ [unused929]_______ -0.9929713010787964\n",
      "944 |[unused939]_______ [unused939]_______ [unused929]_______ -0.9938333630561829\n",
      "945 |[unused940]_______ [unused940]_______ [unused929]_______ -0.9927381277084351\n",
      "946 |[unused941]_______ [unused941]_______ [unused929]_______ -0.9923095703125\n",
      "947 |[unused942]_______ [unused942]_______ [unused929]_______ -0.9928370118141174\n",
      "948 |[unused943]_______ [unused943]_______ [unused929]_______ -0.9920336008071899\n",
      "949 |[unused944]_______ [unused944]_______ [unused929]_______ -0.9940485954284668\n",
      "950 |[unused945]_______ [unused945]_______ [unused929]_______ -0.9931243062019348\n",
      "951 |[unused946]_______ [unused946]_______ [unused929]_______ -0.9923412203788757\n",
      "952 |[unused947]_______ [unused947]_______ [unused929]_______ -0.9934824109077454\n",
      "953 |[unused948]_______ [unused948]_______ [unused929]_______ -0.9945152401924133\n",
      "954 |[unused949]_______ [unused949]_______ [unused929]_______ -0.9927816390991211\n",
      "955 |[unused950]_______ [unused950]_______ [unused929]_______ -0.9937923550605774\n",
      "956 |[unused951]_______ [unused951]_______ [unused929]_______ -0.9925285577774048\n",
      "957 |[unused952]_______ [unused952]_______ [unused929]_______ -0.9917334914207458\n",
      "958 |[unused953]_______ [unused953]_______ [unused929]_______ -0.9925767779350281\n",
      "959 |[unused954]_______ [unused954]_______ [unused929]_______ -0.9921572804450989\n",
      "960 |[unused955]_______ [unused955]_______ [unused929]_______ -0.9929106831550598\n",
      "961 |[unused956]_______ [unused956]_______ [unused929]_______ -0.9929516315460205\n",
      "962 |[unused957]_______ [unused957]_______ [unused929]_______ -0.9931525588035583\n",
      "963 |[unused958]_______ [unused958]_______ [unused929]_______ -0.992450475692749\n",
      "964 |[unused959]_______ [unused959]_______ [unused929]_______ -0.9931784272193909\n",
      "965 |[unused960]_______ [unused960]_______ [unused929]_______ -0.9940300583839417\n",
      "966 |[unused961]_______ [unused961]_______ [unused929]_______ -0.9937105774879456\n",
      "967 |[unused962]_______ [unused962]_______ [unused929]_______ -0.9929710626602173\n",
      "968 |[unused963]_______ [unused963]_______ [unused929]_______ -0.9925172328948975\n",
      "969 |[unused964]_______ [unused964]_______ [unused929]_______ -0.9929361343383789\n",
      "970 |[unused965]_______ [unused965]_______ [unused929]_______ -0.9935010075569153\n",
      "971 |[unused966]_______ [unused966]_______ [unused929]_______ -0.9930529594421387\n",
      "972 |[unused967]_______ [unused967]_______ [unused929]_______ -0.9927103519439697\n",
      "973 |[unused968]_______ [unused968]_______ [unused929]_______ -0.9931068420410156\n"
     ]
    },
    {
     "name": "stdout",
     "output_type": "stream",
     "text": [
      "974 |[unused969]_______ [unused969]_______ [unused929]_______ -0.9936850666999817\n",
      "975 |[unused970]_______ [unused970]_______ [unused929]_______ -0.9932311177253723\n",
      "976 |[unused971]_______ [unused971]_______ [unused929]_______ -0.9925400614738464\n",
      "977 |[unused972]_______ [unused972]_______ [unused175]_______ -0.9937339425086975\n",
      "978 |[unused973]_______ [unused973]_______ [unused929]_______ -0.9922584891319275\n",
      "979 |[unused974]_______ [unused974]_______ [unused929]_______ -0.9921924471855164\n",
      "980 |[unused975]_______ [unused975]_______ [unused929]_______ -0.9927505254745483\n",
      "981 |[unused976]_______ [unused976]_______ [unused929]_______ -0.9928442239761353\n",
      "982 |[unused977]_______ [unused977]_______ [unused929]_______ -0.9925780296325684\n",
      "983 |[unused978]_______ [unused978]_______ [unused929]_______ -0.9933202266693115\n",
      "984 |[unused979]_______ [unused979]_______ [unused929]_______ -0.9924744367599487\n",
      "985 |[unused980]_______ [unused980]_______ [unused929]_______ -0.992380678653717\n",
      "986 |[unused981]_______ [unused981]_______ [unused929]_______ -0.9940862655639648\n",
      "987 |[unused982]_______ [unused982]_______ [unused929]_______ -0.9930301904678345\n",
      "988 |[unused983]_______ [unused983]_______ [unused929]_______ -0.9932181239128113\n",
      "989 |[unused984]_______ [unused984]_______ [unused929]_______ -0.993554413318634\n",
      "990 |[unused985]_______ [unused985]_______ [unused929]_______ -0.9931092262268066\n",
      "991 |[unused986]_______ [unused986]_______ [unused929]_______ -0.9930707812309265\n",
      "992 |[unused987]_______ [unused987]_______ [unused929]_______ -0.9924027919769287\n",
      "993 |[unused988]_______ [unused988]_______ [unused929]_______ -0.9932225942611694\n",
      "994 |[unused989]_______ [unused989]_______ [unused929]_______ -0.99295574426651\n",
      "995 |[unused990]_______ [unused990]_______ [unused929]_______ -0.9931871891021729\n",
      "996 |[unused991]_______ [unused991]_______ [unused929]_______ -0.9943451881408691\n",
      "997 |[unused992]_______ [unused992]_______ [unused929]_______ -0.9929485321044922\n",
      "998 |[unused993]_______ [unused993]_______ [unused929]_______ -0.9925787448883057\n",
      "1000 |\"_________________ \"_________________ ,_________________ -0.7725330591201782\n",
      "1005 |'_________________ '_________________ ,_________________ -0.7319216728210449\n",
      "1006 |(_________________ (_________________ ,_________________ -0.7625836133956909\n",
      "1007 |)_________________ )_________________ ._________________ -0.7428322434425354\n",
      "1011 |-_________________ -_________________ ,_________________ -0.7834855318069458\n",
      "1101 |or________________ or________________ and_______________ -0.6997098922729492\n",
      "8640 |1812______________ 1812______________ 1811______________ -0.9323973655700684\n",
      "8725 |1838______________ 1838______________ 1836______________ -0.9552847743034363\n",
      "8899 |106_______________ 106_______________ 107_______________ -0.9395179748535156\n",
      "15183 |1758______________ 1758______________ 1756______________ -0.9561997056007385\n",
      "15585 |256_______________ 256_______________ 248_______________ -0.9424325823783875\n",
      "15607 |480_______________ 480_______________ 490_______________ -0.9492108821868896\n",
      "15722 |440_______________ 440_______________ 430_______________ -0.9448491930961609\n",
      "15740 |420_______________ 420_______________ 430_______________ -0.9478700160980225\n",
      "15777 |1772______________ 1772______________ 1773______________ -0.9393965005874634\n",
      "15976 |182_______________ 182_______________ 184_______________ -0.9443000555038452\n",
      "16222 |1660______________ 1660______________ 1659______________ -0.9440687894821167\n",
      "16418 |212_______________ 212_______________ 213_______________ -0.9593066573143005\n",
      "16666 |1763______________ 1763______________ 1764______________ -0.9580572247505188\n",
      "16958 |206_______________ 206_______________ 207_______________ -0.9537602066993713\n",
      "17303 |188_______________ 188_______________ 189_______________ -0.9621212482452393\n",
      "17332 |410_______________ 410_______________ 430_______________ -0.9547691941261292\n",
      "17505 |365_______________ 365_______________ 355_______________ -0.9252404570579529\n",
      "17511 |209_______________ 209_______________ 207_______________ -0.9565677046775818\n",
      "17601 |187_______________ 187_______________ 189_______________ -0.9584164619445801\n",
      "17853 |640_______________ 640_______________ 620_______________ -0.9449715614318848\n",
      "17950 |610_______________ 610_______________ 620_______________ -0.9438459277153015\n",
      "18048 |214_______________ 214_______________ 213_______________ -0.9513146281242371\n",
      "18096 |303_______________ 303_______________ 304_______________ -0.9391274452209473\n",
      "18211 |pmid______________ pmid______________ [unused378]_______ -0.8606588840484619\n",
      "18476 |305_______________ 305_______________ 307_______________ -0.9625982046127319\n",
      "18613 |265_______________ 265_______________ 268_______________ -0.9543672204017639\n",
      "18696 |255_______________ 255_______________ 257_______________ -0.9581555724143982\n",
      "18793 |218_______________ 218_______________ 217_______________ -0.9582504630088806\n",
      "19366 |42nd______________ 42nd______________ 41st______________ -0.9544408321380615\n",
      "19480 |1767______________ 1767______________ 1768______________ -0.9611045122146606\n",
      "19578 |264_______________ 264_______________ 268_______________ -0.9487009048461914\n",
      "19761 |1745______________ 1745______________ 1744______________ -0.9496344923973083\n",
      "20151 |228_______________ 228_______________ 229_______________ -0.9584511518478394\n",
      "20274 |246_______________ 246_______________ 244_______________ -0.9616164565086365\n",
      "20323 |242_______________ 242_______________ 243_______________ -0.9531411528587341\n",
      "20491 |1715______________ 1715______________ 1711______________ -0.9527772068977356\n",
      "20679 |625_______________ 625_______________ 620_______________ -0.9427666068077087\n",
      "20719 |720_______________ 720_______________ 730_______________ -0.9416159987449646\n",
      "20803 |281_______________ 281_______________ 283_______________ -0.957951545715332\n",
      "21189 |247_______________ 247_______________ 248_______________ -0.9475517272949219\n",
      "21279 |1644______________ 1644______________ 1646______________ -0.9382362365722656\n",
      "21329 |311_______________ 311_______________ 307_______________ -0.9560351371765137\n",
      "21701 |680_______________ 680_______________ 690_______________ -0.9520084857940674\n",
      "21734 |316_______________ 316_______________ 317_______________ -0.904522180557251\n",
      "21742 |405_______________ 405_______________ 406_______________ -0.9489760398864746\n",
      "21962 |308_______________ 308_______________ 307_______________ -0.9652913212776184\n",
      "22396 |278_______________ 278_______________ 279_______________ -0.9641536474227905\n",
      "22517 |288_______________ 288_______________ 289_______________ -0.9579929113388062\n",
      "22687 |1707______________ 1707______________ 1709______________ -0.9488505125045776\n",
      "22832 |590_______________ 590_______________ 580_______________ -0.9590027928352356\n",
      "22898 |328_______________ 328_______________ 326_______________ -0.948682963848114\n",
      "22985 |1727______________ 1727______________ 1729______________ -0.9631320238113403\n",
      "23395 |1739______________ 1739______________ 1738______________ -0.963805615901947\n",
      "23460 |412_______________ 412_______________ 415_______________ -0.9389735460281372\n",
      "23511 |299_______________ 299_______________ 298_______________ -0.9585757851600647\n",
      "23788 |357_______________ 357_______________ 355_______________ -0.9474483728408813\n",
      "23813 |314_______________ 314_______________ 317_______________ -0.9565932154655457\n",
      "24031 |319_______________ 319_______________ 317_______________ -0.9592665433883667\n",
      "24446 |293_______________ 293_______________ 294_______________ -0.9504303336143494\n",
      "24667 |296_______________ 296_______________ 294_______________ -0.9603789448738098\n",
      "24862 |1683______________ 1683______________ 1682______________ -0.9568148255348206\n",
      "24953 |411_______________ 411_______________ 415_______________ -0.9357169270515442\n",
      "25221 |343_______________ 343_______________ 344_______________ -0.9532673954963684\n",
      "25305 |338_______________ 338_______________ 336_______________ -0.9560657143592834\n",
      "25539 |1719______________ 1719______________ 1718______________ -0.9606069922447205\n",
      "26182 |1652______________ 1652______________ 1653______________ -0.9475770592689514\n",
      "26679 |421_______________ 421_______________ 425_______________ -0.9488110542297363\n"
     ]
    }
   ],
   "source": [
    "for i, r in enumerate(right):\n",
    "  if r==0 and i%1==0:# and (\"|\"+GetChars(ip[i])).startswith(\"|[m\"):  \n",
    "    print(i, \"|\"+GetChars(ip[i]), GetChars(Torch2Py(ds[i]['features'])), GetChars(Torch2Py(ds[maxes[i]]['features'])), losses[i])"
   ]
  },
  {
   "cell_type": "code",
   "execution_count": 61,
   "metadata": {
    "collapsed": false
   },
   "outputs": [],
   "source": [
    "right = np.array(right)\n",
    "losses = np.array(losses)\n"
   ]
  },
  {
   "cell_type": "code",
   "execution_count": 62,
   "metadata": {
    "collapsed": false
   },
   "outputs": [
    {
     "data": {
      "text/plain": [
       "(-0.9135421392686506, -0.9889549296786527)"
      ]
     },
     "execution_count": 62,
     "metadata": {},
     "output_type": "execute_result"
    }
   ],
   "source": [
    "losses[right==1].mean(), losses[right==0].mean()"
   ]
  },
  {
   "cell_type": "code",
   "execution_count": 63,
   "metadata": {
    "collapsed": false
   },
   "outputs": [],
   "source": [
    "right_losses = losses[right==1]\n",
    "wrong_losses = losses[right==0]"
   ]
  },
  {
   "cell_type": "code",
   "execution_count": 70,
   "metadata": {
    "collapsed": false
   },
   "outputs": [],
   "source": [
    "bins = 1000\n",
    "hrange = (-1, -.8)\n",
    "right_hist = np.histogram(right_losses, bins=bins, range=hrange)\n",
    "wrong_hist = np.histogram(wrong_losses, bins=bins, range=hrange)"
   ]
  },
  {
   "cell_type": "code",
   "execution_count": 71,
   "metadata": {
    "collapsed": false
   },
   "outputs": [],
   "source": [
    "def MakeHist(h, name=None, color=None):\n",
    "  y = h[0]\n",
    "  x= h[1]\n",
    "  return {\n",
    "    'name': name,\n",
    "    'type': 'bar',                                                                                                                   'x': x,\n",
    "          'marker': dict(opacity=.7, color=color),\n",
    "   'y': y\n",
    "  }\n"
   ]
  },
  {
   "cell_type": "code",
   "execution_count": 72,
   "metadata": {
    "collapsed": false
   },
   "outputs": [],
   "source": [
    "norm_factor = max(wrong_hist[0])/max(right_hist[0])"
   ]
  },
  {
   "cell_type": "code",
   "execution_count": 73,
   "metadata": {
    "collapsed": false
   },
   "outputs": [],
   "source": [
    "right_hist = (right_hist[0]*norm_factor, right_hist[1])"
   ]
  },
  {
   "cell_type": "code",
   "execution_count": 74,
   "metadata": {
    "collapsed": false
   },
   "outputs": [],
   "source": [
    "rh = MakeHist(right_hist, \"correct\", \"green\")\n",
    "wh = MakeHist(wrong_hist, \"wrong\", \"red\")\n"
   ]
  },
  {
   "cell_type": "code",
   "execution_count": 75,
   "metadata": {
    "collapsed": false
   },
   "outputs": [
    {
     "data": {
      "text/plain": [
       "'/home/tucker/Downloads/strategy_heatmap.html'"
      ]
     },
     "execution_count": 75,
     "metadata": {},
     "output_type": "execute_result"
    }
   ],
   "source": [
    "fig =  go.Figure(data=[rh, wh], layout={'barmode':'overlay'})\n",
    "plotly.offline.plot(fig, filename='/home/tucker/Downloads/strategy_heatmap.html')\n"
   ]
  },
  {
   "cell_type": "code",
   "execution_count": 16,
   "metadata": {
    "collapsed": false
   },
   "outputs": [
    {
     "data": {
      "text/plain": [
       "26864"
      ]
     },
     "execution_count": 16,
     "metadata": {},
     "output_type": "execute_result"
    }
   ],
   "source": [
    "len(outs)"
   ]
  },
  {
   "cell_type": "code",
   "execution_count": 17,
   "metadata": {
    "collapsed": false
   },
   "outputs": [
    {
     "data": {
      "text/plain": [
       "26864"
      ]
     },
     "execution_count": 17,
     "metadata": {},
     "output_type": "execute_result"
    }
   ],
   "source": [
    "len(targets)"
   ]
  },
  {
   "cell_type": "code",
   "execution_count": 23,
   "metadata": {
    "collapsed": false
   },
   "outputs": [],
   "source": [
    "outs = torch.tensor(outs)\n",
    "targets = torch.tensor(targets)\n"
   ]
  },
  {
   "cell_type": "code",
   "execution_count": 26,
   "metadata": {
    "collapsed": false
   },
   "outputs": [],
   "source": [
    "def cos_loss(out, labels, embedding_matrix):\n",
    "  targets = embedding_matrix[labels]\n",
    "  pred_normalize = out.norm(dim=-1)\n",
    "  target_normalize = targets.norm(dim=-1)\n",
    "  # batchwise matrix multiply\n",
    "  inner_prod = out.unsqueeze(1)@targets.view(-1,targets.shape[-1], 1)\n",
    "  normed = inner_prod.squeeze()/(pred_normalize*target_normalize)\n",
    "  return -1*normed"
   ]
  },
  {
   "cell_type": "code",
   "execution_count": 29,
   "metadata": {
    "collapsed": false
   },
   "outputs": [],
   "source": [
    "weight = outs.clone()"
   ]
  },
  {
   "cell_type": "code",
   "execution_count": 30,
   "metadata": {
    "collapsed": false
   },
   "outputs": [],
   "source": [
    "weight.requires_grad=True"
   ]
  },
  {
   "cell_type": "code",
   "execution_count": 31,
   "metadata": {
    "collapsed": false
   },
   "outputs": [],
   "source": []
  },
  {
   "cell_type": "code",
   "execution_count": 32,
   "metadata": {
    "collapsed": false
   },
   "outputs": [],
   "source": [
    "loss.backward()"
   ]
  },
  {
   "cell_type": "code",
   "execution_count": 64,
   "metadata": {
    "collapsed": false
   },
   "outputs": [],
   "source": [
    "optimizer = torch.optim.Adam([weight], lr=.0001)"
   ]
  },
  {
   "cell_type": "code",
   "execution_count": 83,
   "metadata": {
    "collapsed": false
   },
   "outputs": [
    {
     "name": "stdout",
     "output_type": "stream",
     "text": [
      "tensor(-0.9885, grad_fn=<MeanBackward0>)\n"
     ]
    }
   ],
   "source": [
    "optimizer.zero_grad()\n",
    "loss = cos_loss(weight, torch.arange(len(targets)), targets).mean()\n",
    "loss.backward()\n",
    "optimizer.step()\n",
    "print(loss)\n"
   ]
  },
  {
   "cell_type": "code",
   "execution_count": null,
   "metadata": {
    "collapsed": false
   },
   "outputs": [],
   "source": []
  }
 ],
 "metadata": {
  "kernelspec": {
   "argv": [
    "/usr/bin/python3",
    "-m",
    "ipykernel_launcher",
    "-f",
    "{connection_file}"
   ],
   "display_name": "Python 3",
   "env": null,
   "interrupt_mode": "signal",
   "language": "python",
   "metadata": null,
   "name": "python3"
  },
  "name": "ErrorAnalysis.ipynb"
 },
 "nbformat": 4,
 "nbformat_minor": 2
}
