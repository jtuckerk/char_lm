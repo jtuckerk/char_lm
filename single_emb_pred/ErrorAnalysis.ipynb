{
 "cells": [
  {
   "cell_type": "code",
   "execution_count": 1,
   "metadata": {
    "collapsed": false
   },
   "outputs": [
    {
     "name": "stdout",
     "output_type": "stream",
     "text": [
      "/home/tucker/sabbatical/predict_bert_embeddings/char_lm/single_emb_pred\r\n"
     ]
    }
   ],
   "source": [
    "!pwd"
   ]
  },
  {
   "cell_type": "code",
   "execution_count": 2,
   "metadata": {
    "collapsed": false
   },
   "outputs": [],
   "source": [
    "import numpy as np\n",
    "import plotly\n",
    "import plotly.graph_objs as go\n",
    "import torch\n",
    "from torch.utils.data import DataLoader\n",
    "from experiment import Net, InitDataset, CreateModel, LoadCheckpoint\n",
    "from yaml import safe_load\n",
    "import torch.nn as nn"
   ]
  },
  {
   "cell_type": "code",
   "execution_count": 3,
   "metadata": {
    "collapsed": false
   },
   "outputs": [
    {
     "name": "stderr",
     "output_type": "stream",
     "text": [
      "[16:11:14] Loaded model: <All keys matched successfully>\n"
     ]
    }
   ],
   "source": [
    "exphash = '7c7001396'\n",
    "\n",
    "exp = 'results/%s' % exphash\n",
    "with open(exp) as f:\n",
    "  h = safe_load(f.read())\n",
    "h = h['exp_info']  \n",
    "\n",
    "ds = InitDataset(h)\n",
    "\n",
    "\n",
    "model = CreateModel(h['hyperparameters'])\n",
    "LoadCheckpoint(model, 'models/%s'%exphash)\n",
    "\n",
    "model = model.cuda()\n"
   ]
  },
  {
   "cell_type": "code",
   "execution_count": 11,
   "metadata": {
    "collapsed": false
   },
   "outputs": [],
   "source": [
    "\n",
    "  "
   ]
  },
  {
   "cell_type": "code",
   "execution_count": 12,
   "metadata": {
    "collapsed": false
   },
   "outputs": [
    {
     "data": {
      "text/plain": [
       "{'char_to_idx_file': 'char_to_idx_map2.pt',\n",
       " 'embedding_file': 'distilbert_embedding_matrix.pt',\n",
       " 'experiment_hash': '7c7001396',\n",
       " 'experiment_name': 'single_embedding_prediction',\n",
       " 'finished_date': '2020-05-13 15:56:28.329843',\n",
       " 'hyperparameters': {'add_random_count': 4,\n",
       "  'batch_size': 512,\n",
       "  'char_embedding_size': 8,\n",
       "  'char_vocab_size': 70,\n",
       "  'conv_activation': 'relu',\n",
       "  'dot_loss_weight': 0.0,\n",
       "  'end_of_word_loss_weight': 0.0,\n",
       "  'epochs': 100,\n",
       "  'eval_acc': True,\n",
       "  'learning_rate': 0.0001,\n",
       "  'learning_rate_cap': 20,\n",
       "  'loss_fn': 'mse',\n",
       "  'lr_decay': 1,\n",
       "  'lr_step_size': 190700,\n",
       "  'misspelling_rate': 0,\n",
       "  'misspelling_transforms': 0,\n",
       "  'model_checkpoint': 'models/46bdd4d3d',\n",
       "  'model_size_range_bytes': [0, 110000000.0],\n",
       "  'optimizer': 'adam',\n",
       "  'random_seed': 8,\n",
       "  'run_validation': True,\n",
       "  'seg1.kernel_size': 18,\n",
       "  'seg1_type': 'unfold',\n",
       "  'seg2.kernel|filter_sizes': [[1, 2048], [1, 2048], [1, 2048], [1, 2048]],\n",
       "  'space_freq': 0.5,\n",
       "  'token_embedding_size': 768,\n",
       "  'word_length': 18},\n",
       " 'max_mem_alloc': 536602624,\n",
       " 'size_bytes': 57840832,\n",
       " 'size_params': 14460208,\n",
       " 'vocab_file': 'bert-base-uncased-vocab-modmask.txt',\n",
       " 'word_length': 18}"
      ]
     },
     "execution_count": 12,
     "metadata": {},
     "output_type": "execute_result"
    }
   ],
   "source": [
    "h"
   ]
  },
  {
   "cell_type": "code",
   "execution_count": 13,
   "metadata": {
    "collapsed": false
   },
   "outputs": [],
   "source": [
    "ds.add_random_count=3"
   ]
  },
  {
   "cell_type": "code",
   "execution_count": 14,
   "metadata": {
    "collapsed": false
   },
   "outputs": [],
   "source": [
    "ds.misspelling_rate=0\n",
    "#ds.misspelling_transforms=1"
   ]
  },
  {
   "cell_type": "code",
   "execution_count": 15,
   "metadata": {
    "collapsed": false
   },
   "outputs": [],
   "source": [
    "train_loader = DataLoader(ds, batch_size=512, shuffle=False)\n",
    "train_loader.embedding_matrix = ds.embedding_matrix.cuda()"
   ]
  },
  {
   "cell_type": "code",
   "execution_count": 16,
   "metadata": {
    "collapsed": false
   },
   "outputs": [
    {
     "data": {
      "text/plain": [
       "{'target_embeddings': tensor([[ 0.0046, -0.0451, -0.0911,  ..., -0.0638, -0.0154, -0.0583],\n",
       "         [-0.0539, -0.0285, -0.0464,  ..., -0.0568, -0.0403, -0.0565],\n",
       "         [-0.0794,  0.0222, -0.0019,  ...,  0.0111,  0.0055, -0.0250],\n",
       "         ...,\n",
       "         [-0.0495, -0.0240, -0.0787,  ..., -0.0239,  0.0253, -0.0510],\n",
       "         [-0.0362, -0.0712, -0.0236,  ..., -0.0872, -0.0341, -0.0058],\n",
       "         [-0.0346,  0.0280, -0.0283,  ..., -0.0194,  0.0053,  0.0125]]),\n",
       " 'labels': tensor([3000, 3001, 3002, 3003, 3004, 3005, 3006, 3007, 3008, 3009]),\n",
       " 'end_of_word_index': tensor([3, 4, 5, 6, 2, 4, 5, 5, 4, 8]),\n",
       " 'features': tensor([[37, 34, 34,  1, 58, 45, 55, 52, 50, 44, 63, 52, 58, 57,  1, 57, 47, 48],\n",
       "         [35, 43, 39, 36,  1, 46, 48, 55,  1, 63, 51, 48, 61, 48,  1, 55, 44, 46],\n",
       "         [63, 48, 44, 61, 62,  1, 57, 44, 46,  1, 62, 51, 44, 57, 50, 51, 44, 52],\n",
       "         [62, 48, 57, 44, 63, 48,  1, 58, 62, 66, 44, 55, 47,  1, 56, 58, 61, 44],\n",
       "         [34, 34,  1, 62, 59, 64, 57,  1, 56, 44, 52, 44,  1, 34, 36,  0,  0,  0],\n",
       "         [46, 44, 61, 47,  1, 58, 65, 48, 61, 46, 44, 56, 48,  1, 51, 48, 52,  1],\n",
       "         [44, 62, 52, 44, 57,  1, 44, 57, 63, 51, 61, 58, 59, 58, 55, 58, 50, 52],\n",
       "         [44, 50, 48, 57, 63,  1, 62, 52, 56, 59, 62, 58, 57, 62,  1, 61, 47, 68],\n",
       "         [35, 43, 38, 41,  1, 46, 58, 66, 44, 57,  1, 56, 44, 61, 55, 48, 68,  1],\n",
       "         [62, 58, 49, 63, 66, 44, 61, 48,  1, 45, 61, 52, 50, 51, 63, 48, 61,  1]])}"
      ]
     },
     "execution_count": 16,
     "metadata": {},
     "output_type": "execute_result"
    }
   ],
   "source": [
    "ds[3000:3010]"
   ]
  },
  {
   "cell_type": "code",
   "execution_count": 17,
   "metadata": {
    "collapsed": false
   },
   "outputs": [],
   "source": [
    "MSE = nn.MSELoss(reduction='none')\n",
    "\n",
    "def mse_loss_fn(outputs, labels, embedding_matrix):\n",
    "  return MSE(outputs, embedding_matrix[labels]).mean(-1)\n",
    "def nearest_neighbor_acc_fn(outputs, labels, embedding_matrix):\n",
    "  # overflows memory\n",
    "  # emb_mat =embedding_matrix.unsqueeze(1).expand(-1,len(outputs),-1)\n",
    "  # diffs = ((emb_mat - outputs)**2)\n",
    "  # mse = diffs.mean(-1).permute(1,0)\n",
    "\n",
    "  # too slow\n",
    "  # MSE = torch.nn.MSELoss()\n",
    "  # mins = []\n",
    "  # for pred in outputs:\n",
    "  #   vals = []\n",
    "  #   for emb in embedding_matrix:\n",
    "  #     vals.append(MSE(emb, pred))\n",
    "  #   mse = torch.stack(vals)\n",
    "\n",
    "  # just right\n",
    "  mins = []\n",
    "  mse = torch.nn.MSELoss(reduction='none')\n",
    "  for pred in outputs:\n",
    "    # repeat the pred and compare it to each entry in the embedding matrix\n",
    "    tiled_pred = pred.unsqueeze(0).expand(len(embedding_matrix), -1)\n",
    "    mins.append(mse(tiled_pred, embedding_matrix).mean(-1).argmin())\n",
    "  min_vec = torch.stack(mins)\n",
    "  right = (min_vec == labels)\n",
    "  acc = right.float()\n",
    "\n",
    "  return acc, min_vec\n"
   ]
  },
  {
   "cell_type": "code",
   "execution_count": 18,
   "metadata": {
    "collapsed": false
   },
   "outputs": [],
   "source": [
    "Torch2Py = lambda x: x.cpu().numpy().tolist()"
   ]
  },
  {
   "cell_type": "code",
   "execution_count": 19,
   "metadata": {
    "collapsed": false
   },
   "outputs": [],
   "source": [
    "def Validate(val_loader, model):\n",
    "  device = next(model.parameters()).device\n",
    "\n",
    "  cum_nearest_neighbor_acc = 0\n",
    "  cum_mse_loss = 0\n",
    "\n",
    "  embedding_matrix = val_loader.embedding_matrix\n",
    "  \n",
    "  inputs_ = []\n",
    "  right_ = []\n",
    "  losses_ = []\n",
    "  maxes = []\n",
    "\n",
    "  for i, data in enumerate(val_loader):\n",
    "    data = {k: d.to(device) for k,d in data.items()}\n",
    "    inputs = data['features'].to(device)\n",
    "    labels = data['labels'].long()\n",
    "    target_embeddings = data['target_embeddings']\n",
    "    inputs_ += Torch2Py(inputs)\n",
    "    if i > 4:\n",
    "      break\n",
    "    with torch.no_grad():\n",
    "      outputs = model(inputs)\n",
    "      mse_loss = mse_loss_fn(outputs, labels, embedding_matrix)\n",
    "      cum_mse_loss += mse_loss.mean()\n",
    "      losses_ += Torch2Py(mse_loss)\n",
    "\n",
    "      nearest_neighbor_acc, mins = nearest_neighbor_acc_fn(outputs, labels, embedding_matrix)\n",
    "      maxes += mins\n",
    "      right_ += Torch2Py(nearest_neighbor_acc)\n",
    "      cum_nearest_neighbor_acc += nearest_neighbor_acc.mean()\n",
    "\n",
    "  steps = i+1\n",
    "  print(cum_nearest_neighbor_acc/steps, cum_mse_loss.detach()/steps)\n",
    "  return inputs_, right_, losses_, maxes\n"
   ]
  },
  {
   "cell_type": "code",
   "execution_count": 20,
   "metadata": {
    "collapsed": false
   },
   "outputs": [
    {
     "name": "stdout",
     "output_type": "stream",
     "text": [
      "tensor(0.4775, device='cuda:0') tensor(0.0003, device='cuda:0')\n"
     ]
    }
   ],
   "source": [
    "ip, right, losses, maxes = Validate(train_loader, model)"
   ]
  },
  {
   "cell_type": "code",
   "execution_count": 27,
   "metadata": {
    "collapsed": false
   },
   "outputs": [],
   "source": [
    "out = model(next(iter(train_loader))['features'].cuda())"
   ]
  },
  {
   "cell_type": "code",
   "execution_count": 30,
   "metadata": {
    "collapsed": false
   },
   "outputs": [],
   "source": [
    "out.mean().backward()"
   ]
  },
  {
   "cell_type": "code",
   "execution_count": 30,
   "metadata": {
    "collapsed": false
   },
   "outputs": [],
   "source": []
  },
  {
   "cell_type": "code",
   "execution_count": 35,
   "metadata": {
    "collapsed": false
   },
   "outputs": [
    {
     "name": "stdout",
     "output_type": "stream",
     "text": [
      "emb.grad 0.0027460509445518255\n",
      "convs.1.grad 0.013709968887269497\n",
      "convs.4.grad 0.02698453702032566\n",
      "convs.7.grad 0.06679220497608185\n",
      "convs.10.grad 0.06992843747138977\n",
      "final_conv.grad 0.020195618271827698\n"
     ]
    }
   ],
   "source": [
    "for name, w in model.named_parameters():\n",
    "  #print(name, w.grad.norm().item())\n",
    "  if 'weight' in name:\n",
    "    name = name.split('.')[1:][-3:-1]\n",
    "    name.append(\"grad\")\n",
    "    print(\".\".join(name), w.grad.norm().item())"
   ]
  },
  {
   "cell_type": "code",
   "execution_count": 158,
   "metadata": {
    "collapsed": false
   },
   "outputs": [
    {
     "data": {
      "text/plain": [
       "(3072, 2560, 2560, 2560)"
      ]
     },
     "execution_count": 158,
     "metadata": {},
     "output_type": "execute_result"
    }
   ],
   "source": [
    "len(ip), len(right), len(losses), len(maxes)"
   ]
  },
  {
   "cell_type": "code",
   "execution_count": 159,
   "metadata": {
    "collapsed": false
   },
   "outputs": [],
   "source": [
    "idx_to_char_map= {v:k for k,v in ds.char_to_idx_map.items()}"
   ]
  },
  {
   "cell_type": "code",
   "execution_count": 160,
   "metadata": {
    "collapsed": false
   },
   "outputs": [
    {
     "data": {
      "text/plain": [
       "{0: '\\x00',\n",
       " 1: ' ',\n",
       " 2: '!',\n",
       " 3: '\"',\n",
       " 4: '#',\n",
       " 5: '$',\n",
       " 6: '%',\n",
       " 7: '&',\n",
       " 8: \"'\",\n",
       " 9: '(',\n",
       " 10: ')',\n",
       " 11: '*',\n",
       " 12: '+',\n",
       " 13: ',',\n",
       " 14: '-',\n",
       " 15: '.',\n",
       " 16: '/',\n",
       " 17: ':',\n",
       " 18: ';',\n",
       " 19: '<',\n",
       " 20: '=',\n",
       " 21: '>',\n",
       " 22: '?',\n",
       " 23: '@',\n",
       " 24: '\\\\',\n",
       " 25: '^',\n",
       " 26: '_',\n",
       " 27: '`',\n",
       " 28: '{',\n",
       " 29: '|',\n",
       " 30: '}',\n",
       " 31: '~',\n",
       " 32: '[',\n",
       " 33: ']',\n",
       " 34: '0',\n",
       " 35: '1',\n",
       " 36: '2',\n",
       " 37: '3',\n",
       " 38: '4',\n",
       " 39: '5',\n",
       " 40: '6',\n",
       " 41: '7',\n",
       " 42: '8',\n",
       " 43: '9',\n",
       " 44: 'a',\n",
       " 45: 'b',\n",
       " 46: 'c',\n",
       " 47: 'd',\n",
       " 48: 'e',\n",
       " 49: 'f',\n",
       " 50: 'g',\n",
       " 51: 'h',\n",
       " 52: 'i',\n",
       " 53: 'j',\n",
       " 54: 'k',\n",
       " 55: 'l',\n",
       " 56: 'm',\n",
       " 57: 'n',\n",
       " 58: 'o',\n",
       " 59: 'p',\n",
       " 60: 'q',\n",
       " 61: 'r',\n",
       " 62: 's',\n",
       " 63: 't',\n",
       " 64: 'u',\n",
       " 65: 'v',\n",
       " 66: 'w',\n",
       " 67: 'x',\n",
       " 68: 'y',\n",
       " 69: 'z'}"
      ]
     },
     "execution_count": 160,
     "metadata": {},
     "output_type": "execute_result"
    }
   ],
   "source": [
    "idx_to_char_map"
   ]
  },
  {
   "cell_type": "code",
   "execution_count": 161,
   "metadata": {
    "collapsed": false
   },
   "outputs": [],
   "source": [
    "w = 'guitar and some ot'\n",
    "thing = []\n",
    "for c in w :\n",
    "  thing.append(ds.char_to_idx_map[c])\n",
    "len(thing)\n",
    "inp = torch.tensor(thing).unsqueeze(0)"
   ]
  },
  {
   "cell_type": "code",
   "execution_count": 162,
   "metadata": {
    "collapsed": false
   },
   "outputs": [],
   "source": [
    "inp = ds[1889]['features'].unsqueeze(0)"
   ]
  },
  {
   "cell_type": "code",
   "execution_count": 163,
   "metadata": {
    "collapsed": false
   },
   "outputs": [],
   "source": [
    "inp = torch.tensor([[50, 64, 52, 63, 44, 61,  1, 35, 41, 40, 35,  1, 58, 45, 62, 46, 48, 57]])"
   ]
  },
  {
   "cell_type": "code",
   "execution_count": 164,
   "metadata": {
    "collapsed": false
   },
   "outputs": [],
   "source": [
    "out = model(inp.cuda())"
   ]
  },
  {
   "cell_type": "code",
   "execution_count": 165,
   "metadata": {
    "collapsed": false
   },
   "outputs": [
    {
     "data": {
      "text/plain": [
       "tensor([-0.0037,  0.0064, -0.0465, -0.0139], device='cuda:0',\n",
       "       grad_fn=<SliceBackward>)"
      ]
     },
     "execution_count": 165,
     "metadata": {},
     "output_type": "execute_result"
    }
   ],
   "source": [
    "out[0][:4]"
   ]
  },
  {
   "cell_type": "code",
   "execution_count": 166,
   "metadata": {
    "collapsed": false
   },
   "outputs": [
    {
     "data": {
      "text/plain": [
       "('tokens_to_emb.emb.weight',\n",
       " Parameter containing:\n",
       " tensor([[ 1.0855e+00,  6.5779e-03,  8.9426e-01,  8.7820e-01, -1.0632e+00,\n",
       "           1.1746e+00, -5.0036e-01, -4.6644e-01],\n",
       "         [ 9.1143e-01, -1.0557e-01,  1.2844e+00,  1.0538e+00, -1.3466e+00,\n",
       "           1.3130e+00, -5.8099e-01, -8.8500e-01],\n",
       "         [-1.2831e-01,  1.9694e-01,  1.4962e-01, -1.2017e+00, -5.9534e-01,\n",
       "          -4.9690e-02, -1.0267e+00, -2.1239e+00],\n",
       "         [ 1.1188e+00,  6.8035e-01, -2.0974e+00, -3.6769e-01, -1.1384e+00,\n",
       "          -1.5301e+00, -1.0429e+00,  5.1030e-01],\n",
       "         [-3.2293e-01, -1.6967e-01, -1.1955e-02,  6.1833e-02, -4.4004e-01,\n",
       "          -5.3158e-01, -3.8943e-01, -4.1714e-02],\n",
       "         [-5.9083e-03, -1.3627e-01, -3.7554e-01, -1.0565e+00,  1.0735e+00,\n",
       "          -6.0641e-01,  2.0576e-01, -1.2689e+00],\n",
       "         [-3.4487e-01, -6.6750e-02, -5.6703e-02,  1.3416e+00,  2.1073e-02,\n",
       "          -3.7541e-01,  7.0492e-02, -1.0634e-01],\n",
       "         [ 8.0484e-01, -1.0819e-01, -6.7116e-01, -4.1549e-01,  4.5404e-01,\n",
       "          -1.2065e+00, -6.2460e-01, -2.7393e-01],\n",
       "         [-2.0443e+00, -6.6694e-02,  9.8735e-01,  6.1204e-01,  1.1787e+00,\n",
       "           1.0429e+00, -4.3452e-01,  1.2307e+00],\n",
       "         [-4.0999e-02, -1.1724e+00,  2.3075e-01,  3.0681e-01, -1.4875e+00,\n",
       "           1.3779e+00, -9.1099e-03, -1.8827e+00],\n",
       "         [-7.7498e-01,  5.2331e-03, -1.0501e+00, -1.8432e+00,  5.9436e-02,\n",
       "          -6.7867e-01, -8.0344e-01, -2.8093e-01],\n",
       "         [ 1.6466e+00,  8.8737e-01, -4.4432e-01,  1.8730e+00,  2.4325e-01,\n",
       "           6.2396e-01,  1.0200e+00,  3.9329e-02],\n",
       "         [ 3.7495e-01, -2.7755e-01,  9.3860e-01,  3.0691e-01, -1.1023e+00,\n",
       "          -1.9291e+00, -1.1584e+00, -6.2871e-01],\n",
       "         [ 1.2883e-01, -1.0197e-01, -1.1460e-01,  3.0349e-01, -1.1042e+00,\n",
       "          -1.6618e+00,  6.8650e-01, -5.3024e-02],\n",
       "         [-1.2925e+00,  1.2664e+00,  2.9387e-01,  1.1445e+00, -3.8415e-01,\n",
       "           1.1834e+00,  1.0492e+00,  5.5030e-01],\n",
       "         [-1.6254e+00,  6.3270e-01, -2.9221e-01, -3.8071e-01,  7.3989e-01,\n",
       "          -1.3437e-01,  7.1967e-01,  8.6428e-01],\n",
       "         [ 1.6830e+00, -1.2741e+00, -4.4326e-01,  4.0483e-01, -4.5463e-01,\n",
       "           7.0617e-01, -6.8986e-01, -5.6347e-01],\n",
       "         [-1.0849e+00,  8.1749e-01,  2.0956e-01,  3.5133e-01,  7.5995e-01,\n",
       "          -1.5905e+00, -1.7069e+00, -1.3488e+00],\n",
       "         [-8.1838e-01, -1.1474e+00, -3.5736e-03,  2.8415e-01,  2.1121e+00,\n",
       "          -1.8358e-01, -9.7243e-01,  8.6819e-01],\n",
       "         [ 6.7652e-01,  7.2195e-01,  5.2927e-01, -1.5943e+00, -1.0116e+00,\n",
       "           6.2922e-01,  2.4557e-01, -5.9911e-01],\n",
       "         [ 7.0162e-01,  1.2544e+00,  9.3423e-01, -1.3746e+00, -1.2550e+00,\n",
       "          -1.9236e+00, -3.7789e-01,  1.8573e-01],\n",
       "         [ 7.9795e-01,  1.1295e-01,  4.2216e-01, -1.4500e+00, -9.6317e-01,\n",
       "           6.9045e-01,  1.4074e+00, -9.4211e-01],\n",
       "         [-5.9821e-01,  4.3524e-01, -8.3246e-01, -2.1453e+00,  5.0663e-01,\n",
       "           5.4794e-01,  6.1670e-01,  5.3617e-01],\n",
       "         [ 2.6680e+00,  1.1118e+00,  1.7077e-01, -7.3848e-01, -2.2914e-01,\n",
       "          -8.4976e-01, -1.2352e+00,  4.1668e-01],\n",
       "         [-1.0381e+00, -3.0016e-01, -2.4902e-01, -4.5078e-02,  1.5436e+00,\n",
       "          -5.1286e-01,  1.2581e+00, -1.7343e+00],\n",
       "         [ 3.2026e-01, -1.1109e+00,  1.7315e+00,  8.9346e-01, -1.1800e+00,\n",
       "          -8.7513e-01,  6.5499e-01, -2.9431e-02],\n",
       "         [ 1.1764e-01, -1.1972e-01, -5.4032e-01, -1.2670e+00,  6.2238e-01,\n",
       "          -8.4365e-01,  3.1172e-01, -3.5860e-01],\n",
       "         [-1.8776e-01,  8.1524e-01,  9.9939e-01, -3.0642e-01,  1.6814e-01,\n",
       "          -1.4481e+00,  6.3035e-02, -4.9281e-01],\n",
       "         [ 1.1210e+00,  2.1438e-01,  7.2220e-01,  4.0277e-01,  2.1582e+00,\n",
       "          -2.8645e-01,  1.0173e+00, -1.0766e+00],\n",
       "         [ 3.0368e-01,  3.0384e-01,  1.7068e-01,  1.4901e+00, -1.0132e-01,\n",
       "           5.2913e-01, -5.6404e-01, -2.0197e-01],\n",
       "         [ 6.1724e-01,  7.2016e-01, -2.4004e-01, -3.8446e-01, -4.5651e-03,\n",
       "          -1.3722e+00,  1.0332e+00,  3.6032e-01],\n",
       "         [-1.1157e+00, -1.0477e+00,  2.7875e-01,  1.1507e-01, -6.2248e-01,\n",
       "          -1.2583e+00,  6.5940e-01,  2.0128e+00],\n",
       "         [ 5.4669e-01, -2.9633e-01,  1.0912e+00,  1.0428e+00, -1.0753e+00,\n",
       "           1.1319e+00, -3.2742e-01, -8.2698e-01],\n",
       "         [-1.3399e+00, -1.3227e+00, -4.0792e-01,  2.3325e-01, -2.1896e-01,\n",
       "           1.2536e+00, -3.2465e-02,  5.6974e-01],\n",
       "         [ 1.3460e+00,  3.2147e-01,  9.8856e-01, -8.9619e-01, -9.3355e-01,\n",
       "          -1.4830e-01, -1.5242e+00,  1.3576e-01],\n",
       "         [ 1.5260e+00, -2.3941e-01,  2.9073e-01,  2.5950e-01, -1.1709e+00,\n",
       "           2.9567e-01, -5.7946e-01, -7.5053e-01],\n",
       "         [ 4.4447e-01, -9.5355e-01, -1.0227e+00, -2.1214e-01, -1.0430e+00,\n",
       "          -4.0648e-01, -8.0866e-01, -9.2212e-01],\n",
       "         [ 8.0924e-01, -9.5710e-01, -4.5699e-01, -3.8706e-01,  4.8409e-01,\n",
       "          -5.8383e-01,  1.5207e-01, -4.9362e-01],\n",
       "         [ 5.6059e-01,  5.7867e-02,  2.7975e-01,  3.2339e-01, -7.8152e-02,\n",
       "          -9.9361e-01,  1.7456e-01, -1.1128e+00],\n",
       "         [ 1.0146e+00, -5.7611e-01,  8.6823e-01, -3.3559e-01, -9.8051e-01,\n",
       "          -5.6372e-01,  6.2407e-01, -3.0976e-01],\n",
       "         [ 9.4472e-01, -4.8889e-01, -5.7227e-01, -6.2618e-01, -1.7217e+00,\n",
       "          -3.5875e-01,  7.2702e-01, -6.8075e-01],\n",
       "         [ 1.6253e+00, -5.1501e-01, -5.6964e-01,  1.8893e-01, -4.3241e-01,\n",
       "          -2.2539e-02,  1.2551e+00, -6.3545e-01],\n",
       "         [ 3.8213e-02, -6.2642e-01, -3.3879e-01, -4.4016e-01, -1.2279e+00,\n",
       "          -1.1528e+00, -1.0748e+00,  4.4755e-01],\n",
       "         [-1.0147e+00, -1.0802e+00,  3.0772e-01, -1.5961e+00, -8.7026e-01,\n",
       "          -1.1920e+00, -6.9574e-01, -6.8591e-01],\n",
       "         [ 1.4020e-01,  5.0953e-01,  3.4341e-01,  7.2176e-02,  3.4279e-01,\n",
       "           1.6746e+00,  7.6415e-01,  5.6505e-01],\n",
       "         [-6.9205e-01, -1.3548e+00, -2.0929e+00, -9.7966e-01, -6.1930e-01,\n",
       "           4.3431e-01,  6.5275e-01, -1.3357e-01],\n",
       "         [ 1.2501e+00, -1.1187e+00,  8.0596e-02,  7.4746e-01,  8.5377e-01,\n",
       "           4.3338e-01, -1.6824e-01,  1.7012e-01],\n",
       "         [-2.1299e-01,  1.0401e-01, -2.9510e-01,  1.6966e+00,  5.4964e-01,\n",
       "          -7.3308e-01, -1.9925e+00, -5.8620e-01],\n",
       "         [-5.4307e-02,  1.0562e-01,  2.2752e-01,  8.7031e-02,  2.3821e+00,\n",
       "           5.9902e-01,  1.4480e+00,  2.4922e-01],\n",
       "         [-2.4211e-02, -5.0367e-01, -1.0792e+00,  6.8801e-01, -1.0499e+00,\n",
       "           1.7195e-01,  3.8732e-01, -9.1285e-01],\n",
       "         [-5.2935e-01,  1.2804e+00, -1.2760e+00,  8.1522e-02, -2.7483e-01,\n",
       "          -1.0633e-01,  1.1231e-01, -1.4330e+00],\n",
       "         [-1.0878e+00,  1.2358e+00,  6.3278e-01, -2.4400e-03, -8.3036e-01,\n",
       "          -9.3356e-01,  2.2012e-01, -1.4218e+00],\n",
       "         [-6.9821e-01,  1.5190e-01, -1.6201e+00, -1.1364e+00,  1.6695e+00,\n",
       "          -5.6473e-01, -4.1143e-01,  1.2602e+00],\n",
       "         [ 1.4641e+00, -1.2065e+00, -4.6360e-01,  5.7680e-01, -1.3294e+00,\n",
       "           5.8868e-01,  1.0234e-01,  4.3903e-01],\n",
       "         [-1.1940e+00,  5.2750e-01,  1.6143e+00,  2.0601e+00,  9.5950e-01,\n",
       "          -1.3070e-02, -1.0635e+00,  4.8727e-01],\n",
       "         [-1.0842e+00, -1.6235e+00, -3.5691e-02,  4.9780e-01, -1.7097e-01,\n",
       "          -2.0973e-01,  1.1401e+00,  8.4925e-03],\n",
       "         [-1.1096e+00, -3.8072e-01, -1.5588e+00,  1.2532e+00, -9.8350e-03,\n",
       "           1.0906e+00,  3.6961e-01, -5.3231e-01],\n",
       "         [ 4.0621e-02, -9.3867e-01, -1.3197e-01, -8.9813e-01,  6.5969e-01,\n",
       "           3.0021e-01, -1.9108e+00,  2.0626e+00],\n",
       "         [-1.5952e+00,  1.8010e+00,  5.8039e-01, -7.4346e-01, -4.2525e-01,\n",
       "           1.6734e+00, -8.5018e-01, -8.9059e-01],\n",
       "         [ 1.9784e+00,  8.5655e-01, -7.2147e-01,  6.6310e-01,  1.4969e-01,\n",
       "           5.1779e-02,  5.8272e-02,  1.0293e+00],\n",
       "         [-2.4545e+00,  4.8848e-01,  4.2355e-01, -2.9120e-01,  5.1298e-01,\n",
       "          -6.3755e-01, -6.6669e-01, -1.1749e+00],\n",
       "         [ 4.0478e-01,  1.2819e-01, -1.5946e+00, -1.0791e+00, -1.8145e+00,\n",
       "           1.1201e+00, -5.0470e-01,  6.6139e-01],\n",
       "         [-2.4144e-01, -2.0330e+00, -2.0267e-01,  3.4934e-02,  4.1314e-01,\n",
       "           1.2679e+00, -7.3564e-01, -1.5966e+00],\n",
       "         [-3.4161e-01, -1.7145e+00,  1.5911e+00, -2.9464e-01,  7.9753e-01,\n",
       "          -1.8086e-01, -1.2089e-01,  1.0982e+00],\n",
       "         [-5.9303e-01,  5.3288e-01, -1.0550e+00,  8.5697e-01,  2.2208e+00,\n",
       "           3.1544e-01, -8.2777e-02,  1.1932e+00],\n",
       "         [ 5.0393e-01,  3.7708e-01,  8.6307e-01,  1.3995e+00,  1.1187e+00,\n",
       "          -3.7667e-03,  4.3027e-01, -1.5950e-01],\n",
       "         [-1.1457e+00,  7.3748e-01,  7.3828e-01, -3.2781e-02, -1.4517e+00,\n",
       "          -6.8210e-01, -1.7896e+00, -2.0339e-01],\n",
       "         [-3.1367e-01,  5.8710e-01,  1.2169e+00, -1.1916e+00,  1.3669e-01,\n",
       "           3.6142e-01, -2.8666e+00, -2.8786e-01],\n",
       "         [-2.1430e+00, -1.4598e+00, -4.7869e-01,  1.2558e+00, -1.3874e+00,\n",
       "           1.1084e+00, -7.9978e-01,  2.0486e+00],\n",
       "         [ 2.7985e-01,  6.2406e-01,  2.3408e+00,  9.1033e-01,  1.4425e+00,\n",
       "           4.5749e-01, -1.5136e+00, -3.0342e-01]], device='cuda:0',\n",
       "        requires_grad=True))"
      ]
     },
     "execution_count": 166,
     "metadata": {},
     "output_type": "execute_result"
    }
   ],
   "source": [
    "next(model.named_parameters())"
   ]
  },
  {
   "cell_type": "code",
   "execution_count": 167,
   "metadata": {
    "collapsed": false
   },
   "outputs": [],
   "source": [
    "word = (out@ds.embedding_matrix.cuda().T).argmax(-1)"
   ]
  },
  {
   "cell_type": "code",
   "execution_count": 168,
   "metadata": {
    "collapsed": false
   },
   "outputs": [
    {
     "data": {
      "text/plain": [
       "tensor([ 0.0112, -0.0349, -0.0310, -0.0237, -0.0050, -0.0360, -0.0715, -0.0289,\n",
       "        -0.0297,  0.0110])"
      ]
     },
     "execution_count": 168,
     "metadata": {},
     "output_type": "execute_result"
    }
   ],
   "source": [
    "ds.embedding_matrix[1889][:10]"
   ]
  },
  {
   "cell_type": "code",
   "execution_count": 169,
   "metadata": {
    "collapsed": false
   },
   "outputs": [
    {
     "data": {
      "text/plain": [
       "(torch.Size([1, 768]), torch.Size([768, 26864]))"
      ]
     },
     "execution_count": 169,
     "metadata": {},
     "output_type": "execute_result"
    }
   ],
   "source": [
    "out.shape, ds.embedding_matrix.cuda().T.shape"
   ]
  },
  {
   "cell_type": "code",
   "execution_count": 170,
   "metadata": {
    "collapsed": false
   },
   "outputs": [],
   "source": [
    "idx_to_tok_map = {}\n",
    "with open('../data/bert-base-uncased-vocab.txt') as f:\n",
    "  for i, l in enumerate(f.readlines()):\n",
    "    idx_to_tok_map[i] = l.strip()"
   ]
  },
  {
   "cell_type": "code",
   "execution_count": 171,
   "metadata": {
    "collapsed": false
   },
   "outputs": [],
   "source": [
    "def GetToks(encoded):\n",
    "  s = \"\"\n",
    "  for c in encoded:\n",
    "    s+= \" \" + idx_to_tok_map[c]\n",
    "  return s"
   ]
  },
  {
   "cell_type": "code",
   "execution_count": 172,
   "metadata": {
    "collapsed": false
   },
   "outputs": [
    {
     "data": {
      "text/plain": [
       "tensor([[50, 64, 52, 63, 44, 61,  1, 35, 41, 40, 35,  1, 58, 45, 62, 46, 48, 57]])"
      ]
     },
     "execution_count": 172,
     "metadata": {},
     "output_type": "execute_result"
    }
   ],
   "source": [
    "inp"
   ]
  },
  {
   "cell_type": "code",
   "execution_count": 173,
   "metadata": {
    "collapsed": false
   },
   "outputs": [
    {
     "data": {
      "text/plain": [
       "' erebidae'"
      ]
     },
     "execution_count": 173,
     "metadata": {},
     "output_type": "execute_result"
    }
   ],
   "source": [
    "GetToks([Torch2Py(word)[0]])"
   ]
  },
  {
   "cell_type": "code",
   "execution_count": 174,
   "metadata": {
    "collapsed": false
   },
   "outputs": [],
   "source": [
    "def GetChars(encoded):\n",
    "  s = \"\"\n",
    "  for c in encoded:\n",
    "    s+= idx_to_char_map[c]\n",
    "  return s.replace('\\x00','_')"
   ]
  },
  {
   "cell_type": "code",
   "execution_count": 175,
   "metadata": {
    "collapsed": false
   },
   "outputs": [],
   "source": [
    "ds.add_random_count=0"
   ]
  },
  {
   "cell_type": "code",
   "execution_count": 176,
   "metadata": {
    "collapsed": false
   },
   "outputs": [
    {
     "data": {
      "text/plain": [
       "tensor(1017, device='cuda:0')"
      ]
     },
     "execution_count": 176,
     "metadata": {},
     "output_type": "execute_result"
    }
   ],
   "source": [
    "maxes[999]"
   ]
  },
  {
   "cell_type": "code",
   "execution_count": 176,
   "metadata": {
    "collapsed": false
   },
   "outputs": [],
   "source": []
  },
  {
   "cell_type": "code",
   "execution_count": 177,
   "metadata": {
    "collapsed": false
   },
   "outputs": [],
   "source": [
    "ds.misspelling_rate=0"
   ]
  },
  {
   "cell_type": "code",
   "execution_count": 177,
   "metadata": {
    "collapsed": false
   },
   "outputs": [],
   "source": []
  },
  {
   "cell_type": "code",
   "execution_count": 178,
   "metadata": {
    "collapsed": false
   },
   "outputs": [
    {
     "name": "stdout",
     "output_type": "stream",
     "text": [
      "opera_____________\n",
      "1959______________\n",
      "graduated_________\n",
      "function__________\n"
     ]
    }
   ],
   "source": [
    "\n",
    "for i in range(2858)[-4:]:\n",
    "  print(GetChars(Torch2Py(ds[i]['features'])))"
   ]
  },
  {
   "cell_type": "code",
   "execution_count": 180,
   "metadata": {
    "collapsed": false
   },
   "outputs": [
    {
     "name": "stdout",
     "output_type": "stream",
     "text": [
      "103 |[m]_______________ [m]_______________ [m]_______________ 0.0010352060198783875\n"
     ]
    }
   ],
   "source": [
    "for i, r in enumerate(right):\n",
    "  if r==1 and i%1==0 and (\"|\"+GetChars(ip[i])).startswith(\"|[m\"):  \n",
    "    print(i, \"|\"+GetChars(ip[i]), GetChars(Torch2Py(ds[i]['features'])), GetChars(Torch2Py(ds[maxes[i]]['features'])), losses[i])"
   ]
  },
  {
   "cell_type": "code",
   "execution_count": 25,
   "metadata": {
    "collapsed": false
   },
   "outputs": [],
   "source": [
    "right = np.array(right)\n",
    "losses = np.array(losses)\n"
   ]
  },
  {
   "cell_type": "code",
   "execution_count": 26,
   "metadata": {
    "collapsed": false
   },
   "outputs": [
    {
     "data": {
      "text/plain": [
       "(0.0003892193694424892, 0.00010051584139919834)"
      ]
     },
     "execution_count": 26,
     "metadata": {},
     "output_type": "execute_result"
    }
   ],
   "source": [
    "losses[right==1].mean(), losses[right==0].mean()"
   ]
  },
  {
   "cell_type": "code",
   "execution_count": 27,
   "metadata": {
    "collapsed": false
   },
   "outputs": [],
   "source": [
    "right_losses = losses[right==1]\n",
    "wrong_losses = losses[right==0]"
   ]
  },
  {
   "cell_type": "code",
   "execution_count": 28,
   "metadata": {
    "collapsed": false
   },
   "outputs": [],
   "source": [
    "bins = 1000\n",
    "hrange = (0, .003)\n",
    "right_hist = np.histogram(right_losses, bins=bins, range=hrange)\n",
    "wrong_hist = np.histogram(wrong_losses, bins=bins, range=hrange)"
   ]
  },
  {
   "cell_type": "code",
   "execution_count": 30,
   "metadata": {
    "collapsed": false
   },
   "outputs": [],
   "source": [
    "def MakeHist(h, name=None, color=None):\n",
    "  y = h[0]\n",
    "  x= h[1]\n",
    "  return {\n",
    "    'name': name,\n",
    "    'type': 'bar',                                                                                                                   'x': x,\n",
    "          'marker': dict(opacity=.7, color=color),\n",
    "   'y': y\n",
    "  }\n"
   ]
  },
  {
   "cell_type": "code",
   "execution_count": 31,
   "metadata": {
    "collapsed": false
   },
   "outputs": [],
   "source": [
    "norm_factor = max(wrong_hist[0])/max(right_hist[0])"
   ]
  },
  {
   "cell_type": "code",
   "execution_count": 32,
   "metadata": {
    "collapsed": false
   },
   "outputs": [],
   "source": [
    "right_hist = (right_hist[0]*norm_factor, right_hist[1])"
   ]
  },
  {
   "cell_type": "code",
   "execution_count": 33,
   "metadata": {
    "collapsed": false
   },
   "outputs": [],
   "source": [
    "rh = MakeHist(right_hist, \"correct\", \"green\")\n",
    "wh = MakeHist(wrong_hist, \"wrong\", \"red\")\n"
   ]
  },
  {
   "cell_type": "code",
   "execution_count": null,
   "metadata": {
    "collapsed": false
   },
   "outputs": [],
   "source": []
  },
  {
   "cell_type": "code",
   "execution_count": 34,
   "metadata": {
    "collapsed": false
   },
   "outputs": [
    {
     "data": {
      "text/plain": [
       "'/home/tucker/Downloads/strategy_heatmap.html'"
      ]
     },
     "execution_count": 34,
     "metadata": {},
     "output_type": "execute_result"
    }
   ],
   "source": [
    "fig =  go.Figure(data=[rh, wh], layout={'barmode':'overlay'})\n",
    "plotly.offline.plot(fig, filename='/home/tucker/Downloads/strategy_heatmap.html')\n"
   ]
  },
  {
   "cell_type": "code",
   "execution_count": null,
   "metadata": {
    "collapsed": false
   },
   "outputs": [],
   "source": [
    "a+b>crr"
   ]
  }
 ],
 "metadata": {
  "kernelspec": {
   "argv": [
    "/usr/bin/python3",
    "-m",
    "ipykernel_launcher",
    "-f",
    "{connection_file}"
   ],
   "display_name": "Python 3",
   "env": null,
   "interrupt_mode": "signal",
   "language": "python",
   "metadata": null,
   "name": "python3"
  },
  "name": "ErrorAnalysis.ipynb"
 },
 "nbformat": 4,
 "nbformat_minor": 2
}
