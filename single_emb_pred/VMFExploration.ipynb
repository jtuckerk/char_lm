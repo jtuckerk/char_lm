{
 "cells": [
  {
   "cell_type": "code",
   "execution_count": 512,
   "metadata": {
    "collapsed": false
   },
   "outputs": [],
   "source": [
    "\n",
    "import numpy as np\n",
    "import plotly\n",
    "import plotly.graph_objs as go\n",
    "import torch\n",
    "\n",
    "import torch.nn as nn\n",
    "\n",
    "from plotly.graph_objs import *"
   ]
  },
  {
   "cell_type": "code",
   "execution_count": 513,
   "metadata": {
    "collapsed": false
   },
   "outputs": [],
   "source": [
    "from scipy.special import iv"
   ]
  },
  {
   "cell_type": "code",
   "execution_count": 573,
   "metadata": {
    "collapsed": false
   },
   "outputs": [],
   "source": [
    "embmat = torch.load('../data/distilbert_embedding_matrix.pt')"
   ]
  },
  {
   "cell_type": "code",
   "execution_count": 577,
   "metadata": {
    "collapsed": false
   },
   "outputs": [
    {
     "data": {
      "text/plain": [
       "tensor(0.2599)"
      ]
     },
     "execution_count": 577,
     "metadata": {},
     "output_type": "execute_result"
    }
   ],
   "source": [
    "embmat.norm(dim=-1).std()"
   ]
  },
  {
   "cell_type": "code",
   "execution_count": 514,
   "metadata": {
    "collapsed": false
   },
   "outputs": [],
   "source": [
    "#just a sphere\n",
    "size = 200\n",
    "theta = np.linspace(0,2*np.pi,size)\n",
    "phi = np.linspace(0,np.pi,size)\n",
    "x = np.outer(np.cos(theta),np.sin(phi))\n",
    "y = np.outer(np.sin(theta),np.sin(phi))\n",
    "z = np.outer(np.ones(size),np.cos(phi))  # note this is 2d now\n",
    "\n",
    "data = go.Surface(\n",
    "        x=x,\n",
    "        y=y,\n",
    "        z=z,\n",
    "#  surfacecolor=r,\n",
    "    )\n",
    "layout = go.Layout(\n",
    "    title='sphere',\n",
    "    autosize=False,\n",
    "    width=1000,\n",
    "    height=1000,\n",
    ")\n",
    "fig = go.Figure(data=[data], layout=layout)\n"
   ]
  },
  {
   "cell_type": "code",
   "execution_count": 289,
   "metadata": {
    "collapsed": false
   },
   "outputs": [
    {
     "data": {
      "text/plain": [
       "'/home/tucker/Downloads/sphere.html'"
      ]
     },
     "execution_count": 289,
     "metadata": {},
     "output_type": "execute_result"
    }
   ],
   "source": [
    "plotly.offline.plot(fig, filename='/home/tucker/Downloads/sphere.html')"
   ]
  },
  {
   "cell_type": "code",
   "execution_count": 515,
   "metadata": {
    "collapsed": false
   },
   "outputs": [],
   "source": [
    "def C(kappa, p):\n",
    "  num = kappa ** (0.5*p - 1)\n",
    "  denom = (2 * np.pi) ** (0.5*p) * iv(0.5*p - 1, kappa)\n",
    "  normalization_const = num/denom\n",
    "  return normalization_const\n"
   ]
  },
  {
   "cell_type": "code",
   "execution_count": 516,
   "metadata": {
    "collapsed": false
   },
   "outputs": [],
   "source": [
    "def vmf(x, mu, kappa):\n",
    "    \"\"\"Adapted from https://github.com/lmc2179/von_mises_fisher\"\"\"\n",
    "    normalization_const = C(kappa, 100)\n",
    "    likelihood = np.exp(kappa * (x@mu))\n",
    "    return normalization_const * likelihood\n"
   ]
  },
  {
   "cell_type": "code",
   "execution_count": 517,
   "metadata": {
    "collapsed": false
   },
   "outputs": [],
   "source": [
    "def vmf2(x, mu, kappa):\n",
    "    \"\"\"Adapted from https://github.com/lmc2179/von_mises_fisher\"\"\"\n",
    "    normalization_const = C(kappa, 100)\n",
    "    likelihood = np.exp((x@mu))\n",
    "    return normalization_const * likelihood\n"
   ]
  },
  {
   "cell_type": "code",
   "execution_count": 518,
   "metadata": {
    "collapsed": false
   },
   "outputs": [],
   "source": [
    "def vmf_reg2(x, mu, kappa):\n",
    "    \"\"\"Adapted from https://github.com/lmc2179/von_mises_fisher\"\"\"\n",
    "    normalization_const = C(kappa, mu.shape[-1])\n",
    "    likelihood = np.exp(.1*(x@mu))\n",
    "    return normalization_const * likelihood\n"
   ]
  },
  {
   "cell_type": "code",
   "execution_count": 592,
   "metadata": {
    "collapsed": false
   },
   "outputs": [],
   "source": [
    "def vmf_reg12(x, mu, kappa, r1, r2):\n",
    "  \"\"\"Adapted from https://github.com/lmc2179/von_mises_fisher\"\"\"\n",
    "  normalization_const = C(kappa, mu.shape[-1])\n",
    "  likelihood = np.exp(r2*(x@mu))\n",
    "  reg_term = np.exp(-1*r1 * kappa)\n",
    "  return normalization_const * likelihood * reg_term\n"
   ]
  },
  {
   "cell_type": "code",
   "execution_count": 520,
   "metadata": {
    "collapsed": false
   },
   "outputs": [],
   "source": [
    "def vmf_simp(x, mu, kappa):\n",
    "    \"\"\"Adapted from https://github.com/lmc2179/von_mises_fisher\"\"\"\n",
    "    normalization_const = kappa\n",
    "    likelihood = np.exp((x@mu))\n",
    "    return normalization_const * likelihood\n"
   ]
  },
  {
   "cell_type": "code",
   "execution_count": 522,
   "metadata": {
    "collapsed": false
   },
   "outputs": [],
   "source": [
    "def vmf_simp_loss(out, targets):\n",
    "  normalization_const = out.norm(dim=-1)\n",
    "  # batchwise matrix multiply\n",
    "  likelihood = out.unsqueeze(1)@targets.view(-1,targets.shape[-1], 1)\n",
    "  return (-torch.log(normalization_const) - likelihood.squeeze()).mean()"
   ]
  },
  {
   "cell_type": "code",
   "execution_count": 523,
   "metadata": {
    "collapsed": false
   },
   "outputs": [],
   "source": [
    "emb = torch.tensor([[1,1,3.0],\n",
    "                    [1,1,1],\n",
    "                     [-1,0,1],\n",
    "                    [1,0,1],]\n",
    ")\n",
    "b  = torch.tensor([[1,1,1.0], [2,1,1.0]])\n",
    "labels = torch.tensor([1,3])                   "
   ]
  },
  {
   "cell_type": "code",
   "execution_count": 524,
   "metadata": {
    "collapsed": false
   },
   "outputs": [],
   "source": [
    "def vmf_nearest_neighbor(out, labels, embeddings):\n",
    "  print(out.shape, labels.shape, embeddings.shape)\n",
    "  pass"
   ]
  },
  {
   "cell_type": "code",
   "execution_count": 525,
   "metadata": {
    "collapsed": false
   },
   "outputs": [
    {
     "name": "stdout",
     "output_type": "stream",
     "text": [
      "torch.Size([2, 3]) torch.Size([2]) torch.Size([4, 3])\n"
     ]
    }
   ],
   "source": [
    "vmf_nearest_neighbor(b, labels, emb)"
   ]
  },
  {
   "cell_type": "code",
   "execution_count": 526,
   "metadata": {
    "collapsed": false
   },
   "outputs": [
    {
     "data": {
      "text/plain": [
       "tensor(-5.3741)"
      ]
     },
     "execution_count": 526,
     "metadata": {},
     "output_type": "execute_result"
    }
   ],
   "source": [
    "vmf_simp_loss(a,b)"
   ]
  },
  {
   "cell_type": "code",
   "execution_count": 527,
   "metadata": {
    "collapsed": false
   },
   "outputs": [],
   "source": [
    "def vmf_reg1(x, mu, kappa):\n",
    "    \"\"\"Adapted from https://github.com/lmc2179/von_mises_fisher\"\"\"\n",
    "    normalization_const = C(kappa, mu.shape[-1])\n",
    "    likelihood = np.exp((x@mu))\n",
    "    reg_term = np.exp(-.02 * kappa)\n",
    "    return normalization_const * likelihood * reg_term\n"
   ]
  },
  {
   "cell_type": "code",
   "execution_count": 529,
   "metadata": {
    "collapsed": false
   },
   "outputs": [],
   "source": [
    "def vmf_normed(out, target):\n",
    "  return -1* vmf(out, target, np.linalg.norm(out, axis=-1))"
   ]
  },
  {
   "cell_type": "code",
   "execution_count": 530,
   "metadata": {
    "collapsed": false
   },
   "outputs": [],
   "source": [
    "def vmf_normed_2(out, target):\n",
    "  return -1* vmf2(out, target, np.linalg.norm(out, axis=-1))"
   ]
  },
  {
   "cell_type": "code",
   "execution_count": 531,
   "metadata": {
    "collapsed": false
   },
   "outputs": [],
   "source": [
    "def vmf_normed_simp(out, target):\n",
    "  return -1* vmf_simp(out, target, np.linalg.norm(out, axis=-1))"
   ]
  },
  {
   "cell_type": "code",
   "execution_count": 532,
   "metadata": {
    "collapsed": false
   },
   "outputs": [],
   "source": [
    "def vmf_normed_reg1(out, target):\n",
    "  return -1* vmf_reg1(out, target, np.linalg.norm(out, axis=-1))"
   ]
  },
  {
   "cell_type": "code",
   "execution_count": 533,
   "metadata": {
    "collapsed": false
   },
   "outputs": [],
   "source": [
    "def vmf_normed_reg2(out, target):\n",
    "  return -1* vmf_reg2(out, target, np.linalg.norm(out, axis=-1))"
   ]
  },
  {
   "cell_type": "code",
   "execution_count": 593,
   "metadata": {
    "collapsed": false
   },
   "outputs": [],
   "source": [
    "def make_vmf_normed_reg12(r1, r2):\n",
    "  def vmf_normed_reg12(out, target):\n",
    "    return -1 * vmf_reg12(out, target, np.linalg.norm(out, axis=-1), r1, r2)\n",
    "  return vmf_normed_reg12"
   ]
  },
  {
   "cell_type": "code",
   "execution_count": 535,
   "metadata": {
    "collapsed": false
   },
   "outputs": [
    {
     "data": {
      "text/plain": [
       "array([[3., 3.],\n",
       "       [3., 3.]])"
      ]
     },
     "execution_count": 535,
     "metadata": {},
     "output_type": "execute_result"
    }
   ],
   "source": [
    "x = np.array([[[3,0,0,], [3,0,0.0]], [[3,0,0,], [3,0,0.0]]])\n",
    "mu = np.array([1,0,0.0])\n",
    "x@mu"
   ]
  },
  {
   "cell_type": "code",
   "execution_count": 536,
   "metadata": {
    "collapsed": false
   },
   "outputs": [
    {
     "data": {
      "text/plain": [
       "array([[1.66979802e+40, 1.66979802e+40],\n",
       "       [1.66979802e+40, 1.66979802e+40]])"
      ]
     },
     "execution_count": 536,
     "metadata": {},
     "output_type": "execute_result"
    }
   ],
   "source": [
    "vmf(x, mu, 2)"
   ]
  },
  {
   "cell_type": "code",
   "execution_count": 537,
   "metadata": {
    "collapsed": false
   },
   "outputs": [],
   "source": [
    "# wanna know- is this gonna get too big? yes\n",
    "\n",
    "def NLLvMF(output, target_embedding):\n",
    "  return -torch.log(C(output.norm(dim=1), output.size(-1))) - output@target_embedding\n",
    "def NLLvMF(output, target_embedding, kappa):\n",
    "  return -torch.log(C(kappa, output.size(-1))) - output@target_embedding\n",
    "def NIP(output, target_embedding, kappa):\n",
    "  return - output@target_embedding"
   ]
  },
  {
   "cell_type": "code",
   "execution_count": 538,
   "metadata": {
    "collapsed": false
   },
   "outputs": [],
   "source": [
    "a = torch.tensor([1,1,1,1]).float()*2\n",
    "b = torch.tensor([1,1,1,1]).float()"
   ]
  },
  {
   "cell_type": "code",
   "execution_count": 539,
   "metadata": {
    "collapsed": false
   },
   "outputs": [
    {
     "data": {
      "text/plain": [
       "tensor([-4.8949])"
      ]
     },
     "execution_count": 539,
     "metadata": {},
     "output_type": "execute_result"
    }
   ],
   "source": [
    "NLLvMF(a, b, torch.tensor([1.0]))"
   ]
  },
  {
   "cell_type": "code",
   "execution_count": 540,
   "metadata": {
    "collapsed": false
   },
   "outputs": [
    {
     "ename": "ValueError",
     "evalue": "all input arrays must have the same shape",
     "output_type": "error",
     "traceback": [
      "\u001b[0;31m---------------------------------------------------------------------------\u001b[0m",
      "\u001b[0;31mValueError\u001b[0m                                Traceback (most recent call last)",
      "\u001b[0;32m<ipython-input-540-3687a7feb0e7>\u001b[0m in \u001b[0;36m<module>\u001b[0;34m\u001b[0m\n\u001b[0;32m----> 1\u001b[0;31m \u001b[0mvs\u001b[0m \u001b[0;34m=\u001b[0m \u001b[0mnp\u001b[0m\u001b[0;34m.\u001b[0m\u001b[0mstack\u001b[0m\u001b[0;34m(\u001b[0m\u001b[0;34m[\u001b[0m\u001b[0mx\u001b[0m\u001b[0;34m,\u001b[0m\u001b[0my\u001b[0m\u001b[0;34m,\u001b[0m\u001b[0mz\u001b[0m\u001b[0;34m]\u001b[0m\u001b[0;34m,\u001b[0m \u001b[0;34m-\u001b[0m\u001b[0;36m1\u001b[0m\u001b[0;34m)\u001b[0m\u001b[0;34m\u001b[0m\u001b[0;34m\u001b[0m\u001b[0m\n\u001b[0m",
      "\u001b[0;32m<__array_function__ internals>\u001b[0m in \u001b[0;36mstack\u001b[0;34m(*args, **kwargs)\u001b[0m\n",
      "\u001b[0;32m/usr/lib/python3.8/site-packages/numpy/core/shape_base.py\u001b[0m in \u001b[0;36mstack\u001b[0;34m(arrays, axis, out)\u001b[0m\n\u001b[1;32m    424\u001b[0m     \u001b[0mshapes\u001b[0m \u001b[0;34m=\u001b[0m \u001b[0;34m{\u001b[0m\u001b[0marr\u001b[0m\u001b[0;34m.\u001b[0m\u001b[0mshape\u001b[0m \u001b[0;32mfor\u001b[0m \u001b[0marr\u001b[0m \u001b[0;32min\u001b[0m \u001b[0marrays\u001b[0m\u001b[0;34m}\u001b[0m\u001b[0;34m\u001b[0m\u001b[0;34m\u001b[0m\u001b[0m\n\u001b[1;32m    425\u001b[0m     \u001b[0;32mif\u001b[0m \u001b[0mlen\u001b[0m\u001b[0;34m(\u001b[0m\u001b[0mshapes\u001b[0m\u001b[0;34m)\u001b[0m \u001b[0;34m!=\u001b[0m \u001b[0;36m1\u001b[0m\u001b[0;34m:\u001b[0m\u001b[0;34m\u001b[0m\u001b[0;34m\u001b[0m\u001b[0m\n\u001b[0;32m--> 426\u001b[0;31m         \u001b[0;32mraise\u001b[0m \u001b[0mValueError\u001b[0m\u001b[0;34m(\u001b[0m\u001b[0;34m'all input arrays must have the same shape'\u001b[0m\u001b[0;34m)\u001b[0m\u001b[0;34m\u001b[0m\u001b[0;34m\u001b[0m\u001b[0m\n\u001b[0m\u001b[1;32m    427\u001b[0m \u001b[0;34m\u001b[0m\u001b[0m\n\u001b[1;32m    428\u001b[0m     \u001b[0mresult_ndim\u001b[0m \u001b[0;34m=\u001b[0m \u001b[0marrays\u001b[0m\u001b[0;34m[\u001b[0m\u001b[0;36m0\u001b[0m\u001b[0;34m]\u001b[0m\u001b[0;34m.\u001b[0m\u001b[0mndim\u001b[0m \u001b[0;34m+\u001b[0m \u001b[0;36m1\u001b[0m\u001b[0;34m\u001b[0m\u001b[0;34m\u001b[0m\u001b[0m\n",
      "\u001b[0;31mValueError\u001b[0m: all input arrays must have the same shape"
     ]
    }
   ],
   "source": [
    "vs = np.stack([x,y,z], -1)"
   ]
  },
  {
   "cell_type": "code",
   "execution_count": 541,
   "metadata": {
    "collapsed": false
   },
   "outputs": [
    {
     "ename": "NameError",
     "evalue": "name 'vs' is not defined",
     "output_type": "error",
     "traceback": [
      "\u001b[0;31m---------------------------------------------------------------------------\u001b[0m",
      "\u001b[0;31mNameError\u001b[0m                                 Traceback (most recent call last)",
      "\u001b[0;32m<ipython-input-541-56436b7d71de>\u001b[0m in \u001b[0;36m<module>\u001b[0;34m\u001b[0m\n\u001b[0;32m----> 1\u001b[0;31m \u001b[0mv\u001b[0m \u001b[0;34m=\u001b[0m \u001b[0mtorch\u001b[0m\u001b[0;34m.\u001b[0m\u001b[0mtensor\u001b[0m\u001b[0;34m(\u001b[0m\u001b[0mvs\u001b[0m\u001b[0;34m)\u001b[0m\u001b[0;34m.\u001b[0m\u001b[0mreshape\u001b[0m\u001b[0;34m(\u001b[0m\u001b[0;34m-\u001b[0m\u001b[0;36m1\u001b[0m\u001b[0;34m,\u001b[0m\u001b[0;36m3\u001b[0m\u001b[0;34m)\u001b[0m\u001b[0;34m.\u001b[0m\u001b[0mfloat\u001b[0m\u001b[0;34m(\u001b[0m\u001b[0;34m)\u001b[0m\u001b[0;34m\u001b[0m\u001b[0;34m\u001b[0m\u001b[0m\n\u001b[0m\u001b[1;32m      2\u001b[0m \u001b[0mr\u001b[0m \u001b[0;34m=\u001b[0m \u001b[0mNIP\u001b[0m\u001b[0;34m(\u001b[0m\u001b[0mv\u001b[0m\u001b[0;34m,\u001b[0m \u001b[0mtorch\u001b[0m\u001b[0;34m.\u001b[0m\u001b[0mtensor\u001b[0m\u001b[0;34m(\u001b[0m\u001b[0;34m[\u001b[0m\u001b[0;36m1.\u001b[0m\u001b[0;34m,\u001b[0m\u001b[0;36m1\u001b[0m\u001b[0;34m,\u001b[0m\u001b[0;36m1\u001b[0m\u001b[0;34m]\u001b[0m\u001b[0;34m)\u001b[0m\u001b[0;34m,\u001b[0m \u001b[0mtorch\u001b[0m\u001b[0;34m.\u001b[0m\u001b[0mtensor\u001b[0m\u001b[0;34m(\u001b[0m\u001b[0;34m[\u001b[0m\u001b[0;36m.0001\u001b[0m\u001b[0;34m]\u001b[0m\u001b[0;34m)\u001b[0m\u001b[0;34m)\u001b[0m\u001b[0;34m.\u001b[0m\u001b[0mreshape\u001b[0m\u001b[0;34m(\u001b[0m\u001b[0;36m200\u001b[0m\u001b[0;34m,\u001b[0m\u001b[0;36m200\u001b[0m\u001b[0;34m)\u001b[0m\u001b[0;34m\u001b[0m\u001b[0;34m\u001b[0m\u001b[0m\n",
      "\u001b[0;31mNameError\u001b[0m: name 'vs' is not defined"
     ]
    }
   ],
   "source": [
    "v = torch.tensor(vs).reshape(-1,3).float()\n",
    "r = NIP(v, torch.tensor([1.,1,1]), torch.tensor([.0001])).reshape(200,200)"
   ]
  },
  {
   "cell_type": "code",
   "execution_count": 542,
   "metadata": {
    "collapsed": false
   },
   "outputs": [
    {
     "ename": "NameError",
     "evalue": "name 'v' is not defined",
     "output_type": "error",
     "traceback": [
      "\u001b[0;31m---------------------------------------------------------------------------\u001b[0m",
      "\u001b[0;31mNameError\u001b[0m                                 Traceback (most recent call last)",
      "\u001b[0;32m<ipython-input-542-158e2241efe8>\u001b[0m in \u001b[0;36m<module>\u001b[0;34m\u001b[0m\n\u001b[0;32m----> 1\u001b[0;31m \u001b[0mv\u001b[0m\u001b[0;34m.\u001b[0m\u001b[0mreshape\u001b[0m\u001b[0;34m(\u001b[0m\u001b[0;34m-\u001b[0m\u001b[0;36m1\u001b[0m\u001b[0;34m,\u001b[0m\u001b[0;36m3\u001b[0m\u001b[0;34m)\u001b[0m\u001b[0;34m.\u001b[0m\u001b[0mnorm\u001b[0m\u001b[0;34m(\u001b[0m\u001b[0mdim\u001b[0m\u001b[0;34m=\u001b[0m\u001b[0;36m1\u001b[0m\u001b[0;34m)\u001b[0m\u001b[0;34m\u001b[0m\u001b[0;34m\u001b[0m\u001b[0m\n\u001b[0m",
      "\u001b[0;31mNameError\u001b[0m: name 'v' is not defined"
     ]
    }
   ],
   "source": [
    "v.reshape(-1,3).norm(dim=1)"
   ]
  },
  {
   "cell_type": "code",
   "execution_count": 543,
   "metadata": {
    "collapsed": false
   },
   "outputs": [],
   "source": [
    "import numpy as np\n"
   ]
  },
  {
   "cell_type": "code",
   "execution_count": 583,
   "metadata": {
    "collapsed": false
   },
   "outputs": [
    {
     "data": {
      "text/plain": [
       "tensor([25.6711, 28.1267, 28.1889, 27.9041, 27.6386, 26.8485, 26.7191, 27.7992,\n",
       "        27.9356, 28.9243, 28.4940, 26.9299, 26.9750, 27.2730, 26.7266, 27.8710,\n",
       "        26.3348, 27.3194, 26.8617, 27.8161, 27.6180, 26.1009, 26.9545, 28.1553,\n",
       "        26.8330, 28.5992, 27.1094, 28.5591, 27.7864, 27.7719, 26.6565, 26.9131,\n",
       "        28.3324, 28.8200, 27.4723, 28.8258, 27.9311, 27.2504, 26.7574, 27.6124,\n",
       "        27.7960, 27.0214, 27.9871, 27.2258, 28.0194, 26.5476, 27.4728, 27.5441,\n",
       "        27.6225, 28.2002, 27.7051, 27.1864, 27.2724, 28.3816, 27.7944, 28.2787,\n",
       "        28.1877, 28.3125, 26.9053, 27.8714, 27.7694, 28.5095, 26.9804, 29.1247,\n",
       "        26.7587, 28.2815, 27.5244, 27.7200, 27.3084, 28.5066, 27.3882, 27.7525,\n",
       "        27.3525, 27.3271, 26.5434, 27.6291, 27.9861, 28.5442, 26.6987, 27.6752,\n",
       "        28.4884, 29.8203, 28.4597, 27.6188, 28.0711, 28.8631, 28.8927, 28.7972,\n",
       "        26.1748, 27.7127, 27.2244, 28.1270, 26.8756, 26.1398, 27.4298, 28.0768,\n",
       "        27.2245, 28.2989, 27.1706, 28.5310])"
      ]
     },
     "execution_count": 583,
     "metadata": {},
     "output_type": "execute_result"
    }
   ],
   "source": [
    "torch.nn.Embedding(100,768).weight.data.norm(dim=-1)."
   ]
  },
  {
   "cell_type": "code",
   "execution_count": 628,
   "metadata": {
    "collapsed": false
   },
   "outputs": [],
   "source": [
    "theta_x = np.linspace(-2*np.pi, 2*np.pi, 500)\n",
    "r = np.linspace(-5.8,5.8,500)"
   ]
  },
  {
   "cell_type": "code",
   "execution_count": 629,
   "metadata": {
    "collapsed": false
   },
   "outputs": [],
   "source": [
    "def convert_spherical_to_cartesian_2d(rho, theta):\n",
    "    x = rho * np.cos(theta)\n",
    "    y = rho * np.sin(theta)\n",
    "    return x, y"
   ]
  },
  {
   "cell_type": "code",
   "execution_count": 630,
   "metadata": {
    "collapsed": false
   },
   "outputs": [],
   "source": [
    "points = []\n",
    "for theta in theta_x:\n",
    "  for rad in r:\n",
    "    x,y = convert_spherical_to_cartesian_2d(rad, theta)\n",
    "    points.append(np.array([x, y]))"
   ]
  },
  {
   "cell_type": "code",
   "execution_count": 631,
   "metadata": {
    "collapsed": false
   },
   "outputs": [],
   "source": [
    "points = np.stack(points).reshape(len(theta_x),len(r),2)"
   ]
  },
  {
   "cell_type": "code",
   "execution_count": 632,
   "metadata": {
    "collapsed": false
   },
   "outputs": [],
   "source": [
    "target_rad = 1.6\n",
    "target_theta = 0.0\n",
    "target_point = np.array(convert_spherical_to_cartesian_2d(target_rad, target_theta))"
   ]
  },
  {
   "cell_type": "code",
   "execution_count": 632,
   "metadata": {
    "collapsed": false
   },
   "outputs": [],
   "source": []
  },
  {
   "cell_type": "code",
   "execution_count": 633,
   "metadata": {
    "collapsed": false
   },
   "outputs": [],
   "source": [
    "def MSE(out, target):\n",
    "  # out is a nXnX2 and target is 2\n",
    "  dif_sq = (out - target)**2\n",
    "  s = dif_sq.sum(-1)\n",
    "  return s"
   ]
  },
  {
   "cell_type": "code",
   "execution_count": 634,
   "metadata": {
    "collapsed": false
   },
   "outputs": [],
   "source": [
    "def sq_MSE(out, target):\n",
    "  return np.sqrt(MSE(out, target))"
   ]
  },
  {
   "cell_type": "code",
   "execution_count": 635,
   "metadata": {
    "collapsed": false
   },
   "outputs": [
    {
     "data": {
      "text/plain": [
       "(500, 500)"
      ]
     },
     "execution_count": 635,
     "metadata": {},
     "output_type": "execute_result"
    }
   ],
   "source": [
    "(points@target_point).shape"
   ]
  },
  {
   "cell_type": "code",
   "execution_count": 636,
   "metadata": {
    "collapsed": false
   },
   "outputs": [],
   "source": [
    "def inner_product(out, target):\n",
    "  print(out.shape, target.shape)\n",
    "  return -1*points@target_point"
   ]
  },
  {
   "cell_type": "code",
   "execution_count": 637,
   "metadata": {
    "collapsed": false
   },
   "outputs": [],
   "source": [
    "def cosine_similarity(out, target):\n",
    "  return -1*points@target_point/np.linalg.norm(points, axis=-1)"
   ]
  },
  {
   "cell_type": "code",
   "execution_count": 638,
   "metadata": {
    "collapsed": false
   },
   "outputs": [],
   "source": [
    "mse_points = MSE(points, target_point)"
   ]
  },
  {
   "cell_type": "code",
   "execution_count": 639,
   "metadata": {
    "collapsed": false
   },
   "outputs": [
    {
     "data": {
      "text/plain": [
       "(500, 500)"
      ]
     },
     "execution_count": 639,
     "metadata": {},
     "output_type": "execute_result"
    }
   ],
   "source": [
    "mse_points.shape"
   ]
  },
  {
   "cell_type": "code",
   "execution_count": 640,
   "metadata": {
    "collapsed": false
   },
   "outputs": [
    {
     "data": {
      "text/plain": [
       "(500, 500)"
      ]
     },
     "execution_count": 640,
     "metadata": {},
     "output_type": "execute_result"
    }
   ],
   "source": [
    "np.gradient(mse_points)[0].shape"
   ]
  },
  {
   "cell_type": "code",
   "execution_count": 647,
   "metadata": {
    "collapsed": false
   },
   "outputs": [],
   "source": [
    "def plot(points, target_point, fn):\n",
    "  dist_points = fn(points, target_point)\n",
    "  grads_points = np.abs(np.gradient(dist_points)[1])\n",
    "  data = go.Surface(\n",
    "          x=r,\n",
    "          y=theta_x,\n",
    "          z=dist_points,\n",
    "    surfacecolor=grads_points,\n",
    " showscale=True,\n",
    "      )\n",
    "  layout = go.Layout(\n",
    "      title=str(fn).split()[1] + \" colored by grad wrt norm\",\n",
    "      autosize=False,\n",
    "      width=1200,\n",
    "      height=1000,\n",
    "    scene={'xaxis_title':'norm',\n",
    "           'yaxis_title':'theta',\n",
    "           'aspectmode':'cube',\n",
    "           'aspectratio': {'x':1,'y':3}}\n",
    "  )\n",
    "  p = np.unravel_index(dist_points.argmin(), dist_points.shape)\n",
    "  minp = {'type':'scatter3d',\n",
    "          'x':[r[p[1]]],\n",
    "          'y':[theta_x[p[0]]],\n",
    "          'z':[dist_points[p]],}\n",
    "  fig = go.Figure(data=[data, minp], layout=layout)\n",
    "  plotly.offline.plot(fig, filename='/home/tucker/Downloads/sphere.html')\n",
    "\n",
    "\n",
    "  print('min_index', p)\n",
    "  print('min point', points[p])\n",
    "  print('min r the', r[p[1]], theta_x[p[0]])\n",
    "  print('min dist:', dist_points[p])\n",
    "  print('min grad:', grads_points.min())\n",
    "  print('max grad:', grads_points.max())  "
   ]
  },
  {
   "cell_type": "code",
   "execution_count": 558,
   "metadata": {
    "collapsed": false
   },
   "outputs": [
    {
     "name": "stdout",
     "output_type": "stream",
     "text": [
      "min_index (250, 155)\n",
      "min point [1.00158336 0.00630583]\n",
      "min r the 1.0016032064128255 0.006295776860901103\n",
      "min dist: 4.227049193364066e-05\n",
      "min grad: 3.177194153880514e-07\n",
      "max grad: 0.12591158614034548\n"
     ]
    }
   ],
   "source": [
    "plot(points, target_point, MSE)"
   ]
  },
  {
   "cell_type": "code",
   "execution_count": 559,
   "metadata": {
    "collapsed": false
   },
   "outputs": [
    {
     "name": "stdout",
     "output_type": "stream",
     "text": [
      "min_index (250, 155)\n",
      "min point [1.00158336 0.00630583]\n",
      "min r the 1.0016032064128255 0.006295776860901103\n",
      "min dist: 0.006501576111501015\n",
      "min grad: 1.585451427921214e-07\n",
      "max grad: 0.012591220998056762\n"
     ]
    }
   ],
   "source": [
    "plot(points, target_point, sq_MSE)"
   ]
  },
  {
   "cell_type": "code",
   "execution_count": 560,
   "metadata": {
    "collapsed": false
   },
   "outputs": [
    {
     "name": "stdout",
     "output_type": "stream",
     "text": [
      "(500, 500, 2) (2,)\n"
     ]
    },
    {
     "name": "stdout",
     "output_type": "stream",
     "text": [
      "min_index (249, 499)\n",
      "min point [ 4.99990091 -0.03147868]\n",
      "min r the 5.0 -0.006295776860901547\n",
      "min dist: -4.999900908311601\n",
      "min grad: 1.588597076860026e-07\n",
      "max grad: 0.06295579307017342\n"
     ]
    }
   ],
   "source": [
    "plot(points, target_point, inner_product)"
   ]
  },
  {
   "cell_type": "code",
   "execution_count": 561,
   "metadata": {
    "collapsed": false
   },
   "outputs": [
    {
     "name": "stdout",
     "output_type": "stream",
     "text": [
      "min_index (0, 0)\n",
      "min point [8.00000000e-01 9.79717439e-17]\n",
      "min r the -0.8 -3.141592653589793\n",
      "min dist: -1.0\n",
      "min grad: 7.927099413518324e-05\n",
      "max grad: 0.012591158614034686\n"
     ]
    }
   ],
   "source": [
    "plot(points, target_point, cosine_similarity)"
   ]
  },
  {
   "cell_type": "code",
   "execution_count": 562,
   "metadata": {
    "collapsed": false
   },
   "outputs": [
    {
     "name": "stdout",
     "output_type": "stream",
     "text": [
      "min_index (125, 80)\n",
      "min point [ 0.00040878 -0.12985908]\n",
      "min r the 0.12985971943887775 -1.567648438364446\n",
      "min dist: -0.012591158614034686\n"
     ]
    }
   ],
   "source": [
    "plot_grad(points, target_point, cosine_similarity)"
   ]
  },
  {
   "cell_type": "code",
   "execution_count": 563,
   "metadata": {
    "collapsed": false
   },
   "outputs": [
    {
     "name": "stdout",
     "output_type": "stream",
     "text": [
      "min_index (249, 499)\n",
      "min point [ 4.99990091 -0.03147868]\n",
      "min r the 5.0 -0.006295776860901547\n",
      "min dist: -2.6823016447673724e+48\n",
      "min grad: 1.0268145939661264e+24\n",
      "max grad: 1.017836965078111e+47\n"
     ]
    }
   ],
   "source": [
    "plot(points, target_point, vmf_normed)"
   ]
  },
  {
   "cell_type": "code",
   "execution_count": 564,
   "metadata": {
    "collapsed": false
   },
   "outputs": [
    {
     "name": "stdout",
     "output_type": "stream",
     "text": [
      "min_index (249, 499)\n",
      "min point [ 4.99990091 -0.03147868]\n",
      "min r the 5.0 -0.006295776860901547\n",
      "min dist: -5.530827553339808e+39\n",
      "min grad: 6.694733599657165e+30\n",
      "max grad: 9.209360494997154e+37\n"
     ]
    }
   ],
   "source": [
    "# This is the unregularized version from the paper (it excluded the kappa term (norm of e) in the exponent/innerproduct term\n",
    "plot(points, target_point, vmf_normed_2)"
   ]
  },
  {
   "cell_type": "code",
   "execution_count": 565,
   "metadata": {
    "collapsed": false
   },
   "outputs": [
    {
     "name": "stdout",
     "output_type": "stream",
     "text": [
      "min_index (215, 499)\n",
      "min point [ 4.53559552 -2.10437004]\n",
      "min r the 5.0 -0.4344086034021961\n",
      "min dist: -9.209360494997154e+37\n"
     ]
    }
   ],
   "source": [
    "plot_grad(points, target_point, vmf_normed_2)"
   ]
  },
  {
   "cell_type": "code",
   "execution_count": 566,
   "metadata": {
    "collapsed": false
   },
   "outputs": [
    {
     "name": "stdout",
     "output_type": "stream",
     "text": [
      "min_index (249, 499)\n",
      "min point [ 4.99990091 -0.03147868]\n",
      "min r the 5.0 -0.006295776860901547\n",
      "min dist: -741.9922666034148\n",
      "min grad: 3.1772510013586275e-10\n",
      "max grad: 12.354885777490182\n"
     ]
    }
   ],
   "source": [
    "plot(points, target_point, vmf_normed_simp)"
   ]
  },
  {
   "cell_type": "code",
   "execution_count": 567,
   "metadata": {
    "collapsed": false
   },
   "outputs": [
    {
     "name": "stdout",
     "output_type": "stream",
     "text": [
      "min_index (249, 499)\n",
      "min point [ 4.99990091 -0.03147868]\n",
      "min r the 5.0 -0.006295776860901547\n",
      "min dist: -0.7845398323424346\n",
      "min grad: 1.4121869774326207e-08\n",
      "max grad: 0.013063343720350146\n"
     ]
    }
   ],
   "source": [
    "plot(points, target_point, vmf_normed_reg1)"
   ]
  },
  {
   "cell_type": "code",
   "execution_count": 568,
   "metadata": {
    "collapsed": false
   },
   "outputs": [
    {
     "name": "stdout",
     "output_type": "stream",
     "text": [
      "min_index (249, 86)\n",
      "min point [ 0.19959524 -0.00125662]\n",
      "min r the 0.19959919839679352 -0.006295776860901547\n",
      "min dist: -0.16075837604904103\n",
      "min grad: 2.5278717452614785e-09\n",
      "max grad: 0.00018561328788017917\n"
     ]
    }
   ],
   "source": [
    "plot(points, target_point, vmf_normed_reg2)"
   ]
  },
  {
   "cell_type": "code",
   "execution_count": 648,
   "metadata": {
    "collapsed": false
   },
   "outputs": [
    {
     "name": "stdout",
     "output_type": "stream",
     "text": [
      "min_index (0, 315)\n",
      "min point [1.52264529e+00 3.72940536e-16]\n",
      "min r the 1.5226452905811625 -6.283185307179586\n",
      "min dist: -0.237725203688139\n",
      "min grad: 6.816203498781849e-11\n",
      "max grad: 0.008846192947442016\n"
     ]
    }
   ],
   "source": [
    "plot(points, target_point, make_vmf_normed_reg12(1, 1))"
   ]
  },
  {
   "cell_type": "code",
   "execution_count": null,
   "metadata": {
    "collapsed": false
   },
   "outputs": [],
   "source": []
  }
 ],
 "metadata": {
  "kernelspec": {
   "argv": [
    "/usr/bin/python3",
    "-m",
    "ipykernel_launcher",
    "-f",
    "{connection_file}"
   ],
   "display_name": "Python 3",
   "env": null,
   "interrupt_mode": "signal",
   "language": "python",
   "metadata": null,
   "name": "python3"
  },
  "name": "VMFExploration.ipynb"
 },
 "nbformat": 4,
 "nbformat_minor": 2
}
