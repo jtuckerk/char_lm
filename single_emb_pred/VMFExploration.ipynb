{
 "cells": [
  {
   "cell_type": "code",
   "execution_count": 1,
   "metadata": {
    "collapsed": false
   },
   "outputs": [],
   "source": [
    "\n",
    "import numpy as np\n",
    "import plotly\n",
    "import plotly.graph_objs as go\n",
    "import torch\n",
    "\n",
    "import torch.nn as nn\n",
    "\n",
    "from plotly.graph_objs import *"
   ]
  },
  {
   "cell_type": "code",
   "execution_count": 2,
   "metadata": {
    "collapsed": false
   },
   "outputs": [],
   "source": [
    "from scipy.special import iv"
   ]
  },
  {
   "cell_type": "code",
   "execution_count": 3,
   "metadata": {
    "collapsed": false
   },
   "outputs": [],
   "source": [
    "embmat = torch.load('../data/distilbert_embedding_matrix.pt')"
   ]
  },
  {
   "cell_type": "code",
   "execution_count": 4,
   "metadata": {
    "collapsed": false
   },
   "outputs": [
    {
     "data": {
      "text/plain": [
       "tensor(0.2599)"
      ]
     },
     "execution_count": 4,
     "metadata": {},
     "output_type": "execute_result"
    }
   ],
   "source": [
    "embmat.norm(dim=-1).std()"
   ]
  },
  {
   "cell_type": "code",
   "execution_count": 5,
   "metadata": {
    "collapsed": false
   },
   "outputs": [],
   "source": [
    "def C(kappa, p):\n",
    "  num = kappa ** (0.5*p - 1)\n",
    "  denom = (2 * np.pi) ** (0.5*p) * iv(0.5*p - 1, kappa)\n",
    "  normalization_const = num/denom\n",
    "  return normalization_const\n"
   ]
  },
  {
   "cell_type": "code",
   "execution_count": 6,
   "metadata": {
    "collapsed": false
   },
   "outputs": [],
   "source": [
    "def vmf(x, mu, kappa):\n",
    "    \"\"\"Adapted from https://github.com/lmc2179/von_mises_fisher\"\"\"\n",
    "    normalization_const = C(kappa, 100)\n",
    "    likelihood = np.exp(kappa * (x@mu))\n",
    "    return normalization_const * likelihood\n"
   ]
  },
  {
   "cell_type": "code",
   "execution_count": 7,
   "metadata": {
    "collapsed": false
   },
   "outputs": [],
   "source": [
    "def vmf2(x, mu, kappa):\n",
    "    \"\"\"Adapted from https://github.com/lmc2179/von_mises_fisher\"\"\"\n",
    "    normalization_const = C(kappa, 100)\n",
    "    likelihood = np.exp((x@mu))\n",
    "    return normalization_const * likelihood\n"
   ]
  },
  {
   "cell_type": "code",
   "execution_count": 8,
   "metadata": {
    "collapsed": false
   },
   "outputs": [],
   "source": [
    "def vmf_reg2(x, mu, kappa):\n",
    "    \"\"\"Adapted from https://github.com/lmc2179/von_mises_fisher\"\"\"\n",
    "    normalization_const = C(kappa, mu.shape[-1])\n",
    "    likelihood = np.exp(.1*(x@mu))\n",
    "    return normalization_const * likelihood\n"
   ]
  },
  {
   "cell_type": "code",
   "execution_count": 9,
   "metadata": {
    "collapsed": false
   },
   "outputs": [],
   "source": [
    "def vmf_reg12(x, mu, kappa, r1, r2):\n",
    "  \"\"\"Adapted from https://github.com/lmc2179/von_mises_fisher\"\"\"\n",
    "  normalization_const = C(kappa, mu.shape[-1])\n",
    "  likelihood = np.exp(r2*(x@mu))\n",
    "  reg_term = np.exp(-1*r1 * kappa)\n",
    "  return normalization_const * likelihood * reg_term\n"
   ]
  },
  {
   "cell_type": "code",
   "execution_count": 10,
   "metadata": {
    "collapsed": false
   },
   "outputs": [],
   "source": [
    "def vmf_simp(x, mu, kappa):\n",
    "    \"\"\"Adapted from https://github.com/lmc2179/von_mises_fisher\"\"\"\n",
    "    normalization_const = kappa\n",
    "    likelihood = np.exp((x@mu))\n",
    "    return normalization_const * likelihood\n"
   ]
  },
  {
   "cell_type": "code",
   "execution_count": 11,
   "metadata": {
    "collapsed": false
   },
   "outputs": [],
   "source": [
    "def vmf_simp_loss(out, targets):\n",
    "  normalization_const = out.norm(dim=-1)\n",
    "  # batchwise matrix multiply\n",
    "  likelihood = out.unsqueeze(1)@targets.view(-1,targets.shape[-1], 1)\n",
    "  return (-torch.log(normalization_const) - likelihood.squeeze()).mean()"
   ]
  },
  {
   "cell_type": "code",
   "execution_count": 12,
   "metadata": {
    "collapsed": false
   },
   "outputs": [],
   "source": [
    "emb = torch.tensor([[1,1,3.0],\n",
    "                    [1,1,1],\n",
    "                     [-1,0,1],\n",
    "                    [1,0,1],]\n",
    ")\n",
    "b  = torch.tensor([[1,1,1.0], [2,1,1.0]])\n",
    "labels = torch.tensor([1,3])                   "
   ]
  },
  {
   "cell_type": "code",
   "execution_count": 13,
   "metadata": {
    "collapsed": false
   },
   "outputs": [],
   "source": [
    "def vmf_nearest_neighbor(out, labels, embeddings):\n",
    "  print(out.shape, labels.shape, embeddings.shape)\n",
    "  pass"
   ]
  },
  {
   "cell_type": "code",
   "execution_count": 14,
   "metadata": {
    "collapsed": false
   },
   "outputs": [
    {
     "name": "stdout",
     "output_type": "stream",
     "text": [
      "torch.Size([2, 3]) torch.Size([2]) torch.Size([4, 3])\n"
     ]
    }
   ],
   "source": [
    "vmf_nearest_neighbor(b, labels, emb)"
   ]
  },
  {
   "cell_type": "code",
   "execution_count": 15,
   "metadata": {
    "collapsed": false
   },
   "outputs": [],
   "source": [
    "def vmf_reg1(x, mu, kappa):\n",
    "    \"\"\"Adapted from https://github.com/lmc2179/von_mises_fisher\"\"\"\n",
    "    normalization_const = C(kappa, mu.shape[-1])\n",
    "    likelihood = np.exp((x@mu))\n",
    "    reg_term = np.exp(-.02 * kappa)\n",
    "    return normalization_const * likelihood * reg_term\n"
   ]
  },
  {
   "cell_type": "code",
   "execution_count": 16,
   "metadata": {
    "collapsed": false
   },
   "outputs": [],
   "source": [
    "def vmf_normed(out, target):\n",
    "  return -1* vmf(out, target, np.linalg.norm(out, axis=-1))"
   ]
  },
  {
   "cell_type": "code",
   "execution_count": 17,
   "metadata": {
    "collapsed": false
   },
   "outputs": [],
   "source": [
    "def vmf_normed_2(out, target):\n",
    "  return -1* vmf2(out, target, np.linalg.norm(out, axis=-1))"
   ]
  },
  {
   "cell_type": "code",
   "execution_count": 18,
   "metadata": {
    "collapsed": false
   },
   "outputs": [],
   "source": [
    "def vmf_normed_simp(out, target):\n",
    "  return -1* vmf_simp(out, target, np.linalg.norm(out, axis=-1))"
   ]
  },
  {
   "cell_type": "code",
   "execution_count": 19,
   "metadata": {
    "collapsed": false
   },
   "outputs": [],
   "source": [
    "def vmf_normed_reg1(out, target):\n",
    "  return -1* vmf_reg1(out, target, np.linalg.norm(out, axis=-1))"
   ]
  },
  {
   "cell_type": "code",
   "execution_count": 20,
   "metadata": {
    "collapsed": false
   },
   "outputs": [],
   "source": [
    "def vmf_normed_reg2(out, target):\n",
    "  return -1* vmf_reg2(out, target, np.linalg.norm(out, axis=-1))"
   ]
  },
  {
   "cell_type": "code",
   "execution_count": 21,
   "metadata": {
    "collapsed": false
   },
   "outputs": [],
   "source": [
    "def make_vmf_normed_reg12(r1, r2):\n",
    "  def vmf_normed_reg12(out, target):\n",
    "    return -1 * vmf_reg12(out, target, np.linalg.norm(out, axis=-1), r1, r2)\n",
    "  return vmf_normed_reg12"
   ]
  },
  {
   "cell_type": "code",
   "execution_count": 22,
   "metadata": {
    "collapsed": false
   },
   "outputs": [
    {
     "data": {
      "text/plain": [
       "array([[3., 3.],\n",
       "       [3., 3.]])"
      ]
     },
     "execution_count": 22,
     "metadata": {},
     "output_type": "execute_result"
    }
   ],
   "source": [
    "x = np.array([[[3,0,0,], [3,0,0.0]], [[3,0,0,], [3,0,0.0]]])\n",
    "mu = np.array([1,0,0.0])\n",
    "x@mu"
   ]
  },
  {
   "cell_type": "code",
   "execution_count": 23,
   "metadata": {
    "collapsed": false
   },
   "outputs": [
    {
     "data": {
      "text/plain": [
       "array([[1.66979802e+40, 1.66979802e+40],\n",
       "       [1.66979802e+40, 1.66979802e+40]])"
      ]
     },
     "execution_count": 23,
     "metadata": {},
     "output_type": "execute_result"
    }
   ],
   "source": [
    "vmf(x, mu, 2)"
   ]
  },
  {
   "cell_type": "code",
   "execution_count": 24,
   "metadata": {
    "collapsed": false
   },
   "outputs": [],
   "source": [
    "# wanna know- is this gonna get too big? yes\n",
    "\n",
    "def NLLvMF(output, target_embedding):\n",
    "  return -torch.log(C(output.norm(dim=1), output.size(-1))) - output@target_embedding\n",
    "def NLLvMF(output, target_embedding, kappa):\n",
    "  return -torch.log(C(kappa, output.size(-1))) - output@target_embedding\n",
    "def NIP(output, target_embedding, kappa):\n",
    "  return - output@target_embedding"
   ]
  },
  {
   "cell_type": "code",
   "execution_count": 25,
   "metadata": {
    "collapsed": false
   },
   "outputs": [],
   "source": [
    "a = torch.tensor([1,1,1,1]).float()*2\n",
    "b = torch.tensor([1,1,1,1]).float()"
   ]
  },
  {
   "cell_type": "code",
   "execution_count": 26,
   "metadata": {
    "collapsed": false
   },
   "outputs": [
    {
     "data": {
      "text/plain": [
       "tensor([-4.8949])"
      ]
     },
     "execution_count": 26,
     "metadata": {},
     "output_type": "execute_result"
    }
   ],
   "source": [
    "NLLvMF(a, b, torch.tensor([1.0]))"
   ]
  },
  {
   "cell_type": "code",
   "execution_count": 27,
   "metadata": {
    "collapsed": false
   },
   "outputs": [],
   "source": [
    "import numpy as np\n"
   ]
  },
  {
   "cell_type": "code",
   "execution_count": 28,
   "metadata": {
    "collapsed": false
   },
   "outputs": [
    {
     "data": {
      "text/plain": [
       "tensor([46.2945, 45.4991, 44.1308, 44.1101, 45.7204, 44.1895, 45.0634, 45.0778,\n",
       "        45.3733, 45.4447, 44.5835, 45.4047, 45.9627, 44.6528, 45.3276, 45.2534,\n",
       "        44.7590, 45.1097, 44.6798, 44.8931, 45.0445, 45.2317, 44.2297, 45.4608,\n",
       "        45.4323, 45.6521, 45.2357, 45.1590, 46.0943, 45.7700, 46.1047, 45.3161,\n",
       "        44.5883, 44.2191, 45.9919, 45.9943, 45.2396, 46.2324, 45.1179, 44.4526,\n",
       "        44.8375, 45.2442, 44.9563, 46.7675, 44.2113, 46.0685, 45.2843, 44.5964,\n",
       "        43.7856, 44.8012, 44.8939, 43.9868, 46.0875, 44.9208, 45.3424, 44.6074,\n",
       "        45.2221, 44.5984, 43.8992, 46.5167, 44.1791, 46.4937, 44.5682, 44.6362,\n",
       "        43.5007, 44.8528, 44.6755, 46.4536, 43.9964, 45.8595, 46.2167, 44.5324,\n",
       "        45.0965, 45.1348, 44.5497, 45.6031, 45.2653, 44.4634, 44.9971, 45.1542,\n",
       "        45.0001, 44.7498, 45.9787, 44.7974, 44.7860, 45.8248, 44.6784, 46.1042,\n",
       "        44.4407, 44.2012, 44.4961, 45.7103, 45.5151, 46.0486, 44.0336, 45.4745,\n",
       "        44.0815, 43.7701, 45.7484, 45.5956])"
      ]
     },
     "execution_count": 28,
     "metadata": {},
     "output_type": "execute_result"
    }
   ],
   "source": [
    "torch.nn.Embedding(100,2048).weight.data.norm(dim=-1)"
   ]
  },
  {
   "cell_type": "code",
   "execution_count": 29,
   "metadata": {
    "collapsed": false
   },
   "outputs": [],
   "source": [
    "theta_x = np.linspace(-2*np.pi, 2*np.pi, 500)\n",
    "r = np.linspace(-5.8,5.8,500)"
   ]
  },
  {
   "cell_type": "code",
   "execution_count": 30,
   "metadata": {
    "collapsed": false
   },
   "outputs": [],
   "source": [
    "def convert_spherical_to_cartesian_2d(rho, theta):\n",
    "    x = rho * np.cos(theta)\n",
    "    y = rho * np.sin(theta)\n",
    "    return x, y"
   ]
  },
  {
   "cell_type": "code",
   "execution_count": 31,
   "metadata": {
    "collapsed": false
   },
   "outputs": [],
   "source": [
    "points = []\n",
    "for theta in theta_x:\n",
    "  for rad in r:\n",
    "    x,y = convert_spherical_to_cartesian_2d(rad, theta)\n",
    "    points.append(np.array([x, y]))"
   ]
  },
  {
   "cell_type": "code",
   "execution_count": 32,
   "metadata": {
    "collapsed": false
   },
   "outputs": [],
   "source": [
    "points = np.stack(points).reshape(len(theta_x),len(r),2)"
   ]
  },
  {
   "cell_type": "code",
   "execution_count": 33,
   "metadata": {
    "collapsed": false
   },
   "outputs": [],
   "source": [
    "target_rad = 1.6\n",
    "target_theta = 0.0\n",
    "target_point = np.array(convert_spherical_to_cartesian_2d(target_rad, target_theta))"
   ]
  },
  {
   "cell_type": "code",
   "execution_count": 33,
   "metadata": {
    "collapsed": false
   },
   "outputs": [],
   "source": []
  },
  {
   "cell_type": "code",
   "execution_count": 34,
   "metadata": {
    "collapsed": false
   },
   "outputs": [],
   "source": [
    "def MSE(out, target):\n",
    "  # out is a nXnX2 and target is 2\n",
    "  dif_sq = (out - target)**2\n",
    "  s = dif_sq.sum(-1)\n",
    "  return s"
   ]
  },
  {
   "cell_type": "code",
   "execution_count": 35,
   "metadata": {
    "collapsed": false
   },
   "outputs": [],
   "source": [
    "def sq_MSE(out, target):\n",
    "  return np.sqrt(MSE(out, target))"
   ]
  },
  {
   "cell_type": "code",
   "execution_count": 36,
   "metadata": {
    "collapsed": false
   },
   "outputs": [
    {
     "data": {
      "text/plain": [
       "(500, 500)"
      ]
     },
     "execution_count": 36,
     "metadata": {},
     "output_type": "execute_result"
    }
   ],
   "source": [
    "(points@target_point).shape"
   ]
  },
  {
   "cell_type": "code",
   "execution_count": 37,
   "metadata": {
    "collapsed": false
   },
   "outputs": [],
   "source": [
    "def inner_product(out, target):\n",
    "  print(out.shape, target.shape)\n",
    "  return -1*out@target"
   ]
  },
  {
   "cell_type": "code",
   "execution_count": 38,
   "metadata": {
    "collapsed": false
   },
   "outputs": [],
   "source": [
    "def cosine_similarity(out, target):\n",
    "  ip = out@target\n",
    "  p1 = (ip)/np.linalg.norm(out, axis=-1)\n",
    "  return p1/np.linalg.norm(target, axis=-1)"
   ]
  },
  {
   "cell_type": "code",
   "execution_count": 39,
   "metadata": {
    "collapsed": false
   },
   "outputs": [],
   "source": [
    "def cosine_similarity_acc(outputs, labels, embedding_matrix):\n",
    "  out_norm = outputs.norm(dim=-1)\n",
    "  emb_norm = embedding_matrix.norm(dim=-1)\n",
    "  inner_prods = outputs@embedding_matrix.T\n",
    "  n1 = inner_prods/out_norm.unsqueeze(1)\n",
    "  n2 = n1/emb_norm\n",
    "\n",
    "  preds = n2.argmax(-1)\n",
    "  right = labels==preds\n",
    "  return right.float().mean()"
   ]
  },
  {
   "cell_type": "code",
   "execution_count": 113,
   "metadata": {
    "collapsed": false
   },
   "outputs": [],
   "source": [
    "def log_cos_loss(out, labels, embedding_matrix):\n",
    "  targets = embedding_matrix[labels]\n",
    "  pred_normalize = out.norm(dim=-1)\n",
    "  target_normalize = targets.norm(dim=-1)\n",
    "  # batchwise matrix multiply\n",
    "  inner_prod = out.unsqueeze(1)@targets.view(-1,targets.shape[-1], 1)\n",
    "  normed = inner_prod.squeeze()/(pred_normalize*target_normalize)\n",
    "  return (-1*normed).mean()\n"
   ]
  },
  {
   "cell_type": "code",
   "execution_count": 107,
   "metadata": {
    "collapsed": false
   },
   "outputs": [],
   "source": [
    "rp = torch.randperm(len(embmat))"
   ]
  },
  {
   "cell_type": "code",
   "execution_count": 108,
   "metadata": {
    "collapsed": false
   },
   "outputs": [],
   "source": [
    "r = rp[:4].cuda()"
   ]
  },
  {
   "cell_type": "code",
   "execution_count": 108,
   "metadata": {
    "collapsed": false
   },
   "outputs": [],
   "source": []
  },
  {
   "cell_type": "code",
   "execution_count": 109,
   "metadata": {
    "collapsed": false
   },
   "outputs": [],
   "source": [
    "embs = embmat[r].cuda()"
   ]
  },
  {
   "cell_type": "code",
   "execution_count": 110,
   "metadata": {
    "collapsed": false
   },
   "outputs": [],
   "source": [
    "r[0]=4000"
   ]
  },
  {
   "cell_type": "code",
   "execution_count": 111,
   "metadata": {
    "collapsed": false
   },
   "outputs": [
    {
     "data": {
      "text/plain": [
       "tensor([[-0.1232, -0.1259, -0.1238,  ..., -0.0844, -0.0649,  0.0061],\n",
       "        [-0.0005, -0.0546, -0.0762,  ..., -0.0843, -0.0570, -0.0242],\n",
       "        [-0.0373, -0.0683, -0.0105,  ..., -0.0162, -0.0273, -0.0354],\n",
       "        [-0.0971, -0.0339,  0.0378,  ..., -0.0814, -0.0091, -0.0677]],\n",
       "       device='cuda:0')"
      ]
     },
     "execution_count": 111,
     "metadata": {},
     "output_type": "execute_result"
    }
   ],
   "source": [
    "embs"
   ]
  },
  {
   "cell_type": "code",
   "execution_count": 112,
   "metadata": {
    "collapsed": false
   },
   "outputs": [
    {
     "data": {
      "text/plain": [
       "tensor(-0.8691, device='cuda:0')"
      ]
     },
     "execution_count": 112,
     "metadata": {},
     "output_type": "execute_result"
    }
   ],
   "source": [
    "log_cos_loss(embs, r, embmat.cuda())"
   ]
  },
  {
   "cell_type": "code",
   "execution_count": 69,
   "metadata": {
    "collapsed": false
   },
   "outputs": [
    {
     "data": {
      "text/plain": [
       "((500, 500, 2), (2,))"
      ]
     },
     "execution_count": 69,
     "metadata": {},
     "output_type": "execute_result"
    }
   ],
   "source": [
    "points.shape, target_point.shape"
   ]
  },
  {
   "cell_type": "code",
   "execution_count": 638,
   "metadata": {
    "collapsed": false
   },
   "outputs": [],
   "source": [
    "mse_points = MSE(points, target_point)"
   ]
  },
  {
   "cell_type": "code",
   "execution_count": 639,
   "metadata": {
    "collapsed": false
   },
   "outputs": [
    {
     "data": {
      "text/plain": [
       "(500, 500)"
      ]
     },
     "execution_count": 639,
     "metadata": {},
     "output_type": "execute_result"
    }
   ],
   "source": [
    "mse_points.shape"
   ]
  },
  {
   "cell_type": "code",
   "execution_count": 640,
   "metadata": {
    "collapsed": false
   },
   "outputs": [
    {
     "data": {
      "text/plain": [
       "(500, 500)"
      ]
     },
     "execution_count": 640,
     "metadata": {},
     "output_type": "execute_result"
    }
   ],
   "source": [
    "np.gradient(mse_points)[0].shape"
   ]
  },
  {
   "cell_type": "code",
   "execution_count": 647,
   "metadata": {
    "collapsed": false
   },
   "outputs": [],
   "source": [
    "def plot(points, target_point, fn):\n",
    "  dist_points = fn(points, target_point)\n",
    "  grads_points = np.abs(np.gradient(dist_points)[1])\n",
    "  data = go.Surface(\n",
    "          x=r,\n",
    "          y=theta_x,\n",
    "          z=dist_points,\n",
    "    surfacecolor=grads_points,\n",
    " showscale=True,\n",
    "      )\n",
    "  layout = go.Layout(\n",
    "      title=str(fn).split()[1] + \" colored by grad wrt norm\",\n",
    "      autosize=False,\n",
    "      width=1200,\n",
    "      height=1000,\n",
    "    scene={'xaxis_title':'norm',\n",
    "           'yaxis_title':'theta',\n",
    "           'aspectmode':'cube',\n",
    "           'aspectratio': {'x':1,'y':3}}\n",
    "  )\n",
    "  p = np.unravel_index(dist_points.argmin(), dist_points.shape)\n",
    "  minp = {'type':'scatter3d',\n",
    "          'x':[r[p[1]]],\n",
    "          'y':[theta_x[p[0]]],\n",
    "          'z':[dist_points[p]],}\n",
    "  fig = go.Figure(data=[data, minp], layout=layout)\n",
    "  plotly.offline.plot(fig, filename='/home/tucker/Downloads/sphere.html')\n",
    "\n",
    "\n",
    "  print('min_index', p)\n",
    "  print('min point', points[p])\n",
    "  print('min r the', r[p[1]], theta_x[p[0]])\n",
    "  print('min dist:', dist_points[p])\n",
    "  print('min grad:', grads_points.min())\n",
    "  print('max grad:', grads_points.max())  "
   ]
  },
  {
   "cell_type": "code",
   "execution_count": 558,
   "metadata": {
    "collapsed": false
   },
   "outputs": [
    {
     "name": "stdout",
     "output_type": "stream",
     "text": [
      "min_index (250, 155)\n",
      "min point [1.00158336 0.00630583]\n",
      "min r the 1.0016032064128255 0.006295776860901103\n",
      "min dist: 4.227049193364066e-05\n",
      "min grad: 3.177194153880514e-07\n",
      "max grad: 0.12591158614034548\n"
     ]
    }
   ],
   "source": [
    "plot(points, target_point, MSE)"
   ]
  },
  {
   "cell_type": "code",
   "execution_count": 559,
   "metadata": {
    "collapsed": false
   },
   "outputs": [
    {
     "name": "stdout",
     "output_type": "stream",
     "text": [
      "min_index (250, 155)\n",
      "min point [1.00158336 0.00630583]\n",
      "min r the 1.0016032064128255 0.006295776860901103\n",
      "min dist: 0.006501576111501015\n",
      "min grad: 1.585451427921214e-07\n",
      "max grad: 0.012591220998056762\n"
     ]
    }
   ],
   "source": [
    "plot(points, target_point, sq_MSE)"
   ]
  },
  {
   "cell_type": "code",
   "execution_count": 560,
   "metadata": {
    "collapsed": false
   },
   "outputs": [
    {
     "name": "stdout",
     "output_type": "stream",
     "text": [
      "(500, 500, 2) (2,)\n"
     ]
    },
    {
     "name": "stdout",
     "output_type": "stream",
     "text": [
      "min_index (249, 499)\n",
      "min point [ 4.99990091 -0.03147868]\n",
      "min r the 5.0 -0.006295776860901547\n",
      "min dist: -4.999900908311601\n",
      "min grad: 1.588597076860026e-07\n",
      "max grad: 0.06295579307017342\n"
     ]
    }
   ],
   "source": [
    "plot(points, target_point, inner_product)"
   ]
  },
  {
   "cell_type": "code",
   "execution_count": 561,
   "metadata": {
    "collapsed": false
   },
   "outputs": [
    {
     "name": "stdout",
     "output_type": "stream",
     "text": [
      "min_index (0, 0)\n",
      "min point [8.00000000e-01 9.79717439e-17]\n",
      "min r the -0.8 -3.141592653589793\n",
      "min dist: -1.0\n",
      "min grad: 7.927099413518324e-05\n",
      "max grad: 0.012591158614034686\n"
     ]
    }
   ],
   "source": [
    "plot(points, target_point, cosine_similarity)"
   ]
  },
  {
   "cell_type": "code",
   "execution_count": 562,
   "metadata": {
    "collapsed": false
   },
   "outputs": [
    {
     "name": "stdout",
     "output_type": "stream",
     "text": [
      "min_index (125, 80)\n",
      "min point [ 0.00040878 -0.12985908]\n",
      "min r the 0.12985971943887775 -1.567648438364446\n",
      "min dist: -0.012591158614034686\n"
     ]
    }
   ],
   "source": [
    "plot_grad(points, target_point, cosine_similarity)"
   ]
  },
  {
   "cell_type": "code",
   "execution_count": 563,
   "metadata": {
    "collapsed": false
   },
   "outputs": [
    {
     "name": "stdout",
     "output_type": "stream",
     "text": [
      "min_index (249, 499)\n",
      "min point [ 4.99990091 -0.03147868]\n",
      "min r the 5.0 -0.006295776860901547\n",
      "min dist: -2.6823016447673724e+48\n",
      "min grad: 1.0268145939661264e+24\n",
      "max grad: 1.017836965078111e+47\n"
     ]
    }
   ],
   "source": [
    "plot(points, target_point, vmf_normed)"
   ]
  },
  {
   "cell_type": "code",
   "execution_count": 564,
   "metadata": {
    "collapsed": false
   },
   "outputs": [
    {
     "name": "stdout",
     "output_type": "stream",
     "text": [
      "min_index (249, 499)\n",
      "min point [ 4.99990091 -0.03147868]\n",
      "min r the 5.0 -0.006295776860901547\n",
      "min dist: -5.530827553339808e+39\n",
      "min grad: 6.694733599657165e+30\n",
      "max grad: 9.209360494997154e+37\n"
     ]
    }
   ],
   "source": [
    "# This is the unregularized version from the paper (it excluded the kappa term (norm of e) in the exponent/innerproduct term\n",
    "plot(points, target_point, vmf_normed_2)"
   ]
  },
  {
   "cell_type": "code",
   "execution_count": 565,
   "metadata": {
    "collapsed": false
   },
   "outputs": [
    {
     "name": "stdout",
     "output_type": "stream",
     "text": [
      "min_index (215, 499)\n",
      "min point [ 4.53559552 -2.10437004]\n",
      "min r the 5.0 -0.4344086034021961\n",
      "min dist: -9.209360494997154e+37\n"
     ]
    }
   ],
   "source": [
    "plot_grad(points, target_point, vmf_normed_2)"
   ]
  },
  {
   "cell_type": "code",
   "execution_count": 566,
   "metadata": {
    "collapsed": false
   },
   "outputs": [
    {
     "name": "stdout",
     "output_type": "stream",
     "text": [
      "min_index (249, 499)\n",
      "min point [ 4.99990091 -0.03147868]\n",
      "min r the 5.0 -0.006295776860901547\n",
      "min dist: -741.9922666034148\n",
      "min grad: 3.1772510013586275e-10\n",
      "max grad: 12.354885777490182\n"
     ]
    }
   ],
   "source": [
    "plot(points, target_point, vmf_normed_simp)"
   ]
  },
  {
   "cell_type": "code",
   "execution_count": 567,
   "metadata": {
    "collapsed": false
   },
   "outputs": [
    {
     "name": "stdout",
     "output_type": "stream",
     "text": [
      "min_index (249, 499)\n",
      "min point [ 4.99990091 -0.03147868]\n",
      "min r the 5.0 -0.006295776860901547\n",
      "min dist: -0.7845398323424346\n",
      "min grad: 1.4121869774326207e-08\n",
      "max grad: 0.013063343720350146\n"
     ]
    }
   ],
   "source": [
    "plot(points, target_point, vmf_normed_reg1)"
   ]
  },
  {
   "cell_type": "code",
   "execution_count": 568,
   "metadata": {
    "collapsed": false
   },
   "outputs": [
    {
     "name": "stdout",
     "output_type": "stream",
     "text": [
      "min_index (249, 86)\n",
      "min point [ 0.19959524 -0.00125662]\n",
      "min r the 0.19959919839679352 -0.006295776860901547\n",
      "min dist: -0.16075837604904103\n",
      "min grad: 2.5278717452614785e-09\n",
      "max grad: 0.00018561328788017917\n"
     ]
    }
   ],
   "source": [
    "plot(points, target_point, vmf_normed_reg2)"
   ]
  },
  {
   "cell_type": "code",
   "execution_count": 648,
   "metadata": {
    "collapsed": false
   },
   "outputs": [
    {
     "name": "stdout",
     "output_type": "stream",
     "text": [
      "min_index (0, 315)\n",
      "min point [1.52264529e+00 3.72940536e-16]\n",
      "min r the 1.5226452905811625 -6.283185307179586\n",
      "min dist: -0.237725203688139\n",
      "min grad: 6.816203498781849e-11\n",
      "max grad: 0.008846192947442016\n"
     ]
    }
   ],
   "source": [
    "plot(points, target_point, make_vmf_normed_reg12(1, 1))"
   ]
  },
  {
   "cell_type": "code",
   "execution_count": 70,
   "metadata": {
    "collapsed": false
   },
   "outputs": [],
   "source": [
    "#just a sphere\n",
    "size = 200\n",
    "theta = np.linspace(0,2*np.pi,size)\n",
    "phi = np.linspace(0,np.pi,size)\n",
    "x = np.outer(np.cos(theta),np.sin(phi))\n",
    "y = np.outer(np.sin(theta),np.sin(phi))\n",
    "z = np.outer(np.ones(size),np.cos(phi))  # note this is 2d now\n"
   ]
  },
  {
   "cell_type": "code",
   "execution_count": 86,
   "metadata": {
    "collapsed": false
   },
   "outputs": [],
   "source": [
    "points = np.stack([x,y,z], 2)"
   ]
  },
  {
   "cell_type": "code",
   "execution_count": 87,
   "metadata": {
    "collapsed": false
   },
   "outputs": [],
   "source": [
    "target = np.array([1.0, 1,1])"
   ]
  },
  {
   "cell_type": "code",
   "execution_count": 88,
   "metadata": {
    "collapsed": false
   },
   "outputs": [
    {
     "data": {
      "text/plain": [
       "((200, 200, 3), (3,))"
      ]
     },
     "execution_count": 88,
     "metadata": {},
     "output_type": "execute_result"
    }
   ],
   "source": [
    "points.shape, target.shape"
   ]
  },
  {
   "cell_type": "code",
   "execution_count": 91,
   "metadata": {
    "collapsed": false
   },
   "outputs": [
    {
     "data": {
      "text/plain": [
       "(200, 200)"
      ]
     },
     "execution_count": 91,
     "metadata": {},
     "output_type": "execute_result"
    }
   ],
   "source": [
    "(points@target).shape"
   ]
  },
  {
   "cell_type": "code",
   "execution_count": 108,
   "metadata": {
    "collapsed": false
   },
   "outputs": [],
   "source": [
    "color = cosine_similarity(points, np.array([1.0, 1,1]))"
   ]
  },
  {
   "cell_type": "code",
   "execution_count": 105,
   "metadata": {
    "collapsed": false
   },
   "outputs": [],
   "source": [
    "color = np.exp(cosine_similarity(points, np.array([1.0, 1,1])))"
   ]
  },
  {
   "cell_type": "code",
   "execution_count": 109,
   "metadata": {
    "collapsed": false
   },
   "outputs": [
    {
     "data": {
      "text/plain": [
       "'/home/tucker/Downloads/sphere.html'"
      ]
     },
     "execution_count": 109,
     "metadata": {},
     "output_type": "execute_result"
    }
   ],
   "source": [
    "\n",
    "data = go.Surface(\n",
    "        x=x,\n",
    "        y=y,\n",
    "        z=z,\n",
    "  cmin=0, cmax=3,\n",
    "  surfacecolor=color,\n",
    "    )\n",
    "layout = go.Layout(\n",
    "    title='sphere',\n",
    "    autosize=False,\n",
    "    width=1000,\n",
    "    height=1000,\n",
    ")\n",
    "fig = go.Figure(data=[data], layout=layout)\n",
    "plotly.offline.plot(fig, filename='/home/tucker/Downloads/sphere.html')"
   ]
  },
  {
   "cell_type": "code",
   "execution_count": 272,
   "metadata": {
    "collapsed": false
   },
   "outputs": [],
   "source": [
    "dims = 5"
   ]
  },
  {
   "cell_type": "code",
   "execution_count": 273,
   "metadata": {
    "collapsed": false
   },
   "outputs": [
    {
     "data": {
      "text/plain": [
       "(10002, 100)"
      ]
     },
     "execution_count": 273,
     "metadata": {},
     "output_type": "execute_result"
    }
   ],
   "source": [
    "points.shape"
   ]
  },
  {
   "cell_type": "code",
   "execution_count": 274,
   "metadata": {
    "collapsed": false
   },
   "outputs": [
    {
     "data": {
      "text/plain": [
       "array([[-1., -1., -1., -1., -1.]])"
      ]
     },
     "execution_count": 274,
     "metadata": {},
     "output_type": "execute_result"
    }
   ],
   "source": [
    "-1*np.array([[1.0]*dims])"
   ]
  },
  {
   "cell_type": "code",
   "execution_count": 277,
   "metadata": {
    "collapsed": false
   },
   "outputs": [],
   "source": [
    "points = np.random.rand(100*100,dims)\n",
    "points = np.concatenate([points, -1*np.array([[1.0]*dims]), np.array([[1.0]*dims])], 0)\n",
    "x = cosine_similarity(points, np.array([1.0]*dims)).reshape(-1)\n",
    "y = np.arccos(x)\n",
    "z = np.exp(x)\n",
    "z2 = np.exp(x**2)\n",
    "order = np.argsort(x)\n",
    "z = z[order]\n",
    "z2 = z2[order]\n",
    "x = x[order]\n",
    "y = y[order]\n"
   ]
  },
  {
   "cell_type": "code",
   "execution_count": 277,
   "metadata": {
    "collapsed": false
   },
   "outputs": [],
   "source": []
  },
  {
   "cell_type": "code",
   "execution_count": 278,
   "metadata": {
    "collapsed": false
   },
   "outputs": [
    {
     "data": {
      "text/plain": [
       "'/home/tucker/Downloads/sphere.html'"
      ]
     },
     "execution_count": 278,
     "metadata": {},
     "output_type": "execute_result"
    }
   ],
   "source": [
    "data = go.Scatter(\n",
    "        x=y,\n",
    "        y=x,mode='markers', name='cos'\n",
    "    )\n",
    "data2 = go.Scatter(\n",
    "        x=y,\n",
    "        y=z,mode='markers', name='expcos'\n",
    "    )\n",
    "data3 = go.Scatter(\n",
    "        x=y,\n",
    "        y=-1*np.gradient(z)/np.gradient(y),mode='markers', name='expcos grad'\n",
    "    )\n",
    "data4 = go.Scatter(\n",
    "        x=y,\n",
    "        y=-1*np.gradient(x)/np.gradient(y),mode='markers', name='cos grad'\n",
    "    )\n",
    "data5 = go.Scatter(\n",
    "        x=y,\n",
    "        y=z2,mode='markers', name='new'\n",
    "    )\n",
    "data6 = go.Scatter(\n",
    "        x=y,\n",
    "        y=-1*np.gradient(z2)/np.gradient(y),mode='markers', name='new grad'\n",
    "    )\n",
    "\n",
    "layout = go.Layout(\n",
    "    title='cos',\n",
    "    autosize=False,\n",
    "    width=1000,\n",
    "    height=1000,\n",
    ")\n",
    "fig = go.Figure(data=[data, data2, data3,data4,data5, data6], layout=layout)\n",
    "plotly.offline.plot(fig, filename='/home/tucker/Downloads/sphere.html')"
   ]
  },
  {
   "cell_type": "code",
   "execution_count": 122,
   "metadata": {
    "collapsed": false
   },
   "outputs": [
    {
     "data": {
      "text/plain": [
       "0.0"
      ]
     },
     "execution_count": 122,
     "metadata": {},
     "output_type": "execute_result"
    }
   ],
   "source": []
  },
  {
   "cell_type": "code",
   "execution_count": null,
   "metadata": {
    "collapsed": false
   },
   "outputs": [],
   "source": []
  }
 ],
 "metadata": {
  "kernelspec": {
   "argv": [
    "/usr/bin/python3",
    "-m",
    "ipykernel_launcher",
    "-f",
    "{connection_file}"
   ],
   "display_name": "Python 3",
   "env": null,
   "interrupt_mode": "signal",
   "language": "python",
   "metadata": null,
   "name": "python3"
  },
  "name": "VMFExploration.ipynb"
 },
 "nbformat": 4,
 "nbformat_minor": 2
}
